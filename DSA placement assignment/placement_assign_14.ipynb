{
  "nbformat": 4,
  "nbformat_minor": 0,
  "metadata": {
    "colab": {
      "provenance": []
    },
    "kernelspec": {
      "name": "python3",
      "display_name": "Python 3"
    },
    "language_info": {
      "name": "python"
    }
  },
  "cells": [
    {
      "cell_type": "code",
      "execution_count": 2,
      "metadata": {
        "colab": {
          "base_uri": "https://localhost:8080/"
        },
        "id": "JcXXV3p2YlGS",
        "outputId": "3cf492f4-1ea2-4d17-f017-73a19be67534"
      },
      "outputs": [
        {
          "output_type": "stream",
          "name": "stdout",
          "text": [
            "1 3 4 "
          ]
        }
      ],
      "source": [
        "class Node:\n",
        "    def __init__(self, data):\n",
        "        self.data = data\n",
        "        self.next = None\n",
        "\n",
        "def detectAndRemoveLoop(head):\n",
        "    slowPtr = fastPtr = head\n",
        "\n",
        "    while fastPtr and fastPtr.next:\n",
        "        slowPtr = slowPtr.next\n",
        "        fastPtr = fastPtr.next.next\n",
        "\n",
        "        if slowPtr == fastPtr:\n",
        "            break\n",
        "\n",
        "    if slowPtr != fastPtr:\n",
        "        return head\n",
        "\n",
        "    slowPtr = head\n",
        "\n",
        "    while slowPtr.next != fastPtr.next:\n",
        "        slowPtr = slowPtr.next\n",
        "        fastPtr = fastPtr.next\n",
        "\n",
        "    fastPtr.next = None\n",
        "\n",
        "    return head\n",
        "\n",
        "nodes = [Node(1), Node(3), Node(4)]\n",
        "nodes[0].next = nodes[1]\n",
        "nodes[1].next = nodes[2]\n",
        "nodes[2].next = nodes[1]  # Creating a loop\n",
        "\n",
        "head = nodes[0]\n",
        "\n",
        "modifiedHead = detectAndRemoveLoop(head)\n",
        "\n",
        "temp = modifiedHead\n",
        "while temp:\n",
        "    print(temp.data, end=\" \")\n",
        "    temp = temp.next\n"
      ]
    },
    {
      "cell_type": "code",
      "source": [
        "class Node:\n",
        "    def __init__(self, data):\n",
        "        self.data = data\n",
        "        self.next = None\n",
        "\n",
        "def addOne(head):\n",
        "    curr = head\n",
        "    lastNon9 = None\n",
        "    while curr:\n",
        "        if curr.data != 9:\n",
        "            lastNon9 = curr\n",
        "        curr = curr.next\n",
        "\n",
        "    if lastNon9:\n",
        "        lastNon9.data += 1\n",
        "        curr = lastNon9.next\n",
        "        while curr:\n",
        "            curr.data = 0\n",
        "            curr = curr.next\n",
        "    else:\n",
        "        newHead = Node(1)\n",
        "        newHead.next = head\n",
        "        head = newHead\n",
        "        curr = head.next\n",
        "        while curr:\n",
        "            curr.data = 0\n",
        "            curr = curr.next\n",
        "\n",
        "    return head\n",
        "\n",
        "nodes = [Node(4), Node(5), Node(6)]\n",
        "nodes[0].next = nodes[1]\n",
        "nodes[1].next = nodes[2]\n",
        "\n",
        "head = nodes[0]\n",
        "\n",
        "modifiedHead = addOne(head)\n",
        "\n",
        "number = \"\"\n",
        "temp = modifiedHead\n",
        "while temp:\n",
        "    number += str(temp.data)\n",
        "    temp = temp.next\n",
        "\n",
        "print(number)\n"
      ],
      "metadata": {
        "colab": {
          "base_uri": "https://localhost:8080/"
        },
        "id": "OgdxkZOLY5MK",
        "outputId": "b1c9a42d-fdbf-4db6-ee06-c792db09d06e"
      },
      "execution_count": 3,
      "outputs": [
        {
          "output_type": "stream",
          "name": "stdout",
          "text": [
            "457\n"
          ]
        }
      ]
    },
    {
      "cell_type": "code",
      "source": [
        "class Node:\n",
        "    def __init__(self, data):\n",
        "        self.data = data\n",
        "        self.next = None\n",
        "        self.bottom = None\n",
        "\n",
        "def mergeLists(list1, list2):\n",
        "    # Base cases\n",
        "    if not list1:\n",
        "        return list2\n",
        "    if not list2:\n",
        "        return list1\n",
        "\n",
        "    # Merge two sorted linked lists\n",
        "    result = None\n",
        "    if list1.data <= list2.data:\n",
        "        result = list1\n",
        "        result.bottom = mergeLists(list1.bottom, list2)\n",
        "    else:\n",
        "        result = list2\n",
        "        result.bottom = mergeLists(list1, list2.bottom)\n",
        "\n",
        "    result.next = None\n",
        "    return result\n",
        "\n",
        "def flattenLinkedList(head):\n",
        "    # Base case\n",
        "    if not head or not head.next:\n",
        "        return head\n",
        "\n",
        "    # Recursively flatten the rest of the list\n",
        "    head.next = flattenLinkedList(head.next)\n",
        "\n",
        "    # Merge the current node's bottom list with the flattened list so far\n",
        "    head = mergeLists(head, head.next)\n",
        "\n",
        "    return head\n",
        "\n",
        "# Create the linked list based on the input\n",
        "nodes = [Node(5), Node(10), Node(19), Node(28)]\n",
        "nodes[0].bottom = Node(7)\n",
        "nodes[0].bottom.bottom = Node(8)\n",
        "nodes[0].bottom.bottom.bottom = Node(30)\n",
        "\n",
        "nodes[1].bottom = Node(20)\n",
        "\n",
        "nodes[2].bottom = Node(22)\n",
        "nodes[2].bottom.bottom = Node(50)\n",
        "\n",
        "nodes[3].bottom = Node(35)\n",
        "nodes[3].bottom.bottom = Node(40)\n",
        "nodes[3].bottom.bottom.bottom = Node(45)\n",
        "\n",
        "nodes[0].next = nodes[1]\n",
        "nodes[1].next = nodes[2]\n",
        "nodes[2].next = nodes[3]\n",
        "\n",
        "head = nodes[0]\n",
        "\n",
        "flattenedHead = flattenLinkedList(head)\n",
        "\n",
        "temp = flattenedHead\n",
        "while temp:\n",
        "    print(temp.data, end=\"-> \")\n",
        "    temp = temp.bottom\n",
        "\n",
        "print(\"None\")\n"
      ],
      "metadata": {
        "colab": {
          "base_uri": "https://localhost:8080/"
        },
        "id": "t3IOkSagZgtR",
        "outputId": "81eaf339-a1f5-4951-bd50-9c0deaa11423"
      },
      "execution_count": 4,
      "outputs": [
        {
          "output_type": "stream",
          "name": "stdout",
          "text": [
            "5-> 7-> 8-> 10-> 19-> 20-> 22-> 28-> 30-> 35-> 40-> 45-> 50-> None\n"
          ]
        }
      ]
    },
    {
      "cell_type": "code",
      "source": [
        "class Node:\n",
        "    def __init__(self, data):\n",
        "        self.data = data\n",
        "        self.next = None\n",
        "        self.random = None\n",
        "\n",
        "def copyRandomList(head):\n",
        "    if not head:\n",
        "        return None\n",
        "\n",
        "    # Step 1: Create new nodes and connect them using the next pointer\n",
        "    curr = head\n",
        "    while curr:\n",
        "        new_node = Node(curr.data)\n",
        "        new_node.next = curr.next\n",
        "        curr.next = new_node\n",
        "        curr = new_node.next\n",
        "\n",
        "    # Step 2: Create a mapping between original and new nodes\n",
        "    curr = head\n",
        "    while curr:\n",
        "        curr.next.random = curr.random.next if curr.random else None\n",
        "        curr = curr.next.next\n",
        "\n",
        "    # Step 3: Separate the original and new nodes\n",
        "    curr = head\n",
        "    new_head = head.next\n",
        "    new_curr = new_head\n",
        "    while curr:\n",
        "        curr.next = curr.next.next\n",
        "        new_curr.next = new_curr.next.next if new_curr.next else None\n",
        "        curr = curr.next\n",
        "        new_curr = new_curr.next\n",
        "\n",
        "    return new_head\n",
        "\n",
        "# Create the linked list based on the input\n",
        "nodes = [Node(1), Node(2), Node(3), Node(4), Node(5)]\n",
        "nodes[0].next = nodes[1]\n",
        "nodes[0].random = nodes[3]\n",
        "nodes[1].next = nodes[2]\n",
        "nodes[1].random = nodes[0]\n",
        "nodes[2].next = nodes[3]\n",
        "nodes[2].random = nodes[4]\n",
        "nodes[3].next = nodes[4]\n",
        "nodes[3].random = nodes[1]\n",
        "nodes[4].random = nodes[2]\n",
        "\n",
        "head = nodes[0]\n",
        "\n",
        "new_head = copyRandomList(head)\n",
        "\n",
        "curr = new_head\n",
        "while curr:\n",
        "    print(\"Value:\", curr.data)\n",
        "    if curr.random:\n",
        "        print(\"Random Pointer Value:\", curr.random.data)\n",
        "    else:\n",
        "        print(\"Random Pointer: None\")\n",
        "    print()\n",
        "    curr = curr.next\n"
      ],
      "metadata": {
        "colab": {
          "base_uri": "https://localhost:8080/"
        },
        "id": "Dwcq-JOCaKW3",
        "outputId": "414f5e0d-b2a5-470d-b534-5a6abc358d2f"
      },
      "execution_count": 5,
      "outputs": [
        {
          "output_type": "stream",
          "name": "stdout",
          "text": [
            "Value: 1\n",
            "Random Pointer Value: 4\n",
            "\n",
            "Value: 2\n",
            "Random Pointer Value: 1\n",
            "\n",
            "Value: 3\n",
            "Random Pointer Value: 5\n",
            "\n",
            "Value: 4\n",
            "Random Pointer Value: 2\n",
            "\n",
            "Value: 5\n",
            "Random Pointer Value: 3\n",
            "\n"
          ]
        }
      ]
    },
    {
      "cell_type": "code",
      "source": [
        "class ListNode:\n",
        "    def __init__(self, val=0, next=None):\n",
        "        self.val = val\n",
        "        self.next = next\n",
        "\n",
        "def oddEvenList(head):\n",
        "    if not head or not head.next:\n",
        "        return head\n",
        "\n",
        "    oddHead = odd = head\n",
        "    evenHead = even = head.next\n",
        "\n",
        "    while even and even.next:\n",
        "        odd.next = even.next\n",
        "        odd = odd.next\n",
        "        even.next = odd.next\n",
        "        even = even.next\n",
        "\n",
        "    odd.next = evenHead\n",
        "\n",
        "    return oddHead\n",
        "\n",
        "# Create the linked list based on the input\n",
        "nodes = [ListNode(1), ListNode(2), ListNode(3), ListNode(4), ListNode(5)]\n",
        "nodes[0].next = nodes[1]\n",
        "nodes[1].next = nodes[2]\n",
        "nodes[2].next = nodes[3]\n",
        "nodes[3].next = nodes[4]\n",
        "\n",
        "head = nodes[0]\n",
        "\n",
        "# Reorder the linked list based on odd and even indices\n",
        "reorderedHead = oddEvenList(head)\n",
        "\n",
        "# Print the reordered linked list\n",
        "curr = reorderedHead\n",
        "while curr:\n",
        "    print(curr.val, end=\" -> \")\n",
        "    curr = curr.next\n",
        "\n",
        "print(\"None\")\n"
      ],
      "metadata": {
        "colab": {
          "base_uri": "https://localhost:8080/"
        },
        "id": "W4PPM7vMbPeJ",
        "outputId": "76240de8-8e3b-4173-c3b8-6acb35180064"
      },
      "execution_count": 6,
      "outputs": [
        {
          "output_type": "stream",
          "name": "stdout",
          "text": [
            "1 -> 3 -> 5 -> 2 -> 4 -> None\n"
          ]
        }
      ]
    },
    {
      "cell_type": "code",
      "source": [
        "class ListNode:\n",
        "    def __init__(self, val=0, next=None):\n",
        "        self.val = val\n",
        "        self.next = next\n",
        "\n",
        "def leftShiftLinkedList(head, k):\n",
        "    if not head or not head.next:\n",
        "        return head\n",
        "\n",
        "    # Find the kth node from the beginning\n",
        "    curr = head\n",
        "    for _ in range(k-1):\n",
        "        curr = curr.next\n",
        "\n",
        "    # Set the new head and find the end of the original linked list\n",
        "    new_head = curr.next\n",
        "    curr.next = None\n",
        "    curr = new_head\n",
        "    while curr.next:\n",
        "        curr = curr.next\n",
        "\n",
        "    # Connect the end of the original linked list to the original head\n",
        "    curr.next = head\n",
        "\n",
        "    return new_head\n",
        "\n",
        "# Create the linked list based on the input\n",
        "nodes = [ListNode(1), ListNode(2), ListNode(3), ListNode(4), ListNode(5)]\n",
        "nodes[0].next = nodes[1]\n",
        "nodes[1].next = nodes[2]\n",
        "nodes[2].next = nodes[3]\n",
        "nodes[3].next = nodes[4]\n",
        "\n",
        "head = nodes[0]\n",
        "\n",
        "# Left-shift the linked list by k nodes\n",
        "k = 2\n",
        "shifted_head = leftShiftLinkedList(head, k)\n",
        "\n",
        "# Print the shifted linked list\n",
        "curr = shifted_head\n",
        "while curr:\n",
        "    print(curr.val, end=\" -> \")\n",
        "    curr = curr.next\n",
        "\n",
        "print(\"None\")\n"
      ],
      "metadata": {
        "colab": {
          "base_uri": "https://localhost:8080/"
        },
        "id": "aQf7j7MJcD6Y",
        "outputId": "34835671-7b84-4e20-c1da-758d0bd1d007"
      },
      "execution_count": 7,
      "outputs": [
        {
          "output_type": "stream",
          "name": "stdout",
          "text": [
            "3 -> 4 -> 5 -> 1 -> 2 -> None\n"
          ]
        }
      ]
    },
    {
      "cell_type": "code",
      "source": [
        "class ListNode:\n",
        "    def __init__(self, val=0, next=None):\n",
        "        self.val = val\n",
        "        self.next = next\n",
        "\n",
        "def nextLargerNodes(head):\n",
        "    stack = []\n",
        "    answer = []\n",
        "\n",
        "    # Traverse the linked list from right to left\n",
        "    while head:\n",
        "        while stack and stack[-1][1] <= head.val:\n",
        "            stack.pop()\n",
        "\n",
        "        if stack:\n",
        "            answer.append(stack[-1][1])\n",
        "        else:\n",
        "            answer.append(0)\n",
        "\n",
        "        stack.append((len(answer), head.val))\n",
        "        head = head.next\n",
        "\n",
        "    return answer[::-1]\n",
        "\n",
        "# Create the linked list based on the input\n",
        "nodes = [ListNode(2), ListNode(7), ListNode(4), ListNode(3), ListNode(5)]\n",
        "nodes[0].next = nodes[1]\n",
        "nodes[1].next = nodes[2]\n",
        "nodes[2].next = nodes[3]\n",
        "nodes[3].next = nodes[4]\n",
        "\n",
        "head = nodes[0]\n",
        "\n",
        "# Find the next greater node for each node\n",
        "result = nextLargerNodes(head)\n",
        "\n",
        "# Print the result\n",
        "print(result)\n"
      ],
      "metadata": {
        "colab": {
          "base_uri": "https://localhost:8080/"
        },
        "id": "YUT-dReBcVrg",
        "outputId": "a594317a-31b8-4a6f-b5c8-4baa0c3ca6c8"
      },
      "execution_count": 8,
      "outputs": [
        {
          "output_type": "stream",
          "name": "stdout",
          "text": [
            "[7, 4, 7, 0, 0]\n"
          ]
        }
      ]
    },
    {
      "cell_type": "code",
      "source": [],
      "metadata": {
        "id": "Y6Ovj_jJcjBr"
      },
      "execution_count": null,
      "outputs": []
    }
  ]
}