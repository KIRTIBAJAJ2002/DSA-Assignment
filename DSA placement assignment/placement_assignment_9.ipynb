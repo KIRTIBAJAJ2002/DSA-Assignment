{
  "nbformat": 4,
  "nbformat_minor": 0,
  "metadata": {
    "colab": {
      "provenance": []
    },
    "kernelspec": {
      "name": "python3",
      "display_name": "Python 3"
    },
    "language_info": {
      "name": "python"
    }
  },
  "cells": [
    {
      "cell_type": "code",
      "execution_count": 4,
      "metadata": {
        "colab": {
          "base_uri": "https://localhost:8080/"
        },
        "id": "ncYQy_xAY5gN",
        "outputId": "55a596f0-2f25-403f-e7f8-27c000474a06"
      },
      "outputs": [
        {
          "output_type": "stream",
          "name": "stdout",
          "text": [
            "True\n"
          ]
        }
      ],
      "source": [
        "#1\n",
        "def ispower(n):\n",
        "    return n>0 and (n & (n - 1)) == 0\n",
        "n = 1\n",
        "print(ispower(n))"
      ]
    },
    {
      "cell_type": "code",
      "source": [
        "#2\n",
        "sum = (n * (n + 1)) / 2\n",
        "n=6\n",
        "def sumOfFirstNNumbers(n):\n",
        "    return (n * (n + 1)) // 2\n",
        "print(sumOfFirstNNumbers(n))"
      ],
      "metadata": {
        "colab": {
          "base_uri": "https://localhost:8080/"
        },
        "id": "KsAu7akKZc0I",
        "outputId": "8653f0f3-56e6-4baf-8355-b50ea3a18841"
      },
      "execution_count": 9,
      "outputs": [
        {
          "output_type": "stream",
          "name": "stdout",
          "text": [
            "21\n"
          ]
        }
      ]
    },
    {
      "cell_type": "code",
      "source": [
        "#3\n",
        "def factorial(N):\n",
        "    if N == 0 or N == 1:\n",
        "        return 1\n",
        "    else:\n",
        "        return N * factorial(N - 1)\n",
        "N = 5\n",
        "print(factorial(N))"
      ],
      "metadata": {
        "colab": {
          "base_uri": "https://localhost:8080/"
        },
        "id": "Feg0BjO6aPYC",
        "outputId": "e04de3d9-a7d8-4e6a-dcf3-b9388303aff0"
      },
      "execution_count": 10,
      "outputs": [
        {
          "output_type": "stream",
          "name": "stdout",
          "text": [
            "120\n"
          ]
        }
      ]
    },
    {
      "cell_type": "code",
      "source": [
        "#4\n",
        "N = 5\n",
        "P = 2\n",
        "result = N ** P\n",
        "print(result)  \n"
      ],
      "metadata": {
        "colab": {
          "base_uri": "https://localhost:8080/"
        },
        "id": "7vIXYHTNa0gQ",
        "outputId": "11e17f21-bd93-459c-a7bc-6018acb3b6e0"
      },
      "execution_count": 12,
      "outputs": [
        {
          "output_type": "stream",
          "name": "stdout",
          "text": [
            "25\n"
          ]
        }
      ]
    },
    {
      "cell_type": "code",
      "source": [
        "def find_max(arr, n):\n",
        "    if n == 1:\n",
        "        return arr[0]\n",
        "    else:\n",
        "        max_val = find_max(arr, n-1)\n",
        "        if arr[n-1] > max_val:\n",
        "            return arr[n-1]\n",
        "        else:\n",
        "            return max_val\n",
        "\n",
        "arr = [1, 4, 3, -5, -4, 8, 6]\n",
        "n = len(arr)\n",
        "max_element = find_max(arr, n)\n",
        "print(max_element)  "
      ],
      "metadata": {
        "colab": {
          "base_uri": "https://localhost:8080/"
        },
        "id": "0-pP-afJb8xh",
        "outputId": "64ccf0dc-fbfc-41e8-af76-3e41de2ead06"
      },
      "execution_count": 13,
      "outputs": [
        {
          "output_type": "stream",
          "name": "stdout",
          "text": [
            "8\n"
          ]
        }
      ]
    },
    {
      "cell_type": "code",
      "source": [
        "def find_nth_term(a, d, N):\n",
        "    nth_term = a + (N - 1) * d\n",
        "    return nth_term\n",
        "\n",
        "a = 2\n",
        "d = 1\n",
        "N = 5\n",
        "result = find_nth_term(a, d, N)\n",
        "print(f\"The {N}th term of the series is: {result}\")\n"
      ],
      "metadata": {
        "colab": {
          "base_uri": "https://localhost:8080/"
        },
        "id": "iIlekXDXtUru",
        "outputId": "fa9d6459-1ac2-44b9-9b81-9115cedb019d"
      },
      "execution_count": 15,
      "outputs": [
        {
          "output_type": "stream",
          "name": "stdout",
          "text": [
            "The 5th term of the series is: 6\n"
          ]
        }
      ]
    },
    {
      "cell_type": "code",
      "source": [
        "def permute(s):\n",
        "    if len(s) == 1:\n",
        "        return [s]\n",
        "\n",
        "   \n",
        "    result = []\n",
        "    for i in range(len(s)):\n",
        "        char = s[i]\n",
        "        remaining_chars = s[:i] + s[i+1:]\n",
        "        permutations = permute(remaining_chars)\n",
        "        for perm in permutations:\n",
        "            result.append(char + perm)\n",
        "\n",
        "    return result\n",
        "\n",
        "S = \"ABC\"\n",
        "permutations = permute(S)\n",
        "print(permutations)\n"
      ],
      "metadata": {
        "colab": {
          "base_uri": "https://localhost:8080/"
        },
        "id": "GG0z6LldtxLC",
        "outputId": "a223feb1-1b21-40ef-fe01-740ed69cc30e"
      },
      "execution_count": 17,
      "outputs": [
        {
          "output_type": "stream",
          "name": "stdout",
          "text": [
            "['ABC', 'ACB', 'BAC', 'BCA', 'CAB', 'CBA']\n"
          ]
        }
      ]
    },
    {
      "cell_type": "code",
      "source": [
        "def product_of_array(arr):\n",
        "    product = 1\n",
        "    for num in arr:\n",
        "        product *= num\n",
        "    return product\n",
        "\n",
        "arr = [1, 2, 3, 4, 5]\n",
        "result = product_of_array(arr)\n",
        "print(result)\n"
      ],
      "metadata": {
        "colab": {
          "base_uri": "https://localhost:8080/"
        },
        "id": "xVr5c5htuDWN",
        "outputId": "1f90dff5-8627-4253-a2ba-80887f5dda8b"
      },
      "execution_count": 19,
      "outputs": [
        {
          "output_type": "stream",
          "name": "stdout",
          "text": [
            "120\n"
          ]
        }
      ]
    },
    {
      "cell_type": "code",
      "source": [],
      "metadata": {
        "id": "VSGlVbCJuU5c"
      },
      "execution_count": null,
      "outputs": []
    }
  ]
}