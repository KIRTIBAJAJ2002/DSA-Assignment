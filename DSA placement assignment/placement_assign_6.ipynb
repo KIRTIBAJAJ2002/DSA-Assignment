{
  "nbformat": 4,
  "nbformat_minor": 0,
  "metadata": {
    "colab": {
      "provenance": []
    },
    "kernelspec": {
      "name": "python3",
      "display_name": "Python 3"
    },
    "language_info": {
      "name": "python"
    }
  },
  "cells": [
    {
      "cell_type": "code",
      "execution_count": 1,
      "metadata": {
        "colab": {
          "base_uri": "https://localhost:8080/"
        },
        "id": "ihNrlxMh-K5p",
        "outputId": "12a5209a-5bbd-43ba-8b02-4465f6d28731"
      },
      "outputs": [
        {
          "output_type": "stream",
          "name": "stdout",
          "text": [
            "[0, 4, 1, 3, 2]\n"
          ]
        }
      ],
      "source": [
        "def reconstruct_permutation(s):\n",
        "    n = len(s)\n",
        "    perm = []\n",
        "    low, high = 0, n\n",
        "\n",
        "    for ch in s:\n",
        "        if ch == 'I':\n",
        "            perm.append(low)\n",
        "            low += 1\n",
        "        elif ch == 'D':\n",
        "            perm.append(high)\n",
        "            high -= 1\n",
        "\n",
        "    perm.append(low)\n",
        "\n",
        "    return perm\n",
        "s = \"IDID\"\n",
        "result = reconstruct_permutation(s)\n",
        "print(result)\n"
      ]
    },
    {
      "cell_type": "code",
      "source": [
        "def searchMatrix(matrix, target):\n",
        "    if not matrix or not matrix[0]:\n",
        "        return False\n",
        "\n",
        "    m, n = len(matrix), len(matrix[0])\n",
        "    left, right = 0, m * n - 1\n",
        "\n",
        "    while left <= right:\n",
        "        mid = left + (right - left) // 2\n",
        "        row, col = mid // n, mid % n\n",
        "        if matrix[row][col] == target:\n",
        "            return True\n",
        "        elif matrix[row][col] < target:\n",
        "            left = mid + 1\n",
        "        else:\n",
        "            right = mid - 1\n",
        "\n",
        "    return False\n",
        "matrix = [[1, 3, 5, 7], [10, 11, 16, 20], [23, 30, 34, 60]]\n",
        "target = 3\n",
        "\n",
        "print(searchMatrix(matrix, target))\n"
      ],
      "metadata": {
        "colab": {
          "base_uri": "https://localhost:8080/"
        },
        "id": "9cqGjqFPAOeJ",
        "outputId": "3e3cb3de-fdc3-4e34-8055-01ee3f6e1e84"
      },
      "execution_count": 2,
      "outputs": [
        {
          "output_type": "stream",
          "name": "stdout",
          "text": [
            "True\n"
          ]
        }
      ]
    },
    {
      "cell_type": "code",
      "source": [
        "def validMountainArray(arr):\n",
        "    n = len(arr)\n",
        "\n",
        "    if n < 3:\n",
        "        return False\n",
        "\n",
        "    i, j = 0, n - 1\n",
        "\n",
        "    while i < n - 1 and arr[i] < arr[i + 1]:\n",
        "        i += 1\n",
        "\n",
        "    if i == 0 or i == n - 1:\n",
        "        return False\n",
        "\n",
        "    while j > 0 and arr[j] < arr[j - 1]:\n",
        "        j -= 1\n",
        "\n",
        "    return i == j\n",
        "\n",
        "arr = [2, 1]\n",
        "print(validMountainArray(arr))"
      ],
      "metadata": {
        "colab": {
          "base_uri": "https://localhost:8080/"
        },
        "id": "zKCA60miA7zo",
        "outputId": "f1acef9e-3741-42d9-bcca-d806af10fad8"
      },
      "execution_count": 3,
      "outputs": [
        {
          "output_type": "stream",
          "name": "stdout",
          "text": [
            "False\n"
          ]
        }
      ]
    },
    {
      "cell_type": "code",
      "source": [
        "def findMaxLength(nums):\n",
        "    prefix_sum = {0: -1}\n",
        "    count = 0\n",
        "    max_length = 0\n",
        "\n",
        "    for i, num in enumerate(nums):\n",
        "        if num == 0:\n",
        "            count += 1\n",
        "        else:\n",
        "            count -= 1\n",
        "\n",
        "        if count in prefix_sum:\n",
        "            length = i - prefix_sum[count]\n",
        "            max_length = max(max_length, length)\n",
        "        else:\n",
        "            prefix_sum[count] = i\n",
        "\n",
        "    return max_length\n",
        "nums = [0, 1]\n",
        "print(findMaxLength(nums))\n"
      ],
      "metadata": {
        "colab": {
          "base_uri": "https://localhost:8080/"
        },
        "id": "E1Q3WYQKBzdI",
        "outputId": "8781e94e-8e7e-4ff9-dda7-f75e803c43ff"
      },
      "execution_count": 4,
      "outputs": [
        {
          "output_type": "stream",
          "name": "stdout",
          "text": [
            "2\n"
          ]
        }
      ]
    },
    {
      "cell_type": "code",
      "source": [
        "def minProductSum(nums1, nums2):\n",
        "    nums1.sort()\n",
        "    nums2.sort(reverse=True)\n",
        "    min_product_sum = 0\n",
        "\n",
        "    for i in range(len(nums1)):\n",
        "        min_product_sum += nums1[i] * nums2[i]\n",
        "\n",
        "    return min_product_sum\n",
        "nums1 = [5, 3, 4, 2]\n",
        "nums2 = [4, 2, 2, 5]\n",
        "print(minProductSum(nums1, nums2))\n"
      ],
      "metadata": {
        "colab": {
          "base_uri": "https://localhost:8080/"
        },
        "id": "sNwBnTxaDslV",
        "outputId": "eaa580eb-bc00-4fe6-ae0b-1c6ca76cecbe"
      },
      "execution_count": 5,
      "outputs": [
        {
          "output_type": "stream",
          "name": "stdout",
          "text": [
            "40\n"
          ]
        }
      ]
    },
    {
      "cell_type": "code",
      "source": [
        "def findOriginalArray(changed):\n",
        "    count_map = {}\n",
        "    for num in changed:\n",
        "        count_map[num] = count_map.get(num, 0) + 1\n",
        "\n",
        "    result = []\n",
        "    for num in changed:\n",
        "        if num % 2 == 0 and count_map.get(num, 0) > 0 and count_map.get(num // 2, 0) > 0:\n",
        "            result.append(num // 2)\n",
        "            count_map[num] -= 1\n",
        "            count_map[num // 2] -= 1\n",
        "\n",
        "    for count in count_map.values():\n",
        "        if count > 0:\n",
        "            return []\n",
        "\n",
        "    return result\n",
        "changed = [1, 3, 4, 2, 6, 8]\n",
        "print(findOriginalArray(changed))\n"
      ],
      "metadata": {
        "colab": {
          "base_uri": "https://localhost:8080/"
        },
        "id": "HX-YGYPREgEI",
        "outputId": "56473665-a21d-4b8c-9ff2-c05ee93adc87"
      },
      "execution_count": 6,
      "outputs": [
        {
          "output_type": "stream",
          "name": "stdout",
          "text": [
            "[]\n"
          ]
        }
      ]
    },
    {
      "cell_type": "code",
      "source": [
        "def generateMatrix(n):\n",
        "    result = [[0] * n for _ in range(n)]\n",
        "    row_start = 0\n",
        "    row_end = n - 1\n",
        "    col_start = 0\n",
        "    col_end = n - 1\n",
        "    num = 1\n",
        "\n",
        "    while row_start <= row_end and col_start <= col_end:\n",
        "        # Fill top row\n",
        "        for i in range(col_start, col_end + 1):\n",
        "            result[row_start][i] = num\n",
        "            num += 1\n",
        "        row_start += 1\n",
        "\n",
        "        # Fill rightmost column\n",
        "        for i in range(row_start, row_end + 1):\n",
        "            result[i][col_end] = num\n",
        "            num += 1\n",
        "        col_end -= 1\n",
        "\n",
        "        # Fill bottom row\n",
        "        for i in range(col_end, col_start - 1, -1):\n",
        "            result[row_end][i] = num\n",
        "            num += 1\n",
        "        row_end -= 1\n",
        "\n",
        "        # Fill leftmost column\n",
        "        for i in range(row_end, row_start - 1, -1):\n",
        "            result[i][col_start] = num\n",
        "            num += 1\n",
        "        col_start += 1\n",
        "\n",
        "    return result\n"
      ],
      "metadata": {
        "id": "JytjdHZOE52e"
      },
      "execution_count": 7,
      "outputs": []
    },
    {
      "cell_type": "code",
      "source": [
        "def multiply(mat1, mat2):\n",
        "    m, k = len(mat1), len(mat1[0])\n",
        "    k, n = len(mat2), len(mat2[0])\n",
        "    result = [[0] * n for _ in range(m)]\n",
        "\n",
        "    sparse_mat1 = {}\n",
        "    sparse_mat2 = {}\n",
        "\n",
        "    for i in range(m):\n",
        "        for j in range(k):\n",
        "            if mat1[i][j] != 0:\n",
        "                sparse_mat1[(i, j)] = mat1[i][j]\n",
        "\n",
        "    for i in range(k):\n",
        "        for j in range(n):\n",
        "            if mat2[i][j] != 0:\n",
        "                sparse_mat2[(i, j)] = mat2[i][j]\n",
        "\n",
        "    for (i, j) in sparse_mat1:\n",
        "        for col in range(k):\n",
        "            if (j, col) in sparse_mat2:\n",
        "                result[i][col] += sparse_mat1[(i, j)] * sparse_mat2[(j, col)]\n",
        "\n",
        "    return result\n",
        "\n"
      ],
      "metadata": {
        "id": "zkbt11V8FQpD"
      },
      "execution_count": 8,
      "outputs": []
    },
    {
      "cell_type": "code",
      "source": [],
      "metadata": {
        "id": "STGC2sh-FkOl"
      },
      "execution_count": null,
      "outputs": []
    }
  ]
}