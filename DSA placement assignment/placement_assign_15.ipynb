{
  "nbformat": 4,
  "nbformat_minor": 0,
  "metadata": {
    "colab": {
      "provenance": []
    },
    "kernelspec": {
      "name": "python3",
      "display_name": "Python 3"
    },
    "language_info": {
      "name": "python"
    }
  },
  "cells": [
    {
      "cell_type": "code",
      "execution_count": 1,
      "metadata": {
        "colab": {
          "base_uri": "https://localhost:8080/"
        },
        "id": "cDXWjJ3lYfGr",
        "outputId": "9857d24d-7a06-4009-e27a-584ff6b2e328"
      },
      "outputs": [
        {
          "output_type": "stream",
          "name": "stdout",
          "text": [
            "[8, 8, -1, -1, 5, -1, 3, -1]\n"
          ]
        }
      ],
      "source": [
        "def find_next_greater(arr):\n",
        "    stack = []\n",
        "    result = [-1] * len(arr)\n",
        "\n",
        "    for i in range(len(arr)):\n",
        "        while stack and arr[i] > arr[stack[-1]]:\n",
        "            idx = stack.pop()\n",
        "            result[idx] = arr[i]\n",
        "\n",
        "        stack.append(i)\n",
        "    return result\n",
        "\n",
        "arr = [4, 2, 8, 6, 0, 5, 1, 3]\n",
        "result = find_next_greater(arr)\n",
        "print(result)\n"
      ]
    },
    {
      "cell_type": "code",
      "source": [
        "def find_nearest_smaller(arr):\n",
        "    stack = []\n",
        "    result = []\n",
        "\n",
        "    for num in arr:\n",
        "        while stack and stack[-1] >= num:\n",
        "            stack.pop()\n",
        "\n",
        "        if stack:\n",
        "            result.append(stack[-1])\n",
        "        else:\n",
        "            result.append(-1)\n",
        "\n",
        "        stack.append(num)\n",
        "\n",
        "    return result\n",
        "\n",
        "# Example usage\n",
        "arr = [4, 2, 5, 1, 3, 6]\n",
        "result = find_nearest_smaller(arr)\n",
        "print(result)\n"
      ],
      "metadata": {
        "colab": {
          "base_uri": "https://localhost:8080/"
        },
        "id": "muXxb_27Ytkg",
        "outputId": "8f39b284-35d9-4908-dada-fb3fd4c969ae"
      },
      "execution_count": 2,
      "outputs": [
        {
          "output_type": "stream",
          "name": "stdout",
          "text": [
            "[-1, -1, 2, -1, 1, 3]\n"
          ]
        }
      ]
    },
    {
      "cell_type": "code",
      "source": [
        "from queue import Queue\n",
        "\n",
        "class Stack:\n",
        "    def __init__(self):\n",
        "        self.q1 = Queue()\n",
        "        self.q2 = Queue()\n",
        "\n",
        "    def push(self, value):\n",
        "        self.q2.put(value)\n",
        "\n",
        "        while not self.q1.empty():\n",
        "            self.q2.put(self.q1.get())\n",
        "\n",
        "        self.q1, self.q2 = self.q2, self.q1\n",
        "\n",
        "    def pop(self):\n",
        "        if not self.q1.empty():\n",
        "            return self.q1.get()\n",
        "        else:\n",
        "            return None\n",
        "\n",
        "stack = Stack()\n",
        "stack.push(2)\n",
        "stack.push(3)\n",
        "print(stack.pop())\n",
        "stack.push(4)\n",
        "print(stack.pop())"
      ],
      "metadata": {
        "colab": {
          "base_uri": "https://localhost:8080/"
        },
        "id": "nxikwAhFY7K5",
        "outputId": "166410d6-c1cb-4939-e084-9bfccb436fe5"
      },
      "execution_count": 4,
      "outputs": [
        {
          "output_type": "stream",
          "name": "stdout",
          "text": [
            "3\n",
            "4\n"
          ]
        }
      ]
    },
    {
      "cell_type": "code",
      "source": [
        "def reverse_stack(stack):\n",
        "    if not stack.empty():\n",
        "        element = stack.pop()\n",
        "        reverse_stack(stack)\n",
        "        insert_at_bottom(stack, element)\n",
        "\n",
        "def insert_at_bottom(stack, element):\n",
        "    if stack.empty():\n",
        "        stack.push(element)\n",
        "    else:\n",
        "        top = stack.pop()\n",
        "        insert_at_bottom(stack, element)\n",
        "        stack.push(top)\n",
        "\n",
        "# Example usage\n",
        "from queue import LifoQueue\n",
        "\n",
        "stack = LifoQueue()\n",
        "stack.put(3)\n",
        "stack.put(2)\n",
        "stack.put(1)\n",
        "stack.put(7)\n",
        "stack.put(6)\n",
        "\n",
        "reverse_stack(stack)\n",
        "\n",
        "while not stack.empty():\n",
        "    print(stack.get(), end=' ')\n"
      ],
      "metadata": {
        "id": "qJV63TgvZGXB"
      },
      "execution_count": null,
      "outputs": []
    },
    {
      "cell_type": "code",
      "source": [
        "def reverse_string(string):\n",
        "    stack = []\n",
        "    reversed_string = \"\"\n",
        "\n",
        "    for char in string:\n",
        "        stack.append(char)\n",
        "\n",
        "    while stack:\n",
        "        reversed_string += stack.pop()\n",
        "\n",
        "    return reversed_string\n",
        "\n",
        "S = \"GeeksforGeeks\"\n",
        "reversed_S = reverse_string(S)\n",
        "print(reversed_S)\n"
      ],
      "metadata": {
        "colab": {
          "base_uri": "https://localhost:8080/"
        },
        "id": "6q_xXFTWano6",
        "outputId": "2b6989be-e173-40a0-8bf5-d277abdbd78a"
      },
      "execution_count": 10,
      "outputs": [
        {
          "output_type": "stream",
          "name": "stdout",
          "text": [
            "skeeGrofskeeG\n"
          ]
        }
      ]
    },
    {
      "cell_type": "code",
      "source": [
        "def evaluate_postfix(expression):\n",
        "    stack = []\n",
        "\n",
        "    for char in expression:\n",
        "        if char.isdigit():\n",
        "            stack.append(int(char))\n",
        "        else:\n",
        "            operand2 = stack.pop()\n",
        "            operand1 = stack.pop()\n",
        "            result = perform_operation(operand1, operand2, char)\n",
        "            stack.append(result)\n",
        "\n",
        "    return stack.pop()\n",
        "\n",
        "def perform_operation(operand1, operand2, operator):\n",
        "    if operator == '+':\n",
        "        return operand1 + operand2\n",
        "    elif operator == '-':\n",
        "        return operand1 - operand2\n",
        "    elif operator == '*':\n",
        "        return operand1 * operand2\n",
        "    elif operator == '/':\n",
        "        return operand1 / operand2\n",
        "\n",
        "# Example usage\n",
        "S = \"532*+\"\n",
        "result = evaluate_postfix(S)\n",
        "print(result)\n"
      ],
      "metadata": {
        "colab": {
          "base_uri": "https://localhost:8080/"
        },
        "id": "ZQKiRP7Ga9vv",
        "outputId": "762c3d8e-aae4-48f0-f150-cf2f37e21e27"
      },
      "execution_count": 11,
      "outputs": [
        {
          "output_type": "stream",
          "name": "stdout",
          "text": [
            "11\n"
          ]
        }
      ]
    },
    {
      "cell_type": "code",
      "source": [
        "class MinStack:\n",
        "    def __init__(self):\n",
        "        self.stack = []\n",
        "        self.min_stack = []\n",
        "\n",
        "    def push(self, val):\n",
        "        self.stack.append(val)\n",
        "        if not self.min_stack or val <= self.min_stack[-1]:\n",
        "            self.min_stack.append(val)\n",
        "\n",
        "    def pop(self):\n",
        "        if self.stack:\n",
        "            popped = self.stack.pop()\n",
        "            if popped == self.min_stack[-1]:\n",
        "                self.min_stack.pop()\n",
        "\n",
        "    def top(self):\n",
        "        if self.stack:\n",
        "            return self.stack[-1]\n",
        "\n",
        "    def getMin(self):\n",
        "        if self.min_stack:\n",
        "            return self.min_stack[-1]\n"
      ],
      "metadata": {
        "id": "6b1jPtcbbPIW"
      },
      "execution_count": 12,
      "outputs": []
    },
    {
      "cell_type": "code",
      "source": [
        "def trap(height):\n",
        "    if len(height) < 3:\n",
        "        return 0\n",
        "\n",
        "    left = 0\n",
        "    right = len(height) - 1\n",
        "    left_max = right_max = water = 0\n",
        "\n",
        "    while left < right:\n",
        "        if height[left] < height[right]:\n",
        "            if height[left] > left_max:\n",
        "                left_max = height[left]\n",
        "            else:\n",
        "                water += left_max - height[left]\n",
        "            left += 1\n",
        "        else:\n",
        "            if height[right] > right_max:\n",
        "                right_max = height[right]\n",
        "            else:\n",
        "                water += right_max - height[right]\n",
        "            right -= 1\n",
        "\n",
        "    return water\n"
      ],
      "metadata": {
        "id": "YVq5rVVMbVLF"
      },
      "execution_count": 13,
      "outputs": []
    },
    {
      "cell_type": "code",
      "source": [],
      "metadata": {
        "id": "kfoRjpKmbiKk"
      },
      "execution_count": null,
      "outputs": []
    }
  ]
}