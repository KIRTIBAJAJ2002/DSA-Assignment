{
  "nbformat": 4,
  "nbformat_minor": 0,
  "metadata": {
    "colab": {
      "provenance": []
    },
    "kernelspec": {
      "name": "python3",
      "display_name": "Python 3"
    },
    "language_info": {
      "name": "python"
    }
  },
  "cells": [
    {
      "cell_type": "code",
      "execution_count": 1,
      "metadata": {
        "colab": {
          "base_uri": "https://localhost:8080/"
        },
        "id": "CFQjMpD9ONqm",
        "outputId": "168f01f8-bd33-498c-8d38-665ea8d325b1"
      },
      "outputs": [
        {
          "output_type": "stream",
          "name": "stdout",
          "text": [
            "[[1, 6], [8, 10], [15, 18]]\n"
          ]
        }
      ],
      "source": [
        "#1\n",
        "def merge(intervals):\n",
        "    intervals.sort(key=lambda x: x[0])\n",
        "\n",
        "    result = []\n",
        "    for interval in intervals:\n",
        "        if not result or interval[0] > result[-1][1]:\n",
        "            result.append(interval)\n",
        "        else:\n",
        "            result[-1][1] = max(result[-1][1], interval[1])\n",
        "\n",
        "    return result\n",
        "intervals = [[1, 3], [2, 6], [8, 10], [15, 18]]\n",
        "merged = merge(intervals)\n",
        "print(merged)\n"
      ]
    },
    {
      "cell_type": "code",
      "source": [
        "#2\n",
        "def sortColors(nums):\n",
        "    red_ptr, blue_ptr = 0, len(nums) - 1\n",
        "    curr_ptr = 0\n",
        "\n",
        "    while curr_ptr <= blue_ptr:\n",
        "        if nums[curr_ptr] == 0:\n",
        "            nums[curr_ptr], nums[red_ptr] = nums[red_ptr], nums[curr_ptr]\n",
        "            red_ptr += 1\n",
        "            curr_ptr += 1\n",
        "        elif nums[curr_ptr] == 2:\n",
        "            nums[curr_ptr], nums[blue_ptr] = nums[blue_ptr], nums[curr_ptr]\n",
        "            blue_ptr -= 1\n",
        "        else:\n",
        "            curr_ptr += 1\n",
        "colors = [2, 0, 2, 1, 1, 0]\n",
        "sortColors(colors)\n",
        "print(colors)\n"
      ],
      "metadata": {
        "colab": {
          "base_uri": "https://localhost:8080/"
        },
        "id": "TTm7n4naPQw7",
        "outputId": "ea695700-cd1e-4313-e115-0592976819c8"
      },
      "execution_count": 11,
      "outputs": [
        {
          "output_type": "stream",
          "name": "stdout",
          "text": [
            "[0, 0, 1, 1, 2, 2]\n"
          ]
        }
      ]
    },
    {
      "cell_type": "code",
      "source": [
        "#3\n",
        "def firstBadVersion(n):\n",
        "    left, right = 1, n\n",
        "\n",
        "    while left < right:\n",
        "        mid = left + (right - left) // 2\n",
        "        if isBadVersion(mid):\n",
        "            right = mid\n",
        "        else:\n",
        "            left = mid + 1\n",
        "\n",
        "    return left\n",
        "n = 5\n",
        "first_bad = 4\n",
        "bad_version = firstBadVersion(n)\n",
        "print(bad_version)\n"
      ],
      "metadata": {
        "id": "I81lRUOaQ6X9"
      },
      "execution_count": 3,
      "outputs": []
    },
    {
      "cell_type": "code",
      "source": [
        "#4\n",
        "def maximumGap(nums):\n",
        "    if len(nums) < 2:\n",
        "        return 0\n",
        "\n",
        "    # Perform Radix Sort\n",
        "    max_num = max(nums)\n",
        "    exp = 1\n",
        "    n = len(nums)\n",
        "    output = [0] * n\n",
        "\n",
        "    while max_num // exp > 0:\n",
        "        count = [0] * 10\n",
        "\n",
        "        for i in range(n):\n",
        "            digit = (nums[i] // exp) % 10\n",
        "            count[digit] += 1\n",
        "\n",
        "        for i in range(1, 10):\n",
        "            count[i] += count[i - 1]\n",
        "\n",
        "        for i in range(n - 1, -1, -1):\n",
        "            digit = (nums[i] // exp) % 10\n",
        "            output[count[digit] - 1] = nums[i]\n",
        "            count[digit] -= 1\n",
        "\n",
        "        nums = output[:]\n",
        "        exp *= 10\n",
        "\n",
        "    # Calculate the maximum gap\n",
        "    max_gap = 0\n",
        "    for i in range(1, n):\n",
        "        max_gap = max(max_gap, nums[i] - nums[i - 1])\n",
        "\n",
        "    return max_gap\n",
        "nums = [3, 6, 9, 1]\n",
        "max_gap = maximumGap(nums)\n",
        "print(max_gap)\n"
      ],
      "metadata": {
        "colab": {
          "base_uri": "https://localhost:8080/"
        },
        "id": "kj6epVWPQ8e5",
        "outputId": "b787dad8-969d-4571-a713-aa8727269ed1"
      },
      "execution_count": 4,
      "outputs": [
        {
          "output_type": "stream",
          "name": "stdout",
          "text": [
            "3\n"
          ]
        }
      ]
    },
    {
      "cell_type": "code",
      "source": [
        "#5\n",
        "def containsDuplicate(nums):\n",
        "    num_set = set()\n",
        "\n",
        "    for num in nums:\n",
        "        if num in num_set:\n",
        "            return True\n",
        "        num_set.add(num)\n",
        "\n",
        "    return False\n",
        "nums = [1, 2, 3, 1]\n",
        "has_duplicates = containsDuplicate(nums)\n",
        "print(has_duplicates)\n"
      ],
      "metadata": {
        "colab": {
          "base_uri": "https://localhost:8080/"
        },
        "id": "e73ayRYoROTJ",
        "outputId": "0441d1c0-e3a5-4087-ce00-e0d412c717fa"
      },
      "execution_count": 5,
      "outputs": [
        {
          "output_type": "stream",
          "name": "stdout",
          "text": [
            "True\n"
          ]
        }
      ]
    },
    {
      "cell_type": "code",
      "source": [
        "#6\n",
        "def findMinArrowShots(points):\n",
        "    if not points:\n",
        "        return 0\n",
        "\n",
        "    points.sort(key=lambda x: x[1])\n",
        "    arrows = 1\n",
        "    end = points[0][1]\n",
        "\n",
        "    for i in range(1, len(points)):\n",
        "        if points[i][0] > end:\n",
        "            arrows += 1\n",
        "            end = points[i][1]\n",
        "\n",
        "    return arrows\n",
        "points = [[10,16],[2,8],[1,6],[7,12]]\n",
        "min_arrows = findMinArrowShots(points)\n",
        "print(min_arrows)\n"
      ],
      "metadata": {
        "colab": {
          "base_uri": "https://localhost:8080/"
        },
        "id": "rJ1JtwTIRWoI",
        "outputId": "c92e0c99-11d9-4ec0-f832-47bb8c421bd5"
      },
      "execution_count": 10,
      "outputs": [
        {
          "output_type": "stream",
          "name": "stdout",
          "text": [
            "2\n"
          ]
        }
      ]
    },
    {
      "cell_type": "code",
      "source": [
        "#7\n",
        "def lengthOfLIS(nums):\n",
        "    if not nums:\n",
        "        return 0\n",
        "\n",
        "    n = len(nums)\n",
        "    dp = [1] * n\n",
        "\n",
        "    for i in range(1, n):\n",
        "        for j in range(i):\n",
        "            if nums[i] > nums[j]:\n",
        "                dp[i] = max(dp[i], dp[j] + 1)\n",
        "\n",
        "    return max(dp)\n",
        "\n",
        "nums = [10, 9, 2, 5, 3, 7, 101, 18]\n",
        "length = lengthOfLIS(nums)\n",
        "print(length)\n"
      ],
      "metadata": {
        "colab": {
          "base_uri": "https://localhost:8080/"
        },
        "id": "BbCoiGGpRj10",
        "outputId": "54392694-1423-4b36-ddfe-b502202d4ae2"
      },
      "execution_count": 9,
      "outputs": [
        {
          "output_type": "stream",
          "name": "stdout",
          "text": [
            "4\n"
          ]
        }
      ]
    },
    {
      "cell_type": "code",
      "source": [
        "#8\n",
        "def find132pattern(nums):\n",
        "    n = len(nums)\n",
        "    stack = []\n",
        "    s3 = float('-inf')\n",
        "\n",
        "    for i in range(n - 1, -1, -1):\n",
        "        if nums[i] < s3:\n",
        "            return True\n",
        "        while stack and stack[-1] < nums[i]:\n",
        "            s3 = stack.pop()\n",
        "        stack.append(nums[i])\n",
        "\n",
        "    return False\n",
        "nums = [1, 2, 3, 4]\n",
        "pattern_exists = find132pattern(nums)\n",
        "print(pattern_exists)\n"
      ],
      "metadata": {
        "colab": {
          "base_uri": "https://localhost:8080/"
        },
        "id": "VQi7AzLXRr2C",
        "outputId": "ca6e745d-6d6f-4a59-ef76-66c48b8d27cc"
      },
      "execution_count": 8,
      "outputs": [
        {
          "output_type": "stream",
          "name": "stdout",
          "text": [
            "False\n"
          ]
        }
      ]
    },
    {
      "cell_type": "code",
      "source": [],
      "metadata": {
        "id": "b3SSVXFFRvsZ"
      },
      "execution_count": null,
      "outputs": []
    }
  ]
}