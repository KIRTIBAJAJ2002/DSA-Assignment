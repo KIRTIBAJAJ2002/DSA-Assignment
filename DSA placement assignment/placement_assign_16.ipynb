{
  "nbformat": 4,
  "nbformat_minor": 0,
  "metadata": {
    "colab": {
      "provenance": []
    },
    "kernelspec": {
      "name": "python3",
      "display_name": "Python 3"
    },
    "language_info": {
      "name": "python"
    }
  },
  "cells": [
    {
      "cell_type": "code",
      "execution_count": 1,
      "metadata": {
        "id": "827H3xRgbtQ7",
        "colab": {
          "base_uri": "https://localhost:8080/"
        },
        "outputId": "80a2c60f-5519-4c57-b882-727193d37406"
      },
      "outputs": [
        {
          "output_type": "stream",
          "name": "stdout",
          "text": [
            "[-1, -1, 1, 2, 2, 1, -1]\n"
          ]
        }
      ],
      "source": [
        "def find_nearest_greater_frequency(arr):\n",
        "    n = len(arr)\n",
        "    frequency = {}\n",
        "    stack = []\n",
        "    result = [-1] * n\n",
        "\n",
        "    for i in range(n-1, -1, -1):\n",
        "        if arr[i] in frequency:\n",
        "            frequency[arr[i]] += 1\n",
        "        else:\n",
        "            frequency[arr[i]] = 1\n",
        "\n",
        "    for i in range(n-1, -1, -1):\n",
        "        while stack and frequency[arr[i]] >= frequency[stack[-1]]:\n",
        "            stack.pop()\n",
        "\n",
        "        if stack:\n",
        "            result[i] = stack[-1]\n",
        "\n",
        "        stack.append(arr[i])\n",
        "\n",
        "    return result\n",
        "\n",
        "arr = [1, 1, 2, 3, 4, 2, 1]\n",
        "output = find_nearest_greater_frequency(arr)\n",
        "print(output)\n"
      ]
    },
    {
      "cell_type": "code",
      "source": [
        "def sort_stack(stack):\n",
        "    temp_stack = []\n",
        "\n",
        "    while stack:\n",
        "        temp = stack.pop()\n",
        "\n",
        "        while temp_stack and temp_stack[-1] > temp:\n",
        "            stack.append(temp_stack.pop())\n",
        "\n",
        "        temp_stack.append(temp)\n",
        "\n",
        "    sorted_stack = []\n",
        "    while temp_stack:\n",
        "        sorted_stack.append(temp_stack.pop())\n",
        "\n",
        "    return sorted_stack\n",
        "\n",
        "# Example usage\n",
        "stack = [5, 2, 9, 1, 3]\n",
        "sorted_stack = sort_stack(stack)\n",
        "print(sorted_stack)\n"
      ],
      "metadata": {
        "colab": {
          "base_uri": "https://localhost:8080/"
        },
        "id": "Akl5G6Bs2QAI",
        "outputId": "39c45d2d-8429-4ac3-c705-215214ea655f"
      },
      "execution_count": 2,
      "outputs": [
        {
          "output_type": "stream",
          "name": "stdout",
          "text": [
            "[9, 5, 3, 2, 1]\n"
          ]
        }
      ]
    },
    {
      "cell_type": "code",
      "source": [
        "def delete_middle(stack, current_index):\n",
        "    if current_index == 1:\n",
        "        stack.pop()\n",
        "        return\n",
        "\n",
        "    temp = stack.pop()\n",
        "    delete_middle(stack, current_index - 1)\n",
        "    stack.append(temp)\n",
        "\n",
        "def delete_middle_element(stack):\n",
        "    size = len(stack)\n",
        "    middle_index = (size // 2) + 1\n",
        "\n",
        "    delete_middle(stack, middle_index)\n",
        "\n",
        "stack = [1, 2, 3, 4, 5]\n",
        "delete_middle_element(stack)\n",
        "print(stack)\n",
        "\n",
        "stack = [1, 2, 3, 4, 5, 6]\n",
        "delete_middle_element(stack)\n",
        "print(stack)\n"
      ],
      "metadata": {
        "colab": {
          "base_uri": "https://localhost:8080/"
        },
        "id": "2iFkVVnG2goY",
        "outputId": "e3dd6ae2-02c0-48be-dec2-a024ea78a2c1"
      },
      "execution_count": 4,
      "outputs": [
        {
          "output_type": "stream",
          "name": "stdout",
          "text": [
            "[1, 2, 4, 5]\n",
            "[1, 2, 4, 5, 6]\n"
          ]
        }
      ]
    },
    {
      "cell_type": "code",
      "source": [
        "from queue import Queue\n",
        "\n",
        "def check_queue_elements(queue):\n",
        "    stack = []\n",
        "    second_queue = Queue()\n",
        "    expected_element = 1\n",
        "\n",
        "    while not queue.empty():\n",
        "        front_element = queue.queue[0]\n",
        "\n",
        "        if front_element == expected_element:\n",
        "            second_queue.put(front_element)\n",
        "            queue.get()\n",
        "            expected_element += 1\n",
        "        else:\n",
        "            if len(stack) == 0 or stack[-1] < front_element:\n",
        "                stack.append(front_element)\n",
        "                queue.get()\n",
        "            else:\n",
        "                return \"No\"\n",
        "\n",
        "    while len(stack) > 0:\n",
        "        if stack[-1] == expected_element:\n",
        "            second_queue.put(stack.pop())\n",
        "            expected_element += 1\n",
        "        else:\n",
        "            return \"No\"\n",
        "\n",
        "    return \"Yes\"\n",
        "\n",
        "\n",
        "queue = Queue()\n",
        "queue.put(5)\n",
        "queue.put(1)\n",
        "queue.put(2)\n",
        "queue.put(3)\n",
        "queue.put(4)\n",
        "output = check_queue_elements(queue)\n",
        "print(output)\n"
      ],
      "metadata": {
        "colab": {
          "base_uri": "https://localhost:8080/"
        },
        "id": "zYBm_LAM2xV8",
        "outputId": "2553eb33-b08f-433a-f8bd-ef1b04e3a38e"
      },
      "execution_count": 5,
      "outputs": [
        {
          "output_type": "stream",
          "name": "stdout",
          "text": [
            "Yes\n"
          ]
        }
      ]
    },
    {
      "cell_type": "code",
      "source": [
        "def reverse_number(number):\n",
        "    number_str = str(number)\n",
        "    stack = []\n",
        "\n",
        "    for digit in number_str:\n",
        "        stack.append(digit)\n",
        "\n",
        "    reversed_number_str = \"\"\n",
        "\n",
        "    while stack:\n",
        "        reversed_number_str += stack.pop()\n",
        "\n",
        "    reversed_number = int(reversed_number_str)\n",
        "\n",
        "    return reversed_number\n",
        "\n",
        "# Example usage\n",
        "number = 12345\n",
        "reversed_number = reverse_number(number)\n",
        "print(reversed_number)\n"
      ],
      "metadata": {
        "colab": {
          "base_uri": "https://localhost:8080/"
        },
        "id": "l7AOMNCB3DKb",
        "outputId": "c91ad137-c2db-483a-ee30-6414d7c2f395"
      },
      "execution_count": 7,
      "outputs": [
        {
          "output_type": "stream",
          "name": "stdout",
          "text": [
            "54321\n"
          ]
        }
      ]
    },
    {
      "cell_type": "code",
      "source": [
        "from queue import Queue\n",
        "\n",
        "def reverse_k_elements(queue, k):\n",
        "    if queue.empty() or k <= 0 or k > queue.qsize():\n",
        "        return\n",
        "\n",
        "    stack = []\n",
        "    n = queue.qsize()\n",
        "\n",
        "    for i in range(k):\n",
        "        stack.append(queue.get())\n",
        "\n",
        "    while stack:\n",
        "        queue.put(stack.pop())\n",
        "\n",
        "    for i in range(n - k):\n",
        "        queue.put(queue.get())\n",
        "\n",
        "queue = Queue()\n",
        "queue.put(1)\n",
        "queue.put(2)\n",
        "queue.put(3)\n",
        "queue.put(4)\n",
        "queue.put(5)\n",
        "\n",
        "k = 3\n",
        "reverse_k_elements(queue, k)\n",
        "\n",
        "while not queue.empty():\n",
        "    print(queue.get(), end=\" \")\n"
      ],
      "metadata": {
        "colab": {
          "base_uri": "https://localhost:8080/"
        },
        "id": "d-q4CGEM3MVo",
        "outputId": "fec67516-2523-41e3-cbf1-b28680cd55a5"
      },
      "execution_count": 8,
      "outputs": [
        {
          "output_type": "stream",
          "name": "stdout",
          "text": [
            "3 2 1 4 5 "
          ]
        }
      ]
    },
    {
      "cell_type": "code",
      "source": [
        "def count_remaining_words(sequence):\n",
        "    stack = []\n",
        "\n",
        "    for word in sequence:\n",
        "        if not stack:\n",
        "            stack.append(word)\n",
        "        elif word == stack[-1]:\n",
        "            stack.pop()\n",
        "        else:\n",
        "            stack.append(word)\n",
        "\n",
        "    return len(stack)\n",
        "\n",
        "sequence = [\"ab\", \"aa\", \"aa\", \"bcd\", \"ab\"]\n",
        "remaining_words = count_remaining_words(sequence)\n",
        "print(remaining_words)\n",
        "\n",
        "sequence = [\"tom\", \"jerry\", \"jerry\", \"tom\"]\n",
        "remaining_words = count_remaining_words(sequence)\n",
        "print(remaining_words)\n"
      ],
      "metadata": {
        "colab": {
          "base_uri": "https://localhost:8080/"
        },
        "id": "yhm3d6zF3bcI",
        "outputId": "3583caca-934f-4762-8d2e-e5a28659fd85"
      },
      "execution_count": 10,
      "outputs": [
        {
          "output_type": "stream",
          "name": "stdout",
          "text": [
            "3\n",
            "0\n"
          ]
        }
      ]
    },
    {
      "cell_type": "code",
      "source": [],
      "metadata": {
        "id": "PywquQn43lYu"
      },
      "execution_count": null,
      "outputs": []
    }
  ]
}