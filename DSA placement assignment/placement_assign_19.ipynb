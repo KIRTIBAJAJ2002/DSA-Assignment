{
  "nbformat": 4,
  "nbformat_minor": 0,
  "metadata": {
    "colab": {
      "provenance": []
    },
    "kernelspec": {
      "name": "python3",
      "display_name": "Python 3"
    },
    "language_info": {
      "name": "python"
    }
  },
  "cells": [
    {
      "cell_type": "code",
      "execution_count": 2,
      "metadata": {
        "colab": {
          "base_uri": "https://localhost:8080/"
        },
        "id": "zOGb3HJGR_nG",
        "outputId": "34137d15-1e4d-40fd-83e3-6956877e4883"
      },
      "outputs": [
        {
          "output_type": "stream",
          "name": "stdout",
          "text": [
            "1 1 2 3 4 4 5 6 "
          ]
        }
      ],
      "source": [
        "#1\n",
        "import heapq\n",
        "\n",
        "class ListNode:\n",
        "    def __init__(self, val=0, next=None):\n",
        "        self.val = val\n",
        "        self.next = next\n",
        "\n",
        "def mergeKLists(lists):\n",
        "    heap = []\n",
        "    for i in range(len(lists)):\n",
        "        if lists[i]:\n",
        "            heapq.heappush(heap, (lists[i].val, i))\n",
        "\n",
        "    # Create a dummy node to build the merged list\n",
        "    dummy = ListNode()\n",
        "    curr = dummy\n",
        "\n",
        "    while heap:\n",
        "        val, idx = heapq.heappop(heap)\n",
        "        curr.next = ListNode(val)\n",
        "        curr = curr.next\n",
        "        lists[idx] = lists[idx].next\n",
        "        if lists[idx]:\n",
        "            heapq.heappush(heap, (lists[idx].val, idx))\n",
        "\n",
        "    return dummy.next\n",
        "list1 = ListNode(1, ListNode(4, ListNode(5)))\n",
        "list2 = ListNode(1, ListNode(3, ListNode(4)))\n",
        "list3 = ListNode(2, ListNode(6))\n",
        "lists = [list1, list2, list3]\n",
        "\n",
        "merged = mergeKLists(lists)\n",
        "\n",
        "while merged:\n",
        "    print(merged.val, end=' ')\n",
        "    merged = merged.next\n"
      ]
    },
    {
      "cell_type": "code",
      "source": [
        "#2\n",
        "def countSmaller(nums):\n",
        "    def mergeSortWithCount(nums, start, end, counts):\n",
        "        if start >= end:\n",
        "            return [nums[start]]\n",
        "\n",
        "        mid = (start + end) // 2\n",
        "        left = mergeSortWithCount(nums, start, mid, counts)\n",
        "        right = mergeSortWithCount(nums, mid + 1, end, counts)\n",
        "        merged = []\n",
        "\n",
        "        i, j = 0, 0\n",
        "        while i < len(left) and j < len(right):\n",
        "            if left[i] > right[j]:\n",
        "                merged.append(right[j])\n",
        "                counts[left[i][1]] += len(right) - j\n",
        "                j += 1\n",
        "            else:\n",
        "                merged.append(left[i])\n",
        "                i += 1\n",
        "\n",
        "        merged.extend(left[i:])\n",
        "        merged.extend(right[j:])\n",
        "        return merged\n",
        "\n",
        "    counts = [0] * len(nums)\n",
        "    mergeSortWithCount(list(enumerate(nums)), 0, len(nums) - 1, counts)\n",
        "    return counts\n",
        "nums = [5, 2, 6, 1]\n",
        "counts = countSmaller(nums)\n",
        "print(counts)\n",
        "\n"
      ],
      "metadata": {
        "colab": {
          "base_uri": "https://localhost:8080/"
        },
        "id": "sPqaz6kiSbCt",
        "outputId": "70118dce-cd9c-4ea1-ea23-5d7a4734c2ed"
      },
      "execution_count": 5,
      "outputs": [
        {
          "output_type": "stream",
          "name": "stdout",
          "text": [
            "[0, 0, 0, 0]\n"
          ]
        }
      ]
    },
    {
      "cell_type": "code",
      "source": [
        "#3\n",
        "def merge(nums, left, mid, right):\n",
        "    n1 = mid - left + 1\n",
        "    n2 = right - mid\n",
        "\n",
        "    L = [0] * n1\n",
        "    R = [0] * n2\n",
        "\n",
        "    for i in range(n1):\n",
        "        L[i] = nums[left + i]\n",
        "    for j in range(n2):\n",
        "        R[j] = nums[mid + 1 + j]\n",
        "\n",
        "\n",
        "    i = 0\n",
        "    j = 0\n",
        "    k = left\n",
        "\n",
        "    while i < n1 and j < n2:\n",
        "        if L[i] <= R[j]:\n",
        "            nums[k] = L[i]\n",
        "            i += 1\n",
        "        else:\n",
        "            nums[k] = R[j]\n",
        "            j += 1\n",
        "        k += 1\n",
        "\n",
        "    while i < n1:\n",
        "        nums[k] = L[i]\n",
        "        i += 1\n",
        "        k += 1\n",
        "\n",
        "    while j < n2:\n",
        "        nums[k] = R[j]\n",
        "        j += 1\n",
        "        k += 1\n",
        "\n",
        "def mergeSort(nums, left, right):\n",
        "    if left < right:\n",
        "        mid = (left + right) // 2\n",
        "\n",
        "        mergeSort(nums, left, mid)\n",
        "        mergeSort(nums, mid + 1, right)\n",
        "\n",
        "        merge(nums, left, mid, right)\n",
        "\n",
        "def sortArray(nums):\n",
        "    mergeSort(nums, 0, len(nums) - 1)\n",
        "    return nums\n",
        "nums = [5, 2, 6, 1, 3]\n",
        "sorted_nums = sortArray(nums)\n",
        "print(sorted_nums)\n"
      ],
      "metadata": {
        "colab": {
          "base_uri": "https://localhost:8080/"
        },
        "id": "ahZ6nsViSqfE",
        "outputId": "7c3f766d-c18e-43fa-ca37-4ab2b2fae8b2"
      },
      "execution_count": 4,
      "outputs": [
        {
          "output_type": "stream",
          "name": "stdout",
          "text": [
            "[1, 2, 3, 5, 6]\n"
          ]
        }
      ]
    },
    {
      "cell_type": "code",
      "source": [
        "#4\n",
        "def moveZeroes(nums):\n",
        "    left = 0\n",
        "    right = 0\n",
        "\n",
        "    while right < len(nums):\n",
        "        if nums[right] != 0:\n",
        "            nums[left], nums[right] = nums[right], nums[left]\n",
        "            left += 1\n",
        "        right += 1\n",
        "\n",
        "    return nums\n",
        "nums = [1, 9, 8, 4, 0, 0, 2, 7, 0, 6, 0]\n",
        "result = moveZeroes(nums)\n",
        "print(result)\n"
      ],
      "metadata": {
        "colab": {
          "base_uri": "https://localhost:8080/"
        },
        "id": "wBL36jROS8k8",
        "outputId": "ccbecd48-3150-4ba4-d10d-1020133be3a9"
      },
      "execution_count": 6,
      "outputs": [
        {
          "output_type": "stream",
          "name": "stdout",
          "text": [
            "[1, 9, 8, 4, 2, 7, 6, 0, 0, 0, 0]\n"
          ]
        }
      ]
    },
    {
      "cell_type": "code",
      "source": [
        "#5\n",
        "def rearrangeArray(nums):\n",
        "    positive = 0\n",
        "    negative = 0\n",
        "\n",
        "    while positive < len(nums) and negative < len(nums):\n",
        "        while positive < len(nums) and nums[positive] >= 0:\n",
        "            positive += 1\n",
        "\n",
        "        while negative < len(nums) and nums[negative] < 0:\n",
        "            negative += 1\n",
        "\n",
        "        if positive < len(nums) and negative < len(nums):\n",
        "            nums[positive], nums[negative] = nums[negative], nums[positive]\n",
        "            positive += 1\n",
        "            negative += 2\n",
        "\n",
        "    return nums\n",
        "arr1 = [1, 2, 3, -4, -1, 4]\n",
        "result1 = rearrangeArray(arr1)\n",
        "print(result1)\n",
        "\n",
        "arr2 = [-5, -2, 5, 2, 4, 7, 1, 8, 0, -8]\n",
        "result2 = rearrangeArray(arr2)\n",
        "print(result2)\n"
      ],
      "metadata": {
        "colab": {
          "base_uri": "https://localhost:8080/"
        },
        "id": "P_I7OBA5Th8W",
        "outputId": "3b051f24-0779-43c3-c4fe-f702be6eabe9"
      },
      "execution_count": 11,
      "outputs": [
        {
          "output_type": "stream",
          "name": "stdout",
          "text": [
            "[-4, 2, -1, 1, 3, 4]\n",
            "[5, 4, 1, 2, 0, 7, -5, 8, -2, -8]\n"
          ]
        }
      ]
    },
    {
      "cell_type": "code",
      "source": [
        "#6\n",
        "def mergeArrays(arr1, arr2):\n",
        "    n1 = len(arr1)\n",
        "    n2 = len(arr2)\n",
        "    arr3 = [0] * (n1 + n2)\n",
        "    i = j = k = 0\n",
        "\n",
        "    while i < n1 and j < n2:\n",
        "        if arr1[i] <= arr2[j]:\n",
        "            arr3[k] = arr1[i]\n",
        "            i += 1\n",
        "        else:\n",
        "            arr3[k] = arr2[j]\n",
        "            j += 1\n",
        "        k += 1\n",
        "\n",
        "    while i < n1:\n",
        "        arr3[k] = arr1[i]\n",
        "        i += 1\n",
        "        k += 1\n",
        "\n",
        "    while j < n2:\n",
        "        arr3[k] = arr2[j]\n",
        "        j += 1\n",
        "        k += 1\n",
        "\n",
        "    return arr3\n",
        "arr1 = [1, 3, 4, 5]\n",
        "arr2 = [2, 4, 6, 8]\n",
        "result1 = mergeArrays(arr1, arr2)\n",
        "print(result1)\n",
        "\n",
        "arr3 = [5, 8, 9]\n",
        "arr4 = [4, 7, 8]\n",
        "result2 = mergeArrays(arr3, arr4)\n",
        "print(result2)\n"
      ],
      "metadata": {
        "colab": {
          "base_uri": "https://localhost:8080/"
        },
        "id": "BpO2C6Z_ToMH",
        "outputId": "a0f32c28-2b5d-47a2-ec1e-3198d3fc1aa0"
      },
      "execution_count": 9,
      "outputs": [
        {
          "output_type": "stream",
          "name": "stdout",
          "text": [
            "[1, 2, 3, 4, 4, 5, 6, 8]\n",
            "[4, 5, 7, 8, 8, 9]\n"
          ]
        }
      ]
    },
    {
      "cell_type": "code",
      "source": [
        "#7\n",
        "def intersection(nums1, nums2):\n",
        "    set1 = set(nums1)\n",
        "    set2 = set()\n",
        "\n",
        "    for num in nums2:\n",
        "        if num in set1:\n",
        "            set2.add(num)\n",
        "\n",
        "    return list(set2)\n",
        "nums1 = [1, 2, 2, 1]\n",
        "nums2 = [2, 2]\n",
        "result = intersection(nums1, nums2)\n",
        "print(result)\n"
      ],
      "metadata": {
        "colab": {
          "base_uri": "https://localhost:8080/"
        },
        "id": "LDyZBrZ5Tx_X",
        "outputId": "be1e951f-88f1-417c-f1ce-64de9578831e"
      },
      "execution_count": 8,
      "outputs": [
        {
          "output_type": "stream",
          "name": "stdout",
          "text": [
            "[2]\n"
          ]
        }
      ]
    },
    {
      "cell_type": "code",
      "source": [
        "#8\n",
        "from collections import defaultdict\n",
        "\n",
        "def intersect(nums1, nums2):\n",
        "    freq = defaultdict(int)\n",
        "    for num in nums1:\n",
        "        freq[num] += 1\n",
        "\n",
        "    result = []\n",
        "    for num in nums2:\n",
        "        if num in freq and freq[num] > 0:\n",
        "            result.append(num)\n",
        "            freq[num] -= 1\n",
        "\n",
        "    return result\n",
        "nums1 = [1, 2, 2, 1]\n",
        "nums2 = [2, 2]\n",
        "result = intersect(nums1, nums2)\n",
        "print(result)\n"
      ],
      "metadata": {
        "colab": {
          "base_uri": "https://localhost:8080/"
        },
        "id": "JJsb2d9JUIOe",
        "outputId": "6c9f61f0-1d16-42d1-dfbd-8446d1217f13"
      },
      "execution_count": 10,
      "outputs": [
        {
          "output_type": "stream",
          "name": "stdout",
          "text": [
            "[2, 2]\n"
          ]
        }
      ]
    },
    {
      "cell_type": "code",
      "source": [],
      "metadata": {
        "id": "ET5b7lYJUMSE"
      },
      "execution_count": null,
      "outputs": []
    }
  ]
}