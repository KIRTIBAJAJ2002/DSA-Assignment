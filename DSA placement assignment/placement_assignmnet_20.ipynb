{
  "nbformat": 4,
  "nbformat_minor": 0,
  "metadata": {
    "colab": {
      "provenance": []
    },
    "kernelspec": {
      "name": "python3",
      "display_name": "Python 3"
    },
    "language_info": {
      "name": "python"
    }
  },
  "cells": [
    {
      "cell_type": "code",
      "execution_count": 1,
      "metadata": {
        "colab": {
          "base_uri": "https://localhost:8080/"
        },
        "id": "nAgvMAD7U_GS",
        "outputId": "aab43184-bedf-4fbe-f7b8-0042c6da032e"
      },
      "outputs": [
        {
          "output_type": "stream",
          "name": "stdout",
          "text": [
            "28\n"
          ]
        }
      ],
      "source": [
        "#1\n",
        "class TreeNode:\n",
        "    def __init__(self, val=0, left=None, right=None):\n",
        "        self.val = val\n",
        "        self.left = left\n",
        "        self.right = right\n",
        "\n",
        "def maxSubtreeSum(root):\n",
        "    if root is None:\n",
        "        return 0\n",
        "\n",
        "    left_sum = maxSubtreeSum(root.left)\n",
        "    right_sum = maxSubtreeSum(root.right)\n",
        "\n",
        "    subtree_sum = root.val + left_sum + right_sum\n",
        "\n",
        "    if subtree_sum > maxSubtreeSum.maxSum:\n",
        "        maxSubtreeSum.maxSum = subtree_sum\n",
        "\n",
        "    return subtree_sum\n",
        "\n",
        "def findMaxSubtreeSum(root):\n",
        "    maxSubtreeSum.maxSum = float('-inf')\n",
        "    maxSubtreeSum(root)\n",
        "    return maxSubtreeSum.maxSum\n",
        "root = TreeNode(1)\n",
        "root.left = TreeNode(2)\n",
        "root.right = TreeNode(3)\n",
        "root.left.left = TreeNode(4)\n",
        "root.left.right = TreeNode(5)\n",
        "root.right.left = TreeNode(6)\n",
        "root.right.right = TreeNode(7)\n",
        "\n",
        "max_sum = findMaxSubtreeSum(root)\n",
        "print(max_sum)\n"
      ]
    },
    {
      "cell_type": "code",
      "source": [
        "#2\n",
        "class TreeNode:\n",
        "    def __init__(self, val=0, left=None, right=None):\n",
        "        self.val = val\n",
        "        self.left = left\n",
        "        self.right = right\n",
        "\n",
        "def constructBST(arr):\n",
        "    if not arr:\n",
        "        return None\n",
        "\n",
        "    root = TreeNode(arr[0])\n",
        "    queue = [root]\n",
        "    index = 1\n",
        "\n",
        "    while index < len(arr):\n",
        "        node = queue.pop(0)\n",
        "\n",
        "        if index < len(arr):\n",
        "            left_val = arr[index]\n",
        "            if left_val is not None:\n",
        "                left_child = TreeNode(left_val)\n",
        "                node.left = left_child\n",
        "                queue.append(left_child)\n",
        "            index += 1\n",
        "\n",
        "        if index < len(arr):\n",
        "            right_val = arr[index]\n",
        "            if right_val is not None:\n",
        "                right_child = TreeNode(right_val)\n",
        "                node.right = right_child\n",
        "                queue.append(right_child)\n",
        "            index += 1\n",
        "\n",
        "    return root\n",
        "arr = [7, 4, 12, 3, 6, 8, 1, 5, 10]\n",
        "root = constructBST(arr)\n"
      ],
      "metadata": {
        "id": "2djbbeZ5VUHT"
      },
      "execution_count": 2,
      "outputs": []
    },
    {
      "cell_type": "code",
      "source": [
        "#3\n",
        "def isLevelOrderBST(arr):\n",
        "    if not arr:\n",
        "        return True\n",
        "\n",
        "    n = len(arr)\n",
        "    i = 0\n",
        "\n",
        "    root = arr[0]\n",
        "    i += 1\n",
        "\n",
        "    stack = [root]\n",
        "\n",
        "    while i < n:\n",
        "        curr = arr[i]\n",
        "\n",
        "        if curr < stack[-1]:\n",
        "            stack.append(curr)\n",
        "        else:\n",
        "            while stack and curr > stack[-1]:\n",
        "                last = stack.pop()\n",
        "\n",
        "            if stack and curr < stack[-1]:\n",
        "                return False\n",
        "\n",
        "            stack.append(curr)\n",
        "\n",
        "        i += 1\n",
        "\n",
        "    return True\n",
        "arr = [7, 4, 12, 3, 6, 8, 1, 5, 10]\n",
        "result = isLevelOrderBST(arr)\n",
        "print(result)\n"
      ],
      "metadata": {
        "colab": {
          "base_uri": "https://localhost:8080/"
        },
        "id": "Y4yN_6YrV6Jj",
        "outputId": "d2674473-8b27-4911-b989-01c919f0061b"
      },
      "execution_count": 3,
      "outputs": [
        {
          "output_type": "stream",
          "name": "stdout",
          "text": [
            "False\n"
          ]
        }
      ]
    },
    {
      "cell_type": "code",
      "source": [],
      "metadata": {
        "id": "MGMxl-svWLVw"
      },
      "execution_count": null,
      "outputs": []
    }
  ]
}