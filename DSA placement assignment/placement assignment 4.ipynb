{
  "nbformat": 4,
  "nbformat_minor": 0,
  "metadata": {
    "colab": {
      "provenance": []
    },
    "kernelspec": {
      "name": "python3",
      "display_name": "Python 3"
    },
    "language_info": {
      "name": "python"
    }
  },
  "cells": [
    {
      "cell_type": "code",
      "execution_count": null,
      "metadata": {
        "id": "oOe9Auf5ErwL",
        "outputId": "98744a7c-cd5a-457d-e2cb-1cc0101c8776",
        "colab": {
          "base_uri": "https://localhost:8080/"
        }
      },
      "outputs": [
        {
          "output_type": "stream",
          "name": "stdout",
          "text": [
            "[1, 5]\n"
          ]
        }
      ],
      "source": [
        "#1\n",
        "def arraysIntersection(arr1, arr2, arr3):\n",
        "    i = j = k = 0\n",
        "    result = []\n",
        "\n",
        "    while i < len(arr1) and j < len(arr2) and k < len(arr3):\n",
        "        if arr1[i] == arr2[j] == arr3[k]:\n",
        "            result.append(arr1[i])\n",
        "            i += 1\n",
        "            j += 1\n",
        "            k += 1\n",
        "        elif arr1[i] < arr2[j]:\n",
        "            i += 1\n",
        "        elif arr2[j] < arr3[k]:\n",
        "            j += 1\n",
        "        else:\n",
        "            k += 1\n",
        "\n",
        "    return result\n",
        "\n",
        "arr1 = [1, 2, 3, 4, 5]\n",
        "arr2 = [1, 2, 5, 7, 9]\n",
        "arr3 = [1, 3, 4, 5, 8]\n",
        "intersection = arraysIntersection(arr1, arr2, arr3)\n",
        "print(intersection)\n"
      ]
    },
    {
      "cell_type": "code",
      "source": [
        "#2\n",
        "def findDisjointArrays(nums1, nums2):\n",
        "    set1 = set(nums1)\n",
        "    set2 = set(nums2)\n",
        "\n",
        "    result = [\n",
        "        list(set1 - set2), \n",
        "        list(set2 - set1)  \n",
        "    ]\n",
        "\n",
        "    return result\n",
        "\n",
        "\n",
        "nums1 = [1, 2, 3]\n",
        "nums2 = [2, 4, 6]\n",
        "print(findDisjointArrays(nums1, nums2))\n",
        "\n"
      ],
      "metadata": {
        "id": "7Fcfu6qpE5lw",
        "colab": {
          "base_uri": "https://localhost:8080/"
        },
        "outputId": "e8694344-2a33-4e06-bd30-47fee8856f56"
      },
      "execution_count": 3,
      "outputs": [
        {
          "output_type": "stream",
          "name": "stdout",
          "text": [
            "[[1, 3], [4, 6]]\n"
          ]
        }
      ]
    },
    {
      "cell_type": "code",
      "source": [
        "#3\n",
        "def transpose(matrix):\n",
        "    rows = len(matrix)\n",
        "    cols = len(matrix[0])\n",
        "\n",
        "    transposed = [[0] * rows for _ in range(cols)]\n",
        "\n",
        "    for i in range(rows):\n",
        "        for j in range(cols):\n",
        "            transposed[j][i] = matrix[i][j]\n",
        "\n",
        "    return transposed\n",
        "\n",
        "matrix = [[1, 2, 3], [4, 5, 6], [7, 8, 9]]\n",
        "transposed_matrix = transpose(matrix)\n",
        "print(transposed_matrix)\n"
      ],
      "metadata": {
        "colab": {
          "base_uri": "https://localhost:8080/"
        },
        "id": "Ml2PeqtcVylo",
        "outputId": "915a2c29-f0fa-45d7-ed76-1769626a383a"
      },
      "execution_count": 4,
      "outputs": [
        {
          "output_type": "stream",
          "name": "stdout",
          "text": [
            "[[1, 4, 7], [2, 5, 8], [3, 6, 9]]\n"
          ]
        }
      ]
    },
    {
      "cell_type": "code",
      "source": [
        "#4\n",
        "def arrayPairSum(nums):\n",
        "    nums.sort() \n",
        "    n = len(nums)\n",
        "    max_sum = 0\n",
        "\n",
        "    for i in range(0, n, 2):\n",
        "        max_sum += nums[i]\n",
        "\n",
        "    return max_sum\n",
        "\n",
        "nums = [1, 4, 3, 2]\n",
        "maximized_sum = arrayPairSum(nums)\n",
        "print(maximized_sum)\n"
      ],
      "metadata": {
        "colab": {
          "base_uri": "https://localhost:8080/"
        },
        "id": "qlk6OYXj3kAX",
        "outputId": "481b29e4-9d9b-4b8e-af7a-60d080eb41ec"
      },
      "execution_count": 5,
      "outputs": [
        {
          "output_type": "stream",
          "name": "stdout",
          "text": [
            "4\n"
          ]
        }
      ]
    },
    {
      "cell_type": "code",
      "source": [
        "#5\n",
        "def arrangeCoins(n):\n",
        "    complete_rows = 0\n",
        "    coins_needed = 1\n",
        "\n",
        "    while n >= coins_needed:\n",
        "        n -= coins_needed\n",
        "        coins_needed += 1\n",
        "        complete_rows += 1\n",
        "\n",
        "    return complete_rows\n",
        "\n",
        "n = 5\n",
        "complete_rows = arrangeCoins(n)\n",
        "print(complete_rows)\n"
      ],
      "metadata": {
        "colab": {
          "base_uri": "https://localhost:8080/"
        },
        "id": "6ct8T3hZ3zuu",
        "outputId": "d801fa4e-13d0-439b-fa6e-7aa98d593a11"
      },
      "execution_count": 6,
      "outputs": [
        {
          "output_type": "stream",
          "name": "stdout",
          "text": [
            "2\n"
          ]
        }
      ]
    },
    {
      "cell_type": "code",
      "source": [
        "#6\n",
        "def sortedSquares(nums):\n",
        "    n = len(nums)\n",
        "    result = [0] * n\n",
        "    left = 0\n",
        "    right = n - 1\n",
        "    index = n - 1\n",
        "\n",
        "    while left <= right:\n",
        "        left_square = nums[left] ** 2\n",
        "        right_square = nums[right] ** 2\n",
        "\n",
        "        if left_square > right_square:\n",
        "            result[index] = left_square\n",
        "            left += 1\n",
        "        else:\n",
        "            result[index] = right_square\n",
        "            right -= 1\n",
        "\n",
        "        index -= 1\n",
        "\n",
        "    return result\n",
        "\n",
        "nums = [-4, -1, 0, 3, 10]\n",
        "squared_sorted = sortedSquares(nums)\n",
        "print(squared_sorted)\n"
      ],
      "metadata": {
        "colab": {
          "base_uri": "https://localhost:8080/"
        },
        "id": "YgylJt0iXHFe",
        "outputId": "eca1734b-b816-4ff1-f010-9925490c922e"
      },
      "execution_count": 7,
      "outputs": [
        {
          "output_type": "stream",
          "name": "stdout",
          "text": [
            "[0, 1, 9, 16, 100]\n"
          ]
        }
      ]
    },
    {
      "cell_type": "code",
      "source": [],
      "metadata": {
        "id": "KHfjtVUoZSRx"
      },
      "execution_count": null,
      "outputs": []
    }
  ]
}