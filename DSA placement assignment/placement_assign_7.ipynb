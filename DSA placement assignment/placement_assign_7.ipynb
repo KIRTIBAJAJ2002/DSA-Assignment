{
  "nbformat": 4,
  "nbformat_minor": 0,
  "metadata": {
    "colab": {
      "provenance": []
    },
    "kernelspec": {
      "name": "python3",
      "display_name": "Python 3"
    },
    "language_info": {
      "name": "python"
    }
  },
  "cells": [
    {
      "cell_type": "code",
      "execution_count": 3,
      "metadata": {
        "colab": {
          "base_uri": "https://localhost:8080/"
        },
        "id": "MwO-L9lZ6CeP",
        "outputId": "32aff526-d6f9-48a0-c37b-180e95a567f5"
      },
      "outputs": [
        {
          "output_type": "stream",
          "name": "stdout",
          "text": [
            "True\n"
          ]
        }
      ],
      "source": [
        "def isomorphic_strings(s, t):\n",
        "    if len(s) != len(t):\n",
        "        return False\n",
        "\n",
        "    s_to_t = {}\n",
        "    t_to_s = {}\n",
        "\n",
        "    for char_s, char_t in zip(s, t):\n",
        "        if char_s in s_to_t and s_to_t[char_s] != char_t:\n",
        "            return False\n",
        "        if char_t in t_to_s and t_to_s[char_t] != char_s:\n",
        "            return False\n",
        "        s_to_t[char_s] = char_t\n",
        "        t_to_s[char_t] = char_s\n",
        "\n",
        "    return True\n",
        "s = \"egg\"\n",
        "t = \"add\"\n",
        "print(isomorphic_strings(s, t)) \n"
      ]
    },
    {
      "cell_type": "code",
      "source": [
        "def is_strobogrammatic(num):\n",
        "    strobogrammatic_map = {\n",
        "        '0': '0',\n",
        "        '1': '1',\n",
        "        '8': '8',\n",
        "        '6': '9',\n",
        "        '9': '6'\n",
        "    }\n",
        "\n",
        "    left, right = 0, len(num) - 1\n",
        "\n",
        "    while left <= right:\n",
        "        if num[left] not in strobogrammatic_map or strobogrammatic_map[num[left]] != num[right]:\n",
        "            return False\n",
        "        left += 1\n",
        "        right -= 1\n",
        "\n",
        "    return True\n",
        "num = \"69\"\n",
        "print(is_strobogrammatic(num)) \n"
      ],
      "metadata": {
        "colab": {
          "base_uri": "https://localhost:8080/"
        },
        "id": "ZH36LU9w6Dby",
        "outputId": "9fff6335-d7e5-46e0-a26c-2d9f122b8cc5"
      },
      "execution_count": 4,
      "outputs": [
        {
          "output_type": "stream",
          "name": "stdout",
          "text": [
            "True\n"
          ]
        }
      ]
    },
    {
      "cell_type": "code",
      "source": [
        "def addStrings(num1, num2):\n",
        "    result = \"\"\n",
        "    i = len(num1) - 1\n",
        "    j = len(num2) - 1\n",
        "    carry = 0\n",
        "\n",
        "    while i >= 0 or j >= 0:\n",
        "        digit1 = int(num1[i]) if i >= 0 else 0\n",
        "        digit2 = int(num2[j]) if j >= 0 else 0\n",
        "\n",
        "        sum_digits = digit1 + digit2 + carry\n",
        "        carry = sum_digits // 10\n",
        "        result = str(sum_digits % 10) + result\n",
        "\n",
        "        i -= 1\n",
        "        j -= 1\n",
        "\n",
        "    if carry != 0:\n",
        "        result = str(carry) + result\n",
        "\n",
        "    return result\n",
        "num1 = \"11\"\n",
        "num2 = \"123\"\n",
        "print(addStrings(num1, num2))  \n"
      ],
      "metadata": {
        "colab": {
          "base_uri": "https://localhost:8080/"
        },
        "id": "qto_xf7C6npZ",
        "outputId": "61f0bc26-5f3a-4d66-9452-91414789ec6f"
      },
      "execution_count": 5,
      "outputs": [
        {
          "output_type": "stream",
          "name": "stdout",
          "text": [
            "134\n"
          ]
        }
      ]
    },
    {
      "cell_type": "code",
      "source": [
        "def reverseWords(s):\n",
        "    words = s.split()\n",
        "    result = []\n",
        "\n",
        "    for word in words:\n",
        "        result.append(word[::-1])\n",
        "\n",
        "    return ' '.join(result)\n",
        "s = \"Let's take LeetCode contest\"\n",
        "print(reverseWords(s))  \n"
      ],
      "metadata": {
        "colab": {
          "base_uri": "https://localhost:8080/"
        },
        "id": "RZ2KQA607JQk",
        "outputId": "98d4d20e-165d-48af-ff12-1131b2f0c9e7"
      },
      "execution_count": 6,
      "outputs": [
        {
          "output_type": "stream",
          "name": "stdout",
          "text": [
            "s'teL ekat edoCteeL tsetnoc\n"
          ]
        }
      ]
    },
    {
      "cell_type": "code",
      "source": [
        "def reverseStr(s, k):\n",
        "    s = list(s)\n",
        "    n = len(s)\n",
        "    i = 0\n",
        "\n",
        "    while i < n:\n",
        "        start = i\n",
        "        end = min(i + k - 1, n - 1)\n",
        "\n",
        "        left = start\n",
        "        right = end\n",
        "\n",
        "        while left < right:\n",
        "            s[left], s[right] = s[right], s[left]\n",
        "            left += 1\n",
        "            right -= 1\n",
        "\n",
        "        i += 2 * k\n",
        "\n",
        "    return ''.join(s)\n",
        "s = \"abcdefg\"\n",
        "k = 2\n",
        "print(reverseStr(s, k))  \n"
      ],
      "metadata": {
        "colab": {
          "base_uri": "https://localhost:8080/"
        },
        "id": "1f2H8KOb9lWy",
        "outputId": "e0aa7227-a3b8-4a5d-b35e-60614817ebe4"
      },
      "execution_count": 7,
      "outputs": [
        {
          "output_type": "stream",
          "name": "stdout",
          "text": [
            "bacdfeg\n"
          ]
        }
      ]
    },
    {
      "cell_type": "code",
      "source": [
        "def canShift(s, goal):\n",
        "    if len(s) != len(goal):\n",
        "        return False\n",
        "\n",
        "    s_shifted = s + s\n",
        "    if goal in s_shifted:\n",
        "        return True\n",
        "    else:\n",
        "        return False\n",
        "s = \"abcde\"\n",
        "goal = \"cdeab\"\n",
        "print(canShift(s, goal))  "
      ],
      "metadata": {
        "colab": {
          "base_uri": "https://localhost:8080/"
        },
        "id": "fomtCZoq9xwf",
        "outputId": "33518243-d956-40e2-fb9e-fb314590ff06"
      },
      "execution_count": 8,
      "outputs": [
        {
          "output_type": "stream",
          "name": "stdout",
          "text": [
            "True\n"
          ]
        }
      ]
    },
    {
      "cell_type": "code",
      "source": [
        "def process_string(string):\n",
        "    stack = []\n",
        "\n",
        "    for char in string:\n",
        "        if char != '#':\n",
        "            stack.append(char)\n",
        "        elif stack:\n",
        "            stack.pop()\n",
        "\n",
        "    return ''.join(stack)\n",
        "\n",
        "def backspaceCompare(s, t):\n",
        "    s_processed = process_string(s)\n",
        "    t_processed = process_string(t)\n",
        "\n",
        "    return s_processed == t_processed\n",
        "s = \"ab#c\"\n",
        "t = \"ad#c\"\n",
        "print(backspaceCompare(s, t))  \n"
      ],
      "metadata": {
        "colab": {
          "base_uri": "https://localhost:8080/"
        },
        "id": "-d4aPf7b_SK9",
        "outputId": "823a0058-40e9-4fc5-f69c-607847e7cdd5"
      },
      "execution_count": 9,
      "outputs": [
        {
          "output_type": "stream",
          "name": "stdout",
          "text": [
            "True\n"
          ]
        }
      ]
    },
    {
      "cell_type": "code",
      "source": [],
      "metadata": {
        "id": "fjx7_wNQBYEM"
      },
      "execution_count": null,
      "outputs": []
    }
  ]
}