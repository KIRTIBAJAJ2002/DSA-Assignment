{
  "nbformat": 4,
  "nbformat_minor": 0,
  "metadata": {
    "colab": {
      "provenance": []
    },
    "kernelspec": {
      "name": "python3",
      "display_name": "Python 3"
    },
    "language_info": {
      "name": "python"
    }
  },
  "cells": [
    {
      "cell_type": "code",
      "execution_count": 2,
      "metadata": {
        "colab": {
          "base_uri": "https://localhost:8080/"
        },
        "id": "vLtTDza08plS",
        "outputId": "beb9a332-c5cc-4848-8fc4-503652c97d76"
      },
      "outputs": [
        {
          "output_type": "stream",
          "name": "stdout",
          "text": [
            "2\n"
          ]
        }
      ],
      "source": [
        "def sqrt(x):\n",
        "    if x == 0:\n",
        "        return 0\n",
        "\n",
        "    left = 1\n",
        "    right = x\n",
        "\n",
        "    while left <= right:\n",
        "        mid = left + (right - left) // 2\n",
        "        if mid * mid == x:\n",
        "            return mid\n",
        "        elif mid * mid < x:\n",
        "            left = mid + 1\n",
        "        else:\n",
        "            right = mid - 1\n",
        "\n",
        "    return right\n",
        "x = 8\n",
        "result = sqrt(x)\n",
        "print(result)\n"
      ]
    },
    {
      "cell_type": "code",
      "source": [
        "def findPeakElement(nums):\n",
        "    left = 0\n",
        "    right = len(nums) - 1\n",
        "\n",
        "    while left < right:\n",
        "        mid = left + (right - left) // 2\n",
        "\n",
        "        if nums[mid] < nums[mid + 1]:\n",
        "            left = mid + 1\n",
        "        else:\n",
        "            right = mid\n",
        "\n",
        "    return left\n",
        "nums = [1, 2, 3, 1]\n",
        "result = findPeakElement(nums)\n",
        "print(result)\n",
        "\n"
      ],
      "metadata": {
        "colab": {
          "base_uri": "https://localhost:8080/"
        },
        "id": "oLiZovxV8vKM",
        "outputId": "f9219186-99d9-4d12-e53c-f038a77223cf"
      },
      "execution_count": 3,
      "outputs": [
        {
          "output_type": "stream",
          "name": "stdout",
          "text": [
            "2\n"
          ]
        }
      ]
    },
    {
      "cell_type": "code",
      "source": [
        "def missingNumber(nums):\n",
        "    n = len(nums)\n",
        "    expected_sum = (n * (n + 1)) // 2\n",
        "    actual_sum = sum(nums)\n",
        "    missing_number = expected_sum - actual_sum\n",
        "    return missing_number\n",
        "nums = [3, 0, 1]\n",
        "result = missingNumber(nums)\n",
        "print(result)\n"
      ],
      "metadata": {
        "colab": {
          "base_uri": "https://localhost:8080/"
        },
        "id": "kZAOOXQy9Qsk",
        "outputId": "f6202dc1-0692-4947-a991-16026fa3a3fe"
      },
      "execution_count": 4,
      "outputs": [
        {
          "output_type": "stream",
          "name": "stdout",
          "text": [
            "2\n"
          ]
        }
      ]
    },
    {
      "cell_type": "code",
      "source": [
        "def findDuplicate(nums):\n",
        "    tortoise = nums[0]\n",
        "    hare = nums[0]\n",
        "\n",
        "    while True:\n",
        "        tortoise = nums[tortoise]\n",
        "        hare = nums[nums[hare]]\n",
        "        if tortoise == hare:\n",
        "            break\n",
        "\n",
        "    pointer1 = nums[0]\n",
        "    pointer2 = tortoise\n",
        "\n",
        "    while pointer1 != pointer2:\n",
        "        pointer1 = nums[pointer1]\n",
        "        pointer2 = nums[pointer2]\n",
        "\n",
        "    return pointer1\n",
        "Input: nums = [1,3,4,2,2]\n",
        "nums = [1, 3, 4, 2, 2]\n",
        "result = findDuplicate(nums)\n",
        "print(result)\n"
      ],
      "metadata": {
        "colab": {
          "base_uri": "https://localhost:8080/"
        },
        "id": "Gps7QJrf9nEy",
        "outputId": "33448874-2fca-4f75-d3d7-b2320068c0df"
      },
      "execution_count": 7,
      "outputs": [
        {
          "output_type": "stream",
          "name": "stdout",
          "text": [
            "2\n"
          ]
        }
      ]
    },
    {
      "cell_type": "code",
      "source": [
        "def intersection(nums1, nums2):\n",
        "    set1 = set(nums1)\n",
        "    set2 = set(nums2)\n",
        "    intersection_set = set1.intersection(set2)\n",
        "    return list(intersection_set)\n",
        "nums1 = [1, 2, 2, 1]\n",
        "nums2 = [2, 2]\n",
        "result = intersection(nums1, nums2)\n",
        "print(result)\n",
        "\n"
      ],
      "metadata": {
        "colab": {
          "base_uri": "https://localhost:8080/"
        },
        "id": "8Xo5r6i4-F58",
        "outputId": "e9c4f5b2-bd5f-49fe-9df9-46a00aab2090"
      },
      "execution_count": 8,
      "outputs": [
        {
          "output_type": "stream",
          "name": "stdout",
          "text": [
            "[2]\n"
          ]
        }
      ]
    },
    {
      "cell_type": "code",
      "source": [
        "def findMin(nums):\n",
        "    left = 0\n",
        "    right = len(nums) - 1\n",
        "\n",
        "    while left < right:\n",
        "        mid = left + (right - left) // 2\n",
        "\n",
        "        if nums[mid] > nums[right]:\n",
        "            left = mid + 1\n",
        "        else:\n",
        "            right = mid\n",
        "\n",
        "    return nums[left]\n",
        "nums = [4, 5, 6, 7, 0, 1, 2]\n",
        "result = findMin(nums)\n",
        "print(result)\n"
      ],
      "metadata": {
        "colab": {
          "base_uri": "https://localhost:8080/"
        },
        "id": "U1oWCzsJ-hPN",
        "outputId": "372a510f-e4b5-4e37-cb19-9315641afe9d"
      },
      "execution_count": 9,
      "outputs": [
        {
          "output_type": "stream",
          "name": "stdout",
          "text": [
            "0\n"
          ]
        }
      ]
    },
    {
      "cell_type": "code",
      "source": [
        "def searchRange(nums, target):\n",
        "    def findLeft(nums, target):\n",
        "        left = 0\n",
        "        right = len(nums) - 1\n",
        "        result = -1\n",
        "\n",
        "        while left <= right:\n",
        "            mid = left + (right - left) // 2\n",
        "            if nums[mid] >= target:\n",
        "                right = mid - 1\n",
        "            else:\n",
        "                left = mid + 1\n",
        "            if nums[mid] == target:\n",
        "                result = mid\n",
        "\n",
        "        return result\n",
        "\n",
        "    def findRight(nums, target):\n",
        "        left = 0\n",
        "        right = len(nums) - 1\n",
        "        result = -1\n",
        "\n",
        "        while left <= right:\n",
        "            mid = left + (right - left) // 2\n",
        "            if nums[mid] <= target:\n",
        "                left = mid + 1\n",
        "            else:\n",
        "                right = mid - 1\n",
        "            if nums[mid] == target:\n",
        "                result = mid\n",
        "\n",
        "        return result\n",
        "\n",
        "    left_pos = findLeft(nums, target)\n",
        "    right_pos = findRight(nums, target)\n",
        "\n",
        "    return [left_pos, right_pos]\n",
        "nums = [5, 7, 7, 8, 8, 10]\n",
        "target = 8\n",
        "result = searchRange(nums, target)\n",
        "print(result)\n"
      ],
      "metadata": {
        "colab": {
          "base_uri": "https://localhost:8080/"
        },
        "id": "cHybfMs2-ujf",
        "outputId": "3860739e-1a86-424e-e33f-92b1ee0e8531"
      },
      "execution_count": 14,
      "outputs": [
        {
          "output_type": "stream",
          "name": "stdout",
          "text": [
            "[3, 4]\n"
          ]
        }
      ]
    },
    {
      "cell_type": "code",
      "source": [
        "from collections import Counter\n",
        "\n",
        "def intersect(nums1, nums2):\n",
        "    counter1 = Counter(nums1)\n",
        "    result = []\n",
        "\n",
        "    for num in nums2:\n",
        "        if num in counter1 and counter1[num] > 0:\n",
        "            result.append(num)\n",
        "            counter1[num] -= 1\n",
        "\n",
        "    return result\n",
        "nums1 = [1, 2, 2, 1]\n",
        "nums2 = [2, 2]\n",
        "result = intersect(nums1, nums2)\n",
        "print(result)\n"
      ],
      "metadata": {
        "colab": {
          "base_uri": "https://localhost:8080/"
        },
        "id": "iI7XfMKm_AWu",
        "outputId": "acc32e5c-bf7e-412b-f8b1-91c162f9a3bb"
      },
      "execution_count": 15,
      "outputs": [
        {
          "output_type": "stream",
          "name": "stdout",
          "text": [
            "[2, 2]\n"
          ]
        }
      ]
    },
    {
      "cell_type": "code",
      "source": [],
      "metadata": {
        "id": "ey-WvSUc_qVM"
      },
      "execution_count": null,
      "outputs": []
    }
  ]
}