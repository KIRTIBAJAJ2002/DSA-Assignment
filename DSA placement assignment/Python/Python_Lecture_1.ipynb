{
  "nbformat": 4,
  "nbformat_minor": 0,
  "metadata": {
    "colab": {
      "provenance": []
    },
    "kernelspec": {
      "name": "python3",
      "display_name": "Python 3"
    },
    "language_info": {
      "name": "python"
    }
  },
  "cells": [
    {
      "cell_type": "markdown",
      "source": [
        "1. Write a Python program to reverse a string without using any built-in string reversal functions.\n"
      ],
      "metadata": {
        "id": "stkv5Ij7dhoN"
      }
    },
    {
      "cell_type": "code",
      "source": [
        "str=(\"KirtiBajaj\")\n",
        "\n",
        "print(str[::-1])\n"
      ],
      "metadata": {
        "colab": {
          "base_uri": "https://localhost:8080/"
        },
        "id": "RUk7ljHDdljG",
        "outputId": "ef21773c-b0ee-4fb5-fa06-61f57742e9f0"
      },
      "execution_count": null,
      "outputs": [
        {
          "output_type": "stream",
          "name": "stdout",
          "text": [
            "jajaBitriK\n"
          ]
        }
      ]
    },
    {
      "cell_type": "markdown",
      "source": [
        "2. Implement a function to check if a given string is a palindrome.\n",
        "\n"
      ],
      "metadata": {
        "id": "DfDDlg-Yds-A"
      }
    },
    {
      "cell_type": "code",
      "source": [
        "def is_palindrome(string):\n",
        "    string = ''.join(e.lower() for e in string if e.isalnum())\n",
        "    return string == string[::-1]\n",
        "print(is_palindrome(\"radar\"))\n",
        "print(is_palindrome(\"level\"))\n",
        "print(is_palindrome(\"Hello\"))\n",
        "print(is_palindrome(\"A man, a plan, a canal: Panama\"))\n"
      ],
      "metadata": {
        "colab": {
          "base_uri": "https://localhost:8080/"
        },
        "id": "WQXFA-iOdq0G",
        "outputId": "7613390a-794a-4af6-da75-8ced5bbc9374"
      },
      "execution_count": null,
      "outputs": [
        {
          "output_type": "stream",
          "name": "stdout",
          "text": [
            "True\n",
            "True\n",
            "False\n",
            "True\n"
          ]
        }
      ]
    },
    {
      "cell_type": "markdown",
      "source": [
        "3. Write a program to find the largest element in a given list."
      ],
      "metadata": {
        "id": "Ing-4u1OjVCk"
      }
    },
    {
      "cell_type": "code",
      "source": [
        "def find_largest_element(lst):\n",
        "    if not lst:\n",
        "        return None\n",
        "\n",
        "    largest = lst[0]\n",
        "    for element in lst[1:]:\n",
        "        if element > largest:\n",
        "            largest = element\n",
        "\n",
        "    return largest"
      ],
      "metadata": {
        "id": "kF0GF-tZjAHd"
      },
      "execution_count": null,
      "outputs": []
    },
    {
      "cell_type": "markdown",
      "source": [
        "4. Implement a function to count the occurrence of each element in a list.\n",
        "\n"
      ],
      "metadata": {
        "id": "LXJrgj0mjS6j"
      }
    },
    {
      "cell_type": "code",
      "source": [
        "def count(lst):\n",
        "    nums={}\n",
        "    for ele in lst:\n",
        "        if ele in nums:\n",
        "            nums[ele]+1\n",
        "        else:\n",
        "            nums[ele]=1\n",
        "    return nums"
      ],
      "metadata": {
        "id": "FN9n41wkjeGb"
      },
      "execution_count": null,
      "outputs": []
    },
    {
      "cell_type": "markdown",
      "source": [
        "5. Write a Python program to find the second largest number in a list.\n"
      ],
      "metadata": {
        "id": "imHK3Qhaje5F"
      }
    },
    {
      "cell_type": "code",
      "source": [
        "def find_second_largest(lst):\n",
        "    if len(lst) < 2:\n",
        "        return None\n",
        "\n",
        "    sorted_list = sorted(lst, reverse=True)\n",
        "    return sorted_list[1]\n"
      ],
      "metadata": {
        "id": "f6bgbBHfjhtQ"
      },
      "execution_count": null,
      "outputs": []
    },
    {
      "cell_type": "markdown",
      "source": [
        "6. Implement a function to remove duplicate elements from a list.\n"
      ],
      "metadata": {
        "id": "9fQ2vvY2jicf"
      }
    },
    {
      "cell_type": "code",
      "source": [
        "def remove_duplicates(lst):\n",
        "    unique_list = []\n",
        "    seen_elements = set()\n",
        "\n",
        "    for element in lst:\n",
        "        if element not in seen_elements:\n",
        "            unique_list.append(element)\n",
        "            seen_elements.add(element)\n",
        "\n",
        "    return unique_list\n"
      ],
      "metadata": {
        "id": "KWXiRwomjke2"
      },
      "execution_count": null,
      "outputs": []
    },
    {
      "cell_type": "markdown",
      "source": [
        "7. Write a program to calculate the factorial of a given number.\n"
      ],
      "metadata": {
        "id": "Q07NAXo_uldY"
      }
    },
    {
      "cell_type": "code",
      "source": [
        "def factorial(nums):\n",
        "    if n < 0 :\n",
        "        return None\n",
        "    elif n==0:\n",
        "        return 1\n",
        "    else:\n",
        "        result=1\n",
        "        for i in range(1,n+1):\n",
        "            result *= i\n",
        "            return result\n",
        "\n"
      ],
      "metadata": {
        "id": "qupilXEBulJt"
      },
      "execution_count": null,
      "outputs": []
    },
    {
      "cell_type": "markdown",
      "source": [
        "8. Implement a function to check if a given number is prime.\n"
      ],
      "metadata": {
        "id": "V8HsHNw1uoT9"
      }
    },
    {
      "cell_type": "code",
      "source": [
        "def isprime(number):\n",
        "    if number < 2:\n",
        "        return False\n",
        "    for i in range(number):\n",
        "        if i % 2 ==0:\n",
        "            return False\n",
        "    else:\n",
        "         return True"
      ],
      "metadata": {
        "id": "Gbtgfkv8uoyr"
      },
      "execution_count": null,
      "outputs": []
    },
    {
      "cell_type": "markdown",
      "source": [
        "9. Write a Python program to sort a list of integers in ascending order.\n"
      ],
      "metadata": {
        "id": "hrNgymmHurwL"
      }
    },
    {
      "cell_type": "code",
      "source": [
        "def sorted(numbers):\n",
        "    for i in range (len(numbers)):\n",
        "        min_index=i\n",
        "        for j in range (i+1,len(numbers)):\n",
        "            if numbers[j] < numbers[min_index]:\n",
        "                min_index = j\n",
        "        numbers[i], numbers[min_index] = numbers[min_index], numbers[i]\n",
        "    return numbers"
      ],
      "metadata": {
        "id": "BZIDWjlrusMA"
      },
      "execution_count": null,
      "outputs": []
    },
    {
      "cell_type": "markdown",
      "source": [
        "10. Implement a function to find the sum of all numbers in a list.\n"
      ],
      "metadata": {
        "id": "nKiovUaluzEj"
      }
    },
    {
      "cell_type": "code",
      "source": [
        "def sum_of(numbers):\n",
        "    total = 0\n",
        "    for i in range (numbers):\n",
        "        total+= numbers\n",
        "        return total\n"
      ],
      "metadata": {
        "id": "USss9wQIuzkk"
      },
      "execution_count": null,
      "outputs": []
    },
    {
      "cell_type": "markdown",
      "source": [
        "11. Write a program to find the common elements between two lists.\n"
      ],
      "metadata": {
        "id": "JV0iNtT-u0kG"
      }
    },
    {
      "cell_type": "code",
      "source": [
        "def comman_elements(lst1,lst2):\n",
        "    comman=[]\n",
        "    for element in lst1:\n",
        "        if element in lst2:\n",
        "            comman.append(element)\n",
        "    return comman"
      ],
      "metadata": {
        "id": "5ur0d9s2u2O1"
      },
      "execution_count": null,
      "outputs": []
    },
    {
      "cell_type": "markdown",
      "source": [
        "12. Implement a function to check if a given string is an anagram of another string.\n"
      ],
      "metadata": {
        "id": "mtS32Ih_u2lX"
      }
    },
    {
      "cell_type": "code",
      "source": [
        "def is_anagram(str1,str2):\n",
        "    str1=str1.replace(\"\",\" \").lower()\n",
        "    str1=str1.replace(\"\",\" \").lower()\n",
        "\n",
        "    return sorted(str1)== sorted(str2)"
      ],
      "metadata": {
        "id": "79_aPdJSu4P4"
      },
      "execution_count": null,
      "outputs": []
    },
    {
      "cell_type": "markdown",
      "source": [
        "13. Write a Python program to generate all permutations of a given string.\n"
      ],
      "metadata": {
        "id": "nGx1zglfu5CN"
      }
    },
    {
      "cell_type": "code",
      "source": [
        "import itertools\n",
        "\n",
        "def generate_permutations(string):\n",
        "    permutations = list(itertools.permutations(string))\n",
        "\n",
        "    permutations = [''.join(permutation) for permutation in permutations]\n",
        "\n",
        "    return permutations\n",
        "my_string = \"abc\"\n",
        "permutations_list = generate_permutations(my_string)\n",
        "for permutation in permutations_list:\n",
        "    print(permutation)\n"
      ],
      "metadata": {
        "id": "6j4fz-cxu6kG",
        "colab": {
          "base_uri": "https://localhost:8080/"
        },
        "outputId": "e5456e80-4019-4984-a359-c879ff72d6ab"
      },
      "execution_count": null,
      "outputs": [
        {
          "output_type": "stream",
          "name": "stdout",
          "text": [
            "abc\n",
            "acb\n",
            "bac\n",
            "bca\n",
            "cab\n",
            "cba\n"
          ]
        }
      ]
    },
    {
      "cell_type": "markdown",
      "source": [
        "14. Implement a function to calculate the Fibonacci sequence up to a given number of terms.\n"
      ],
      "metadata": {
        "id": "CmTF6wG3u69o"
      }
    },
    {
      "cell_type": "code",
      "source": [
        "def series(n):\n",
        "    sequence=[]\n",
        "    if n <=1:\n",
        "        return n\n",
        "    else:\n",
        "        return   series(n-1)+ series(n-2)"
      ],
      "metadata": {
        "id": "MJZUrxteu9jB"
      },
      "execution_count": null,
      "outputs": []
    },
    {
      "cell_type": "markdown",
      "source": [
        "15. Write a program to find the median of a list of numbers.\n"
      ],
      "metadata": {
        "id": "7YmOMCsKu-ND"
      }
    },
    {
      "cell_type": "code",
      "source": [
        "def find_median(numbers):\n",
        "    sorted_numbers=sorted(numbers)\n",
        "    n=len(sorted_numbers)\n",
        "    middle=n//2\n",
        "\n",
        "    if n % 2 ==0:\n",
        "        median = (sorted_numbers[middle - 1] + sorted_numbers[middle]) / 2\n",
        "    else:\n",
        "        median=sorted_numbers[middle]\n",
        "    return median"
      ],
      "metadata": {
        "id": "v68yTwr8u_49"
      },
      "execution_count": null,
      "outputs": []
    },
    {
      "cell_type": "markdown",
      "source": [
        "16. Implement a function to check if a given list is sorted in non-decreasing order.\n"
      ],
      "metadata": {
        "id": "N6pKxVaVvBi7"
      }
    },
    {
      "cell_type": "code",
      "source": [
        "def is_sorted(numbers):\n",
        "    n=len(numbers)\n",
        "    for i in range(n - 1):\n",
        "        if numbers[i] > numbers[i + 1]:\n",
        "            return False\n",
        "    return True\n",
        "my_list = [1, 2, 3, 4, 5]\n",
        "is_sorted_result = is_sorted(my_list)\n",
        "print(is_sorted_result)"
      ],
      "metadata": {
        "id": "5W81qHdfvCDT",
        "colab": {
          "base_uri": "https://localhost:8080/"
        },
        "outputId": "dddbb480-25ce-4a67-d117-80dd86265708"
      },
      "execution_count": null,
      "outputs": [
        {
          "output_type": "stream",
          "name": "stdout",
          "text": [
            "True\n"
          ]
        }
      ]
    },
    {
      "cell_type": "markdown",
      "source": [
        "\n",
        "17. Write a Python program to find the intersection of two lists.\n"
      ],
      "metadata": {
        "id": "WfgweLuZvD3t"
      }
    },
    {
      "cell_type": "code",
      "source": [
        "def find_intersection(list1, list2):\n",
        "    set1 = set(list1)\n",
        "    set2 = set(list2)\n",
        "    intersection = set1.intersection(set2)\n",
        "    return list(intersection)\n",
        "\n",
        "\n",
        "list1 = [1, 2, 3, 4, 5]\n",
        "list2 = [4, 5, 6, 7, 8]\n",
        "intersection_list = find_intersection(list1, list2)\n",
        "print(intersection_list)"
      ],
      "metadata": {
        "id": "hvP18K7DvEP4",
        "colab": {
          "base_uri": "https://localhost:8080/"
        },
        "outputId": "53870c44-eb60-4e19-8d22-b2f8d4f706ea"
      },
      "execution_count": null,
      "outputs": [
        {
          "output_type": "stream",
          "name": "stdout",
          "text": [
            "[4, 5]\n"
          ]
        }
      ]
    },
    {
      "cell_type": "markdown",
      "source": [
        "18. Implement a function to find the maximum subarray sum in a given list.\n"
      ],
      "metadata": {
        "id": "asV5Rs8evE3-"
      }
    },
    {
      "cell_type": "code",
      "source": [
        "def find_max_subarray(numbers):\n",
        "    current_max = float('-inf')\n",
        "    max_sum = float('-inf')\n",
        "\n",
        "    for num in numbers:\n",
        "        current_max = max(num, current_max + num)\n",
        "        max_sum = max(max_sum, current_max)\n",
        "\n",
        "    return max_sum\n"
      ],
      "metadata": {
        "id": "YeQ6mNfgvGUl"
      },
      "execution_count": null,
      "outputs": []
    },
    {
      "cell_type": "markdown",
      "source": [
        "19. Write a program to remove all vowels from a given string.\n"
      ],
      "metadata": {
        "id": "ahhkAvkqvGzb"
      }
    },
    {
      "cell_type": "code",
      "source": [
        "def remove_vowels(string):\n",
        "    vowels = 'aeiouAEIOU'\n",
        "    vowels_removed = ''\n",
        "\n",
        "    for char in string:\n",
        "        if char not in vowels:\n",
        "            vowels_removed += char\n",
        "    return vowels_removed\n",
        "my_string = \"Hello, World!\"\n",
        "string_without_vowels = remove_vowels(my_string)\n",
        "print(string_without_vowels)\n",
        "\n"
      ],
      "metadata": {
        "id": "fEbV-toWvNmQ",
        "colab": {
          "base_uri": "https://localhost:8080/"
        },
        "outputId": "0ae319d4-7073-416a-beab-dff0879af22e"
      },
      "execution_count": null,
      "outputs": [
        {
          "output_type": "stream",
          "name": "stdout",
          "text": [
            "Hll, Wrld!\n"
          ]
        }
      ]
    },
    {
      "cell_type": "markdown",
      "source": [
        "20. Implement a function to reverse the order of words in a given sentence.\n"
      ],
      "metadata": {
        "id": "NIg4XENYvOMI"
      }
    },
    {
      "cell_type": "code",
      "source": [
        "def reverse_words(string):\n",
        "    words=string.split()\n",
        "    reversed_words = words[::-1]\n",
        "    reversed_sentence = ' '.join(reversed_words)\n",
        "    return reversed_sentence\n",
        "my_sentence = \"Hello, World! Welcome to Python.\"\n",
        "reversed_sentence = reverse_words(my_sentence)\n",
        "print(reversed_sentence)"
      ],
      "metadata": {
        "id": "tYhsSAP7vRCi",
        "colab": {
          "base_uri": "https://localhost:8080/"
        },
        "outputId": "2f81566b-bdaa-4f54-b1a4-cf6b1b4659b6"
      },
      "execution_count": null,
      "outputs": [
        {
          "output_type": "stream",
          "name": "stdout",
          "text": [
            "Python. to Welcome World! Hello,\n"
          ]
        }
      ]
    },
    {
      "cell_type": "markdown",
      "source": [
        "21. Write a Python program to check if two strings are anagrams of each other.\n"
      ],
      "metadata": {
        "id": "WS_bpo0OvReX"
      }
    },
    {
      "cell_type": "code",
      "source": [
        "def are_anagrams(str1, str2):\n",
        "    str1_sorted = sorted(str1.lower())\n",
        "    str2_sorted = sorted(str2.lower())\n",
        "\n",
        "    return str1_sorted == str2_sorted\n",
        "\n",
        "\n",
        "string1 = \"listen\"\n",
        "string2 = \"silent\"\n",
        "anagram_check = are_anagrams(string1, string2)\n",
        "print(anagram_check)\n",
        "\n"
      ],
      "metadata": {
        "id": "kAgSYYAcvT67",
        "colab": {
          "base_uri": "https://localhost:8080/"
        },
        "outputId": "afd54945-f313-4887-adca-6b71fbed55ca"
      },
      "execution_count": null,
      "outputs": [
        {
          "output_type": "stream",
          "name": "stdout",
          "text": [
            "True\n"
          ]
        }
      ]
    },
    {
      "cell_type": "markdown",
      "source": [
        "22. Implement a function to find the first non-repeating character in a string.\n"
      ],
      "metadata": {
        "id": "5bHVIcU4vUmo"
      }
    },
    {
      "cell_type": "code",
      "source": [
        "def find_first_non_repeating_char(string):\n",
        "    char_count = {}\n",
        "\n",
        "    for char in string:\n",
        "        if char in char_count:\n",
        "            char_count[char] += 1\n",
        "        else:\n",
        "            char_count[char] = 1\n",
        "\n",
        "    for char in string:\n",
        "        if char_count[char] == 1:\n",
        "            return char\n",
        "\n",
        "    return None\n",
        "\n",
        "my_string = \"abracadabra\"\n",
        "first_non_repeating_char = find_first_non_repeating_char(my_string)\n",
        "print(first_non_repeating_char)\n"
      ],
      "metadata": {
        "id": "-2pwUOEjvWhk",
        "colab": {
          "base_uri": "https://localhost:8080/"
        },
        "outputId": "fabb07a7-4cf4-48af-9d71-aa3bb2c8e029"
      },
      "execution_count": null,
      "outputs": [
        {
          "output_type": "stream",
          "name": "stdout",
          "text": [
            "c\n"
          ]
        }
      ]
    },
    {
      "cell_type": "markdown",
      "source": [
        "23. Write a program to find the prime factors of a given number.\n"
      ],
      "metadata": {
        "id": "IZM7rIAbvXFC"
      }
    },
    {
      "cell_type": "code",
      "source": [
        "def prime_factors(n):\n",
        "    factors = []\n",
        "    divisor = 2\n",
        "\n",
        "    while divisor <= n:\n",
        "        if n % divisor == 0:\n",
        "            factors.append(divisor)\n",
        "            n //= divisor\n",
        "        else:\n",
        "            divisor += 1\n",
        "\n",
        "    return factors\n",
        "\n",
        "number = 84\n",
        "prime_factors_list = prime_factors(number)\n",
        "print(prime_factors_list)\n"
      ],
      "metadata": {
        "id": "tu-MkDAsvYm2",
        "colab": {
          "base_uri": "https://localhost:8080/"
        },
        "outputId": "08b46b76-6cbe-45db-8b39-ae82b22ad0e4"
      },
      "execution_count": null,
      "outputs": [
        {
          "output_type": "stream",
          "name": "stdout",
          "text": [
            "[2, 2, 3, 7]\n"
          ]
        }
      ]
    },
    {
      "cell_type": "markdown",
      "source": [
        "24. Implement a function to check if a given number is a power of two.\n"
      ],
      "metadata": {
        "id": "ZzpAjeAXvZfk"
      }
    },
    {
      "cell_type": "code",
      "source": [
        "def is_power_of_two(n):\n",
        "    if n <= 0 :\n",
        "        return False\n",
        "    else:\n",
        "        return (n & (n - 1)) == 0\n",
        "\n",
        "number = 16\n",
        "is_power = is_power_of_two(number)\n",
        "print(is_power)"
      ],
      "metadata": {
        "id": "4C73YGWdva-s",
        "colab": {
          "base_uri": "https://localhost:8080/"
        },
        "outputId": "d1d1872a-4b4d-4c73-fc5e-d16c1b406b2c"
      },
      "execution_count": null,
      "outputs": [
        {
          "output_type": "stream",
          "name": "stdout",
          "text": [
            "True\n"
          ]
        }
      ]
    },
    {
      "cell_type": "markdown",
      "source": [
        "25. Write a Python program to merge two sorted lists into a single sorted list.\n"
      ],
      "metadata": {
        "id": "072_MXVIvbrv"
      }
    },
    {
      "cell_type": "code",
      "source": [
        "def sorted(list1,list2):\n",
        "    merged_list=[]\n",
        "    i=0\n",
        "    j=0\n",
        "    while i < len(list1) and j < len(list2):\n",
        "        if list1[i] < list2[j]:\n",
        "            merged_list.append(list1[i])\n",
        "            i += 1\n",
        "        else:\n",
        "            merged_list.append(list2[j])\n",
        "            j += 1\n",
        "\n",
        "    while i < len(list1):\n",
        "        merged_list.append(list1[i])\n",
        "        i += 1\n",
        "\n",
        "    while j < len(list2):\n",
        "        merged_list.append(list2[j])\n",
        "        j += 1\n",
        "\n",
        "    return merged_list\n",
        "\n",
        "\n",
        "\n",
        "list1 = [1, 3, 5, 7, 9]\n",
        "list2 = [2, 4, 6, 8, 10]\n",
        "merged_list = sorted(list1, list2)\n",
        "print(merged_list)\n"
      ],
      "metadata": {
        "id": "7sVdwsg9vdQc",
        "colab": {
          "base_uri": "https://localhost:8080/"
        },
        "outputId": "884d9ba1-2dc1-408b-d328-b2c2dc9dd5b1"
      },
      "execution_count": null,
      "outputs": [
        {
          "output_type": "stream",
          "name": "stdout",
          "text": [
            "[1, 2, 3, 4, 5, 6, 7, 8, 9, 10]\n"
          ]
        }
      ]
    },
    {
      "cell_type": "markdown",
      "source": [
        "26. Implement a function to find the mode of a list of numbers.\n"
      ],
      "metadata": {
        "id": "_aMEEyQ-vfsm"
      }
    },
    {
      "cell_type": "code",
      "source": [
        "def mode_is(n):\n",
        "    freq = {}\n",
        "    for i in n:\n",
        "        if i in freq:\n",
        "            freq[i] += 1\n",
        "        else:\n",
        "            freq[i] = 1\n",
        "\n",
        "    mode = max(freq, key=freq.get)\n",
        "    return mode\n"
      ],
      "metadata": {
        "id": "gT7zCmckvhOu"
      },
      "execution_count": null,
      "outputs": []
    },
    {
      "cell_type": "markdown",
      "source": [
        "27. Write a program to find the greatest common divisor (GCD) of two numbers.\n"
      ],
      "metadata": {
        "id": "FYbQWq0Vvi34"
      }
    },
    {
      "cell_type": "code",
      "source": [
        "def gcd_numbers(a,b):\n",
        "    while b!= 0:\n",
        "        a,b = b,a%b\n",
        "        return a\n",
        "num1 = 84\n",
        "num2 = 36\n",
        "gcd = gcd_numbers(num1, num2)\n",
        "print(\"GCD:\", gcd)"
      ],
      "metadata": {
        "id": "M0uZ0S_kvjQa",
        "colab": {
          "base_uri": "https://localhost:8080/"
        },
        "outputId": "f9569b94-8b15-4d3a-d73b-802382567e65"
      },
      "execution_count": 2,
      "outputs": [
        {
          "output_type": "stream",
          "name": "stdout",
          "text": [
            "GCD: 36\n"
          ]
        }
      ]
    },
    {
      "cell_type": "markdown",
      "source": [
        "28. Implement a function to calculate the square root of a given number.\n"
      ],
      "metadata": {
        "id": "p5X0Sy5ivlDi"
      }
    },
    {
      "cell_type": "code",
      "source": [
        "def find_sqrt(numbers):\n",
        "    if number < 0:\n",
        "        raise ValueError(\"Cannot calculate sqrt of negative number\")\n",
        "    else:\n",
        "        return number ** 0.5\n",
        "number=81\n",
        "sqrt = find_sqrt(number)\n",
        "result =print(\"Squareroot of\", number, \"is:\",sqrt)"
      ],
      "metadata": {
        "id": "J0905yfUvlap",
        "colab": {
          "base_uri": "https://localhost:8080/"
        },
        "outputId": "97f5a275-fc2a-4ddd-b904-564cec0a52e5"
      },
      "execution_count": 6,
      "outputs": [
        {
          "output_type": "stream",
          "name": "stdout",
          "text": [
            "Squareroot of 81 is: 9.0\n"
          ]
        }
      ]
    },
    {
      "cell_type": "markdown",
      "source": [
        "29. Write a Python program to check if a given string is a valid palindrome ignoring non-alphanumeric characters.\n"
      ],
      "metadata": {
        "id": "f_KUdBg7vnY8"
      }
    },
    {
      "cell_type": "code",
      "source": [
        "def is_palindrome(str):\n",
        "    if i in str == str[::-1]:\n",
        "        return str\n",
        "str=\"radar\"\n",
        "print(str)"
      ],
      "metadata": {
        "id": "1RjQy-Bfvn0n",
        "colab": {
          "base_uri": "https://localhost:8080/"
        },
        "outputId": "9dd115cb-17d2-42d4-8ecd-9d6581b162fd"
      },
      "execution_count": 9,
      "outputs": [
        {
          "output_type": "stream",
          "name": "stdout",
          "text": [
            "radar\n"
          ]
        }
      ]
    },
    {
      "cell_type": "markdown",
      "source": [
        "30. Implement a function to find the minimum element in a rotated sorted list.\n"
      ],
      "metadata": {
        "id": "Ba_gfyMivpch"
      }
    },
    {
      "cell_type": "code",
      "source": [
        "def find_min_rotated(nums):\n",
        "    left = 0\n",
        "    right = len(nums) - 1\n",
        "\n",
        "    while left < right:\n",
        "        mid = left + (right - left) // 2\n",
        "\n",
        "        if nums[mid] > nums[right]:\n",
        "            left = mid + 1\n",
        "        else:\n",
        "            right = mid\n",
        "\n",
        "    return nums[left]\n",
        "\n",
        "nums = [4, 5, 6, 7, 0, 1, 2]\n",
        "min_element = find_min_rotated(nums)\n",
        "print(\"Minimum element:\", min_element)\n"
      ],
      "metadata": {
        "id": "pFO7zscPvp1N",
        "colab": {
          "base_uri": "https://localhost:8080/"
        },
        "outputId": "924580be-8fdb-4947-b834-0cb3437fa01f"
      },
      "execution_count": 14,
      "outputs": [
        {
          "output_type": "stream",
          "name": "stdout",
          "text": [
            "Minimum element: 0\n"
          ]
        }
      ]
    },
    {
      "cell_type": "markdown",
      "source": [
        "31. Write a program to find the sum of all even numbers in a list.\n"
      ],
      "metadata": {
        "id": "988bs4-Gvr2A"
      }
    },
    {
      "cell_type": "code",
      "source": [
        "def sum_even_numbers(numbers):\n",
        "    even_numbers = [num for num in numbers if num % 2 == 0]\n",
        "    sum_even = sum(even_numbers)\n",
        "    return sum_even\n",
        "\n",
        "my_list = [1, 2, 3, 4, 5, 6, 7, 8, 9, 10]\n",
        "result = sum_even_numbers(my_list)\n",
        "print(\"Sum of even numbers:\", result)\n",
        "\n"
      ],
      "metadata": {
        "id": "qJ_Pp5bYvsMS",
        "colab": {
          "base_uri": "https://localhost:8080/"
        },
        "outputId": "31bb2ed9-e05a-4dd9-f73c-0b1f2f5a7477"
      },
      "execution_count": 13,
      "outputs": [
        {
          "output_type": "stream",
          "name": "stdout",
          "text": [
            "Sum of even numbers: 30\n"
          ]
        }
      ]
    },
    {
      "cell_type": "markdown",
      "source": [
        "32. Implement a function to calculate the power of a number using recursion.\n"
      ],
      "metadata": {
        "id": "pTPD6wGwvtvx"
      }
    },
    {
      "cell_type": "code",
      "source": [
        "def power(base, exponent):\n",
        "    if exponent == 0:\n",
        "        return 1\n",
        "    elif exponent > 0:\n",
        "        return base * power(base, exponent - 1)\n",
        "    else:\n",
        "        return 1 / (base * power(base, -exponent - 1))\n",
        "base = 2\n",
        "exponent = 3\n",
        "result = power(base, exponent)\n",
        "print(f\"{base} raised to the power of {exponent} is: {result}\")\n"
      ],
      "metadata": {
        "id": "JlsAp9zdvuMX",
        "colab": {
          "base_uri": "https://localhost:8080/"
        },
        "outputId": "fa910169-1791-40ef-a6c0-1fe76597de17"
      },
      "execution_count": 16,
      "outputs": [
        {
          "output_type": "stream",
          "name": "stdout",
          "text": [
            "2 raised to the power of 3 is: 8\n"
          ]
        }
      ]
    },
    {
      "cell_type": "markdown",
      "source": [
        "33. Write a Python program to remove duplicates from a list while preserving the order.\n"
      ],
      "metadata": {
        "id": "rsWlxm7TvwL7"
      }
    },
    {
      "cell_type": "code",
      "source": [
        "def remove_duplicates(lst):\n",
        "    unique_list =[]\n",
        "    seen =set()\n",
        "\n",
        "    for item in lst:\n",
        "        if item not in seen:\n",
        "            unique_list.append(item)\n",
        "            seen.add(item)\n",
        "        return unique_list\n",
        "my_list = [1, 2, 3, 2, 4, 3, 2, 4, 5, 2]\n",
        "result = remove_duplicates(my_list)\n",
        "print(\"List with duplicates removed:\", result)"
      ],
      "metadata": {
        "id": "XCtHz81svwje",
        "colab": {
          "base_uri": "https://localhost:8080/"
        },
        "outputId": "aff5de43-93e0-4136-f5c6-e01ff8d43ac0"
      },
      "execution_count": 21,
      "outputs": [
        {
          "output_type": "stream",
          "name": "stdout",
          "text": [
            "List with duplicates removed: [1]\n"
          ]
        }
      ]
    },
    {
      "cell_type": "markdown",
      "source": [
        "34. Implement a function to find the longest common prefix among a list of strings.\n"
      ],
      "metadata": {
        "id": "NtxsJHRfvxm-"
      }
    },
    {
      "cell_type": "code",
      "source": [
        "def longest_common_prefix(strings):\n",
        "    if not strings:\n",
        "        return \"\"\n",
        "\n",
        "    prefix = strings[0]\n",
        "\n",
        "    for string in strings[1:]:\n",
        "        while string.find(prefix) != 0:\n",
        "            prefix = prefix[:-1]\n",
        "            if not prefix:\n",
        "                return \"\"\n",
        "\n",
        "    return prefix\n",
        "my_strings = [\"flower\", \"flow\", \"flight\"]\n",
        "result = longest_common_prefix(my_strings)\n",
        "print(\"Longest common prefix:\", result)\n"
      ],
      "metadata": {
        "id": "iRK_NyExvzE5",
        "colab": {
          "base_uri": "https://localhost:8080/"
        },
        "outputId": "fe2990c2-eefb-413a-b9df-866114433fe1"
      },
      "execution_count": 22,
      "outputs": [
        {
          "output_type": "stream",
          "name": "stdout",
          "text": [
            "Longest common prefix: fl\n"
          ]
        }
      ]
    },
    {
      "cell_type": "markdown",
      "source": [
        "35. Write a program to check if a given number is a perfect square.\n"
      ],
      "metadata": {
        "id": "6hHjWbYBvzdP"
      }
    },
    {
      "cell_type": "code",
      "source": [
        "def is_perfect_square(num):\n",
        "    if num < 0:\n",
        "        return False\n",
        "\n",
        "    if num == 0:\n",
        "        return True\n",
        "\n",
        "    sqrt = int(num ** 0.5)\n",
        "\n",
        "    return sqrt * sqrt == num\n",
        "\n",
        "number = 25\n",
        "result = is_perfect_square(number)\n",
        "print(f\"{number} is a perfect square: {result}\")\n",
        ""
      ],
      "metadata": {
        "id": "QbrelnbWv0yr",
        "colab": {
          "base_uri": "https://localhost:8080/"
        },
        "outputId": "84a1059e-f000-4aba-c539-437e1bf52c5e"
      },
      "execution_count": 26,
      "outputs": [
        {
          "output_type": "stream",
          "name": "stdout",
          "text": [
            "25 is a perfect square: True\n"
          ]
        }
      ]
    },
    {
      "cell_type": "markdown",
      "source": [
        "36. Implement a function to calculate the product of all elements in a list.\n"
      ],
      "metadata": {
        "id": "cOQbRt7mv1cJ"
      }
    },
    {
      "cell_type": "code",
      "source": [
        "def calculate_product(numbers):\n",
        "    product = 1\n",
        "    for num in numbers:\n",
        "        product *= num\n",
        "    return product\n",
        "my_list = [2, 3, 4, 5]\n",
        "result = calculate_product(my_list)\n",
        "print(\"Product of all elements:\", result)\n"
      ],
      "metadata": {
        "id": "w8G33BLov3KM",
        "colab": {
          "base_uri": "https://localhost:8080/"
        },
        "outputId": "01237d70-d2ca-49c0-9e98-2a03f96cdba9"
      },
      "execution_count": 27,
      "outputs": [
        {
          "output_type": "stream",
          "name": "stdout",
          "text": [
            "Product of all elements: 120\n"
          ]
        }
      ]
    },
    {
      "cell_type": "markdown",
      "source": [
        "37. Write a Python program to reverse the order of words in a sentence while preserving the word order.\n"
      ],
      "metadata": {
        "id": "4x5yyN5ev3lt"
      }
    },
    {
      "cell_type": "code",
      "source": [
        "def reverse_words(sentence):\n",
        "    words = sentence.split()\n",
        "    reversed_words = words[::-1]\n",
        "    reversed_sentence = ' '.join(reversed_words)\n",
        "    return reversed_sentence\n",
        "\n",
        "my_sentence = \"Hello, how are you today?\"\n",
        "reversed_sentence = reverse_words(my_sentence)\n",
        "print(\"Reversed sentence:\", reversed_sentence)\n"
      ],
      "metadata": {
        "id": "AUYQAOzDv5QW",
        "colab": {
          "base_uri": "https://localhost:8080/"
        },
        "outputId": "f3ee02bf-7560-496f-f57e-deb99cfaeb7b"
      },
      "execution_count": 29,
      "outputs": [
        {
          "output_type": "stream",
          "name": "stdout",
          "text": [
            "Reversed sentence: today? you are how Hello,\n"
          ]
        }
      ]
    },
    {
      "cell_type": "markdown",
      "source": [
        "38. Implement a function to find the missing number in a given list of consecutive numbers.\n"
      ],
      "metadata": {
        "id": "HMxSLi4Ov6IM"
      }
    },
    {
      "cell_type": "code",
      "source": [
        "def find_missing_number(numbers):\n",
        "    n = len(numbers) + 1\n",
        "    expected_sum = (n * (n + 1)) // 2\n",
        "    actual_sum = sum(numbers)\n",
        "    missing_number = expected_sum - actual_sum\n",
        "    return missing_number\n",
        "\n",
        "my_list = [1, 2, 3, 5, 6, 7, 8, 9]\n",
        "result = find_missing_number(my_list)\n",
        "print(\"Missing number:\", result)\n"
      ],
      "metadata": {
        "id": "uZINa35Bv73k",
        "colab": {
          "base_uri": "https://localhost:8080/"
        },
        "outputId": "37b47215-6407-4535-bdb5-91103f11cc5a"
      },
      "execution_count": 30,
      "outputs": [
        {
          "output_type": "stream",
          "name": "stdout",
          "text": [
            "Missing number: 4\n"
          ]
        }
      ]
    },
    {
      "cell_type": "markdown",
      "source": [
        "39. Write a program to find the sum of digits of a given number.\n"
      ],
      "metadata": {
        "id": "S0b4LWnCv9ho"
      }
    },
    {
      "cell_type": "code",
      "source": [
        "def sum_of_digits(number):\n",
        "    sum_digits = 0\n",
        "    while number > 0:\n",
        "        digit = number % 10\n",
        "        sum_digits += digit\n",
        "        number //= 10\n",
        "    return sum_digits\n",
        "number = 12345\n",
        "result = sum_of_digits(number)\n",
        "print(\"Sum of digits:\", result)\n"
      ],
      "metadata": {
        "id": "bfLm_lLvv94v",
        "colab": {
          "base_uri": "https://localhost:8080/"
        },
        "outputId": "67d5ef15-b389-47c9-959e-f4478d797c01"
      },
      "execution_count": 31,
      "outputs": [
        {
          "output_type": "stream",
          "name": "stdout",
          "text": [
            "Sum of digits: 15\n"
          ]
        }
      ]
    },
    {
      "cell_type": "markdown",
      "source": [
        "40. Implement a function to check if a given string is a valid palindrome considering case sensitivity.\n"
      ],
      "metadata": {
        "id": "latzs5kUv-fo"
      }
    },
    {
      "cell_type": "code",
      "source": [
        "def is_valid_palindrome(string):\n",
        "    clean_string = ''.join(char for char in string if char.isalnum())\n",
        "    return clean_string == clean_string[::-1]\n",
        "\n",
        "my_string = \"A man, a plan, a canal: Panama\"\n",
        "result = is_valid_palindrome(my_string)\n",
        "print(\"Is valid palindrome:\", result)\n"
      ],
      "metadata": {
        "id": "TM156VS6wBnp",
        "colab": {
          "base_uri": "https://localhost:8080/"
        },
        "outputId": "aef6c9f0-85d7-4cee-9ad2-47a9dc7f5db5"
      },
      "execution_count": 32,
      "outputs": [
        {
          "output_type": "stream",
          "name": "stdout",
          "text": [
            "Is valid palindrome: False\n"
          ]
        }
      ]
    },
    {
      "cell_type": "markdown",
      "source": [
        "41. Write a Python program to find the smallest missing positive integer in a list.\n"
      ],
      "metadata": {
        "id": "QxwktxdTwCCk"
      }
    },
    {
      "cell_type": "code",
      "source": [
        "def find_smallest_missing_positive(nums):\n",
        "    n = len(nums)\n",
        "    num_set = set(nums)\n",
        "\n",
        "    for i in range(1, n + 1):\n",
        "        if i not in num_set:\n",
        "            return i\n",
        "\n",
        "    return n + 1\n",
        "\n",
        "my_list = [3, 4, -1, 1]\n",
        "result = find_smallest_missing_positive(my_list)\n",
        "print(\"Smallest missing positive integer:\", result)\n"
      ],
      "metadata": {
        "id": "A71hRHXFwDcH",
        "colab": {
          "base_uri": "https://localhost:8080/"
        },
        "outputId": "38e66fad-2c41-48ce-cb58-7c92fd6c6f85"
      },
      "execution_count": 34,
      "outputs": [
        {
          "output_type": "stream",
          "name": "stdout",
          "text": [
            "Smallest missing positive integer: 2\n"
          ]
        }
      ]
    },
    {
      "cell_type": "markdown",
      "source": [
        "42. Implement a function to find the longest palindrome substring in a given string."
      ],
      "metadata": {
        "id": "MOnTUR-vwEKU"
      }
    },
    {
      "cell_type": "code",
      "source": [
        "def longest_palindrome_substring(string):\n",
        "    if not string:\n",
        "        return \"\"\n",
        "\n",
        "    start = 0\n",
        "    end = 0\n",
        "\n",
        "    for i in range(len(string)):\n",
        "        len1 = expand_around_center(string, i, i)\n",
        "        len2 = expand_around_center(string, i, i + 1)\n",
        "        max_len = max(len1, len2)\n",
        "\n",
        "        if max_len > end - start:\n",
        "            start = i - (max_len - 1) // 2\n",
        "            end = i + max_len // 2\n",
        "\n",
        "    return string[start:end+1]\n",
        "\n",
        "\n",
        "def expand_around_center(string, left, right):\n",
        "    while left >= 0 and right < len(string) and string[left] == string[right]:\n",
        "        left -= 1\n",
        "        right += 1\n",
        "\n",
        "    return right - left - 1\n",
        "\n",
        "my_string = \"babad\"\n",
        "result = longest_palindrome_substring(my_string)\n",
        "print(\"Longest palindrome substring:\", result)\n"
      ],
      "metadata": {
        "id": "AosiVPkYwF1F",
        "colab": {
          "base_uri": "https://localhost:8080/"
        },
        "outputId": "5d4aa293-4779-489c-fd3c-0c868f60e9e9"
      },
      "execution_count": 36,
      "outputs": [
        {
          "output_type": "stream",
          "name": "stdout",
          "text": [
            "Longest palindrome substring: aba\n"
          ]
        }
      ]
    },
    {
      "cell_type": "markdown",
      "source": [
        "43. Write a program to find the number of occurrences of a given element in a list.\n"
      ],
      "metadata": {
        "id": "Hof9PGATwGX3"
      }
    },
    {
      "cell_type": "code",
      "source": [
        "def count_occurrences(lst, element):\n",
        "    count = 0\n",
        "    for item in lst:\n",
        "        if item == element:\n",
        "            count += 1\n",
        "    return count\n",
        "my_list = [1, 2, 3, 2, 4, 2, 5]\n",
        "element = 2\n",
        "result = count_occurrences(my_list, element)\n",
        "print(\"Number of occurrences:\", result)\n"
      ],
      "metadata": {
        "id": "5aL8tpRgwIIi",
        "colab": {
          "base_uri": "https://localhost:8080/"
        },
        "outputId": "8be05e10-3963-44d4-b86c-fa67a88848f8"
      },
      "execution_count": 38,
      "outputs": [
        {
          "output_type": "stream",
          "name": "stdout",
          "text": [
            "Number of occurrences: 3\n"
          ]
        }
      ]
    },
    {
      "cell_type": "markdown",
      "source": [
        "44. Implement a function to check if a given number is a perfect number.\n"
      ],
      "metadata": {
        "id": "FBFaJbT8wJjU"
      }
    },
    {
      "cell_type": "code",
      "source": [
        "def is_perfect_number(number):\n",
        "    if number <= 0:\n",
        "        return False\n",
        "\n",
        "    divisor_sum = 0\n",
        "    for i in range(1, number):\n",
        "        if number % i == 0:\n",
        "            divisor_sum += i\n",
        "\n",
        "    return divisor_sum == number\n",
        "\n",
        "my_number = 28\n",
        "result = is_perfect_number(my_number)\n",
        "print(\"Is a perfect number:\", result)\n"
      ],
      "metadata": {
        "id": "xBwNE_W9wJ4u",
        "colab": {
          "base_uri": "https://localhost:8080/"
        },
        "outputId": "14f20657-22a3-4eb9-d295-277fdcfcfba0"
      },
      "execution_count": 43,
      "outputs": [
        {
          "output_type": "stream",
          "name": "stdout",
          "text": [
            "Is a perfect number: True\n"
          ]
        }
      ]
    },
    {
      "cell_type": "markdown",
      "source": [
        "45. Write a Python program to remove all duplicates from a string.\n"
      ],
      "metadata": {
        "id": "serRZyqEwKZD"
      }
    },
    {
      "cell_type": "code",
      "source": [
        "def remove_duplicates(string):\n",
        "    unique_chars = []\n",
        "    for char in string:\n",
        "        if char not in unique_chars:\n",
        "            unique_chars.append(char)\n",
        "    return ''.join(unique_chars)\n",
        "\n",
        "my_string = \"Hello, world!\"\n",
        "result = remove_duplicates(my_string)\n",
        "print(\"String with duplicates removed:\", result)\n"
      ],
      "metadata": {
        "id": "CGYZQPX4wL3l",
        "colab": {
          "base_uri": "https://localhost:8080/"
        },
        "outputId": "fcadf66c-0ae4-4f37-f513-5140ef9eefdf"
      },
      "execution_count": 42,
      "outputs": [
        {
          "output_type": "stream",
          "name": "stdout",
          "text": [
            "String with duplicates removed: Helo, wrd!\n"
          ]
        }
      ]
    },
    {
      "cell_type": "markdown",
      "source": [
        "46. Implement a function to find the first missing positive\n"
      ],
      "metadata": {
        "id": "7C0nIlfkwNX4"
      }
    },
    {
      "cell_type": "code",
      "source": [
        "def first_missing_positive(nums):\n",
        "    n = len(nums)\n",
        "\n",
        "    i = 0\n",
        "    while i < n:\n",
        "        if 1 <= nums[i] <= n and nums[nums[i] - 1] != nums[i]:\n",
        "            nums[nums[i] - 1], nums[i] = nums[i], nums[nums[i] - 1]\n",
        "        else:\n",
        "            i += 1\n",
        "\n",
        "    for i in range(n):\n",
        "        if nums[i] != i + 1:\n",
        "            return i + 1\n",
        "\n",
        "    return n + 1\n",
        "\n",
        "my_list = [3, 4, -1, 1]\n",
        "result = first_missing_positive(my_list)\n",
        "print(\"First missing positive:\", result)\n"
      ],
      "metadata": {
        "id": "-2QBwVJBwQh4",
        "colab": {
          "base_uri": "https://localhost:8080/"
        },
        "outputId": "1b532f6f-ca3b-47cc-b0d6-7ad43251c661"
      },
      "execution_count": 41,
      "outputs": [
        {
          "output_type": "stream",
          "name": "stdout",
          "text": [
            "First missing positive: 2\n"
          ]
        }
      ]
    },
    {
      "cell_type": "code",
      "source": [],
      "metadata": {
        "id": "ytPlHrlL2Xa1"
      },
      "execution_count": null,
      "outputs": []
    }
  ]
}