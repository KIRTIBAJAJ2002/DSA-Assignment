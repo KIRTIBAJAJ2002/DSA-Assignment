{
  "nbformat": 4,
  "nbformat_minor": 0,
  "metadata": {
    "colab": {
      "provenance": []
    },
    "kernelspec": {
      "name": "python3",
      "display_name": "Python 3"
    },
    "language_info": {
      "name": "python"
    }
  },
  "cells": [
    {
      "cell_type": "code",
      "execution_count": 3,
      "metadata": {
        "colab": {
          "base_uri": "https://localhost:8080/"
        },
        "id": "mcy8QNd3M3Su",
        "outputId": "7edf9301-9ee8-4391-be22-0bfe648f4a11"
      },
      "outputs": [
        {
          "output_type": "stream",
          "name": "stdout",
          "text": [
            "True\n"
          ]
        }
      ],
      "source": [
        "def isPowerOfThree(n):\n",
        "    if n == 1:\n",
        "        return True\n",
        "    elif n <= 0 or n % 3 != 0:\n",
        "        return False\n",
        "    else:\n",
        "        return isPowerOfThree(n / 3)\n",
        "print(isPowerOfThree(27))  \n"
      ]
    },
    {
      "cell_type": "code",
      "source": [
        "def lastRemaining(n):\n",
        "    arr = list(range(1, n + 1))\n",
        "    left_to_right = True\n",
        "    while len(arr) > 1:\n",
        "        if left_to_right:\n",
        "            arr = arr[1::2] \n",
        "        else:\n",
        "            arr = arr[-2::-2]  \n",
        "        left_to_right = not left_to_right  \n",
        "    return arr[0]\n",
        "print(lastRemaining(9))  \n"
      ],
      "metadata": {
        "colab": {
          "base_uri": "https://localhost:8080/"
        },
        "id": "yKOSNsjFM-dH",
        "outputId": "664b98a4-1edb-4dfb-aae9-91b09f570183"
      },
      "execution_count": 20,
      "outputs": [
        {
          "output_type": "stream",
          "name": "stdout",
          "text": [
            "2\n"
          ]
        }
      ]
    },
    {
      "cell_type": "code",
      "source": [
        "def printSubsets(s):\n",
        "    subsets = []\n",
        "    generateSubsets(s, 0, \"\", subsets)\n",
        "    return subsets\n",
        "\n",
        "def generateSubsets(s, index, current, subsets):\n",
        "    if index == len(s):\n",
        "        subsets.append(current)\n",
        "        return\n",
        "    \n",
        "    generateSubsets(s, index + 1, current + s[index], subsets)\n",
        "    \n",
        "    generateSubsets(s, index + 1, current, subsets)\n"
      ],
      "metadata": {
        "id": "7Z-3fVxjOdTE"
      },
      "execution_count": 21,
      "outputs": []
    },
    {
      "cell_type": "code",
      "source": [
        "def calculateLength(s):\n",
        "    if s == \"\":\n",
        "        return 0\n",
        "    else:\n",
        "        return 1 + calculateLength(s[1:])\n",
        "Input : str = \"abcd\"\n"
      ],
      "metadata": {
        "id": "u-qwObRWR5XR"
      },
      "execution_count": 22,
      "outputs": []
    },
    {
      "cell_type": "code",
      "source": [
        "def countSubstrings(S):\n",
        "    count = 0\n",
        "    for i in range(len(S)):\n",
        "        for j in range(i, len(S)):\n",
        "            if S[i] == S[j]:\n",
        "                count += 1\n",
        "    return count\n",
        "print(countSubstrings(\"abc\"))  \n",
        "print(countSubstrings(\"aaa\"))  \n",
        "print(countSubstrings(\"abacaba\"))  \n"
      ],
      "metadata": {
        "colab": {
          "base_uri": "https://localhost:8080/"
        },
        "id": "90M1amMySBqv",
        "outputId": "872711d0-cde6-400d-b9d4-de869d82e904"
      },
      "execution_count": 24,
      "outputs": [
        {
          "output_type": "stream",
          "name": "stdout",
          "text": [
            "3\n",
            "6\n",
            "14\n"
          ]
        }
      ]
    },
    {
      "cell_type": "code",
      "source": [
        "def towerOfHanoi(n, source, destination, auxiliary):\n",
        "    if n == 1:\n",
        "        printMove(source, destination)\n",
        "    else:\n",
        "        towerOfHanoi(n - 1, source, auxiliary, destination)\n",
        "        printMove(source, destination)\n",
        "        towerOfHanoi(n - 1, auxiliary, destination, source)\n",
        "\n",
        "def printMove(source, destination):\n",
        "    print(\"Move disk from\", source, \"to\", destination)\n",
        "\n",
        "n = int(input(\"Enter the number of discs: \"))\n",
        "print(\"Steps to solve the Tower of Hanoi:\")\n",
        "towerOfHanoi(n, \"Rod 1\", \"Rod 3\", \"Rod 2\")\n"
      ],
      "metadata": {
        "colab": {
          "base_uri": "https://localhost:8080/"
        },
        "id": "UA1yeZXwSL2i",
        "outputId": "77cc6098-c35b-4bcc-e7bd-c6dbe0b2fce5"
      },
      "execution_count": 25,
      "outputs": [
        {
          "output_type": "stream",
          "name": "stdout",
          "text": [
            "Enter the number of discs: 3\n",
            "Steps to solve the Tower of Hanoi:\n",
            "Move disk from Rod 1 to Rod 3\n",
            "Move disk from Rod 1 to Rod 2\n",
            "Move disk from Rod 3 to Rod 2\n",
            "Move disk from Rod 1 to Rod 3\n",
            "Move disk from Rod 2 to Rod 1\n",
            "Move disk from Rod 2 to Rod 3\n",
            "Move disk from Rod 1 to Rod 3\n"
          ]
        }
      ]
    },
    {
      "cell_type": "code",
      "source": [
        "def printPermutations(s):\n",
        "    permutations = []\n",
        "    generatePermutations(list(s), 0, len(s) - 1, permutations)\n",
        "    return permutations\n",
        "\n",
        "def generatePermutations(s, left, right, permutations):\n",
        "    if left == right:\n",
        "        permutations.append(\"\".join(s))\n",
        "    else:\n",
        "        for i in range(left, right + 1):\n",
        "            s[left], s[i] = s[i], s[left]  # Swap characters\n",
        "            generatePermutations(s, left + 1, right, permutations)\n",
        "            s[left], s[i] = s[i], s[left]  # Restore original order\n",
        "\n"
      ],
      "metadata": {
        "id": "4HhgsJ2PSXbk"
      },
      "execution_count": 26,
      "outputs": []
    },
    {
      "cell_type": "code",
      "source": [],
      "metadata": {
        "id": "ErCRp_5KShvL"
      },
      "execution_count": null,
      "outputs": []
    }
  ]
}