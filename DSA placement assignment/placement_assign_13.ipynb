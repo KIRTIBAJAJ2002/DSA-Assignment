{
  "nbformat": 4,
  "nbformat_minor": 0,
  "metadata": {
    "colab": {
      "provenance": []
    },
    "kernelspec": {
      "name": "python3",
      "display_name": "Python 3"
    },
    "language_info": {
      "name": "python"
    }
  },
  "cells": [
    {
      "cell_type": "code",
      "execution_count": null,
      "metadata": {
        "colab": {
          "base_uri": "https://localhost:8080/"
        },
        "id": "-sTg3OBmMZxc",
        "outputId": "2869d595-acef-412d-fd06-724c8e8a6f72"
      },
      "outputs": [
        {
          "output_type": "stream",
          "name": "stdout",
          "text": [
            "5 -> 2 -> 3 -> 8 -> 1 -> 7 -> 4 -> 5 -> None\n"
          ]
        }
      ],
      "source": [
        "class Node:\n",
        "    def __init__(self, value):\n",
        "        self.value = value\n",
        "        self.next = None\n",
        "\n",
        "def create_new_linked_list(head1, head2):\n",
        "    new_head = None\n",
        "    current = None\n",
        "\n",
        "    while head1 is not None and head2 is not None:\n",
        "        if head1.value >= head2.value:\n",
        "            new_node = Node(head1.value)\n",
        "            head1 = head1.next\n",
        "        else:\n",
        "            new_node = Node(head2.value)\n",
        "            head2 = head2.next\n",
        "\n",
        "        if new_head is None:\n",
        "            new_head = new_node\n",
        "            current = new_head\n",
        "        else:\n",
        "            current.next = new_node\n",
        "            current = current.next\n",
        "\n",
        "    while head1 is not None:\n",
        "        new_node = Node(head1.value)\n",
        "        head1 = head1.next\n",
        "        current.next = new_node\n",
        "        current = current.next\n",
        "\n",
        "    while head2 is not None:\n",
        "        new_node = Node(head2.value)\n",
        "        head2 = head2.next\n",
        "        current.next = new_node\n",
        "        current = current.next\n",
        "\n",
        "    return new_head\n",
        "\n",
        "head1 = Node(5)\n",
        "head1.next = Node(2)\n",
        "head1.next.next = Node(3)\n",
        "head1.next.next.next = Node(8)\n",
        "\n",
        "head2 = Node(1)\n",
        "head2.next = Node(7)\n",
        "head2.next.next = Node(4)\n",
        "head2.next.next.next = Node(5)\n",
        "\n",
        "new_head = create_new_linked_list(head1, head2)\n",
        "\n",
        "current = new_head\n",
        "while current is not None:\n",
        "    print(current.value, end=\" -> \")\n",
        "    current = current.next\n",
        "print(\"None\")\n"
      ]
    },
    {
      "cell_type": "code",
      "source": [
        "class Node:\n",
        "    def __init__(self, value):\n",
        "        self.value = value\n",
        "        self.next = None\n",
        "def remove_duplicates(head):\n",
        "    current = head\n",
        "\n",
        "    while current is not None and current.next is not None:\n",
        "        if current.value == current.next.value:\n",
        "            current.next = current.next.next\n",
        "        else:\n",
        "            current = current.next\n",
        "head = Node(11)\n",
        "head.next = Node(11)\n",
        "head.next.next = Node(11)\n",
        "head.next.next.next = Node(21)\n",
        "head.next.next.next.next = Node(43)\n",
        "head.next.next.next.next.next = Node(43)\n",
        "head.next.next.next.next.next.next = Node(60)\n",
        "\n",
        "# Remove duplicate nodes from the linked list\n",
        "remove_duplicates(head)\n",
        "\n",
        "# Print the modified linked list: 11 -> 21 -> 43 -> 60\n",
        "current = head\n",
        "while current is not None:\n",
        "    print(current.value, end=\" -> \")\n",
        "    current = current.next\n",
        "print(\"None\")\n"
      ],
      "metadata": {
        "colab": {
          "base_uri": "https://localhost:8080/"
        },
        "id": "Y6TcgK9F7vRk",
        "outputId": "cc675e48-6731-4050-d078-86c72f67a766"
      },
      "execution_count": null,
      "outputs": [
        {
          "output_type": "stream",
          "name": "stdout",
          "text": [
            "11 -> 21 -> 43 -> 60 -> None\n"
          ]
        }
      ]
    },
    {
      "cell_type": "code",
      "source": [
        "class Node:\n",
        "    def __init__(self, value):\n",
        "        self.value = value\n",
        "        self.next = None\n",
        "def reverse_k_nodes(head, k):\n",
        "    current = head\n",
        "    next_node = None\n",
        "    prev_node = None\n",
        "    count = 0\n",
        "\n",
        "    while current is not None and count < k:\n",
        "        next_node = current.next\n",
        "        current.next = prev_node\n",
        "        prev_node = current\n",
        "        current = next_node\n",
        "        count += 1\n",
        "\n",
        "    if next_node is not None:\n",
        "        head.next = reverse_k_nodes(next_node, k)\n",
        "\n",
        "    return prev_node\n"
      ],
      "metadata": {
        "id": "TdYpJg_Z71ne"
      },
      "execution_count": null,
      "outputs": []
    },
    {
      "cell_type": "code",
      "source": [
        "def reverse_alternate_k_nodes(head, k):\n",
        "    current = head\n",
        "    next_node = None\n",
        "    prev_node = None\n",
        "    count = 0\n",
        "\n",
        "    # Reverse the first k nodes\n",
        "    while current is not None and count < k:\n",
        "        next_node = current.next\n",
        "        current.next = prev_node\n",
        "        prev_node = current\n",
        "        current = next_node\n",
        "        count += 1\n",
        "\n",
        "    if next_node is not None:\n",
        "        head.next = current\n",
        "        for i in range(k):\n",
        "            if current is None:\n",
        "                break\n",
        "            current = current.next\n",
        "\n",
        "        if current is not None:\n",
        "            current.next = reverse_alternate_k_nodes(current.next, k)\n",
        "\n",
        "    return prev_node\n"
      ],
      "metadata": {
        "id": "R5VIvCYiB1LS"
      },
      "execution_count": null,
      "outputs": []
    },
    {
      "cell_type": "code",
      "source": [
        "#5\n",
        "class Node:\n",
        "    def __init__(self, value):\n",
        "        self.value = value\n",
        "        self.next = None\n",
        "def delete_last_occurrence(head, key):\n",
        "    current = head\n",
        "    prev = None\n",
        "    last_occurrence = None\n",
        "    prev_last_occurrence = None\n",
        "\n",
        "    while current is not None:\n",
        "        if current.value == key:\n",
        "            last_occurrence = current\n",
        "            prev_last_occurrence = prev\n",
        "        prev = current\n",
        "        current = current.next\n",
        "\n",
        "    if last_occurrence is not None:\n",
        "        if prev_last_occurrence is not None:\n",
        "            prev_last_occurrence.next = last_occurrence.next\n",
        "        else:\n",
        "            head = last_occurrence.next\n",
        "\n",
        "    return head\n"
      ],
      "metadata": {
        "id": "YINtNEJYB58u"
      },
      "execution_count": null,
      "outputs": []
    },
    {
      "cell_type": "code",
      "source": [
        "#6\n",
        "class Node:\n",
        "    def __init__(self, value):\n",
        "        self.value = value\n",
        "        self.next = None\n",
        "def merge_sorted_lists(head1, head2):\n",
        "    # Base cases\n",
        "    if head1 is None:\n",
        "        return head2\n",
        "    if head2 is None:\n",
        "        return head1\n",
        "\n",
        "    # Initialize pointers for the merged list\n",
        "    if head1.value < head2.value:\n",
        "        merged_head = head1\n",
        "        head1 = head1.next\n",
        "    else:\n",
        "        merged_head = head2\n",
        "        head2 = head2.next\n",
        "\n",
        "    current = merged_head\n",
        "\n",
        "    while head1 is not None and head2 is not None:\n",
        "        if head1.value < head2.value:\n",
        "            current.next = head1\n",
        "            head1 = head1.next\n",
        "        else:\n",
        "            current.next = head2\n",
        "            head2 = head2.next\n",
        "        current = current.next\n",
        "\n",
        "    if head1 is not None:\n",
        "        current.next = head1\n",
        "    if head2 is not None:\n",
        "        current.next = head2\n",
        "\n",
        "    return merged_head\n"
      ],
      "metadata": {
        "id": "v1fPx5goCNgQ"
      },
      "execution_count": null,
      "outputs": []
    },
    {
      "cell_type": "code",
      "source": [
        "#7\n",
        "class Node:\n",
        "    def __init__(self, value):\n",
        "        self.value = value\n",
        "        self.next = None\n",
        "        self.prev = None\n",
        "def reverse_doubly_linked_list(head):\n",
        "    current = head\n",
        "    prev = None\n",
        "\n",
        "    while current is not None:\n",
        "        next_node = current.next\n",
        "        current.next = prev\n",
        "        current.prev = next_node\n",
        "        prev = current\n",
        "        current = next_node\n",
        "\n",
        "    head = prev\n",
        "\n",
        "    return head\n"
      ],
      "metadata": {
        "id": "stmozD38Cqj1"
      },
      "execution_count": null,
      "outputs": []
    },
    {
      "cell_type": "code",
      "source": [
        "def delete_node_at_position(head, position):\n",
        "    if head is None:\n",
        "        return head\n",
        "\n",
        "    if position == 1:\n",
        "        if head.next is not None:\n",
        "            head.next.prev = None\n",
        "        return head.next\n",
        "\n",
        "    current = head\n",
        "    count = 1\n",
        "\n",
        "    # Traverse to the node at the given position\n",
        "    while current is not None and count < position:\n",
        "        current = current.next\n",
        "        count += 1\n",
        "\n",
        "    # If the node is found, delete it\n",
        "    if current is not None:\n",
        "        current.prev.next = current.next\n",
        "        if current.next is not None:\n",
        "            current.next.prev = current.prev\n",
        "\n",
        "    return head\n",
        "head = Node(1)\n",
        "head.next = Node(2)\n",
        "head.next.prev = head\n",
        "head.next.next = Node(3)\n",
        "head.next.next.prev = head.next\n",
        "head.next.next.next = Node(4)\n",
        "head.next.next.next.prev = head.next.next\n",
        "head.next.next.next.next = Node(5)\n",
        "head.next.next.next.next.prev = head.next.next.next\n",
        "\n",
        "position = 3\n",
        "new_head = delete_node_at_position(head, position)\n",
        "\n",
        "current = new_head\n",
        "while current is not None:\n",
        "    print(current.value, end=\" <-> \")\n",
        "    current = current.next\n",
        "print(\"None\")\n"
      ],
      "metadata": {
        "id": "1GRJNgOdC-Vf",
        "colab": {
          "base_uri": "https://localhost:8080/"
        },
        "outputId": "bca3c8cf-1beb-4d7a-a920-3d13af3da387"
      },
      "execution_count": 12,
      "outputs": [
        {
          "output_type": "stream",
          "name": "stdout",
          "text": [
            "1 <-> 2 <-> 4 <-> 5 <-> None\n"
          ]
        }
      ]
    },
    {
      "cell_type": "code",
      "source": [],
      "metadata": {
        "id": "bkKKgb6XJnKa"
      },
      "execution_count": null,
      "outputs": []
    }
  ]
}