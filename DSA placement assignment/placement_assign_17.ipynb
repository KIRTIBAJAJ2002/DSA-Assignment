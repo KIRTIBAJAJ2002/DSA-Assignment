{
  "nbformat": 4,
  "nbformat_minor": 0,
  "metadata": {
    "colab": {
      "provenance": []
    },
    "kernelspec": {
      "name": "python3",
      "display_name": "Python 3"
    },
    "language_info": {
      "name": "python"
    }
  },
  "cells": [
    {
      "cell_type": "code",
      "execution_count": 1,
      "metadata": {
        "colab": {
          "base_uri": "https://localhost:8080/"
        },
        "id": "fwWuXMEWKAZ2",
        "outputId": "9fd0d2b4-41f4-4e0b-c0be-1297f82a2885"
      },
      "outputs": [
        {
          "output_type": "stream",
          "name": "stdout",
          "text": [
            "0\n"
          ]
        }
      ],
      "source": [
        "#1\n",
        "def first_non_repeating_char(s):\n",
        "    char_count = {}\n",
        "    for i, char in enumerate(s):\n",
        "        if char in char_count:\n",
        "            char_count[char] = -1\n",
        "        else:\n",
        "            char_count[char] = i\n",
        "    for char, index in char_count.items():\n",
        "        if index != -1:\n",
        "            return index\n",
        "    return -1\n",
        "\n",
        "s = \"leetcode\"\n",
        "result = first_non_repeating_char(s)\n",
        "print(result)\n"
      ]
    },
    {
      "cell_type": "code",
      "source": [
        "#2\n",
        "def max_subarray_sum_circular(nums):\n",
        "    n = len(nums)\n",
        "\n",
        "    # Calculate the maximum sum of a non-empty subarray using Kadane's algorithm\n",
        "    def kadane(nums):\n",
        "        max_sum = float('-inf')\n",
        "        current_sum = 0\n",
        "        for num in nums:\n",
        "            current_sum = max(num, current_sum + num)\n",
        "            max_sum = max(max_sum, current_sum)\n",
        "        return max_sum\n",
        "\n",
        "    # Case 1: Maximum sum subarray is not circular\n",
        "    max_sum_non_circular = kadane(nums)\n",
        "\n",
        "    # Case 2: Maximum sum subarray is circular\n",
        "    total_sum = sum(nums)\n",
        "    inverted_nums = [-num for num in nums]\n",
        "    max_sum_inverted = kadane(inverted_nums)\n",
        "    max_sum_circular = total_sum + max_sum_inverted\n",
        "\n",
        "    # Return the maximum of the two cases\n",
        "    return max(max_sum_non_circular, max_sum_circular)\n",
        "\n",
        "# Example usage\n",
        "nums = [1, -2, 3, -2]\n",
        "result = max_subarray_sum_circular(nums)\n",
        "print(result)\n"
      ],
      "metadata": {
        "colab": {
          "base_uri": "https://localhost:8080/"
        },
        "id": "WjYAlYesKm7i",
        "outputId": "a471ca40-7254-433c-b863-7e3fede53fe6"
      },
      "execution_count": 3,
      "outputs": [
        {
          "output_type": "stream",
          "name": "stdout",
          "text": [
            "3\n"
          ]
        }
      ]
    },
    {
      "cell_type": "code",
      "source": [
        "#3\n",
        "def count_students_unable_to_eat(students, sandwiches):\n",
        "    count = 0  # Counter for students unable to eat\n",
        "\n",
        "    while students:\n",
        "        if students[0] == sandwiches[0]:\n",
        "            students.pop(0)\n",
        "            sandwiches.pop(0)\n",
        "            count = 0  # Reset count when a student eats\n",
        "        else:\n",
        "            students.append(students.pop(0))\n",
        "            count += 1  # Increment count when a student cannot eat the sandwich\n",
        "\n",
        "        # If all students have been cycled and unable to eat, break the loop\n",
        "        if count == len(students):\n",
        "            break\n",
        "\n",
        "    return count\n",
        "\n",
        "# Example usage\n",
        "students = [1,1,0,0]\n",
        "sandwiches = [0,1,0,1]\n",
        "result = count_students_unable_to_eat(students, sandwiches)\n",
        "print(result)\n"
      ],
      "metadata": {
        "colab": {
          "base_uri": "https://localhost:8080/"
        },
        "id": "ZcMgCSR3K68y",
        "outputId": "609dc679-fbfd-433a-dbbd-a91e75695dca"
      },
      "execution_count": 4,
      "outputs": [
        {
          "output_type": "stream",
          "name": "stdout",
          "text": [
            "0\n"
          ]
        }
      ]
    },
    {
      "cell_type": "code",
      "source": [
        "#4\n",
        "from collections import deque\n",
        "\n",
        "class RecentCounter:\n",
        "    def __init__(self):\n",
        "        self.requests = deque()\n",
        "\n",
        "    def ping(self, t):\n",
        "        while self.requests and self.requests[0] < t - 3000:\n",
        "            self.requests.popleft()\n",
        "\n",
        "        self.requests.append(t)\n",
        "\n",
        "        return len(self.requests)\n",
        "\n",
        "rc = RecentCounter()\n",
        "print(rc.ping(1))\n",
        "print(rc.ping(100))\n",
        "print(rc.ping(3001))\n",
        "print(rc.ping(3002))\n"
      ],
      "metadata": {
        "colab": {
          "base_uri": "https://localhost:8080/"
        },
        "id": "TX1E6JRfLVea",
        "outputId": "4ab6fb11-0961-43b6-fce8-8be3f4f3bc38"
      },
      "execution_count": 6,
      "outputs": [
        {
          "output_type": "stream",
          "name": "stdout",
          "text": [
            "1\n",
            "2\n",
            "3\n",
            "3\n"
          ]
        }
      ]
    },
    {
      "cell_type": "code",
      "source": [
        "#5\n",
        "from collections import deque\n",
        "\n",
        "def find_the_winner(n, k):\n",
        "    circle = deque(range(1, n + 1))\n",
        "\n",
        "    while len(circle) > 1:\n",
        "        circle.rotate(-k + 1)\n",
        "        circle.popleft()\n",
        "\n",
        "    return circle[0]\n",
        "\n",
        "n = 5\n",
        "k = 2\n",
        "winner = find_the_winner(n, k)\n",
        "print(winner)\n"
      ],
      "metadata": {
        "colab": {
          "base_uri": "https://localhost:8080/"
        },
        "id": "wX-C_BraL1MJ",
        "outputId": "8296b50c-6873-4c2b-f94e-da90de92e7a3"
      },
      "execution_count": 7,
      "outputs": [
        {
          "output_type": "stream",
          "name": "stdout",
          "text": [
            "3\n"
          ]
        }
      ]
    },
    {
      "cell_type": "code",
      "source": [
        "#6\n",
        "from collections import deque\n",
        "import heapq\n",
        "\n",
        "def reveal_cards_increasing(deck):\n",
        "    deck.sort(reverse=True)\n",
        "\n",
        "    queue = deque(range(len(deck)))\n",
        "\n",
        "    result = [0] * len(deck)\n",
        "\n",
        "    for card in deck:\n",
        "        index = queue.popleft()\n",
        "        result[index] = card\n",
        "\n",
        "        if queue:\n",
        "            queue.append(queue.popleft())\n",
        "\n",
        "    return result\n",
        "\n",
        "deck = [17, 13, 11, 2, 3, 5, 7]\n",
        "ordered_deck = reveal_cards_increasing(deck)\n",
        "print(ordered_deck)\n"
      ],
      "metadata": {
        "colab": {
          "base_uri": "https://localhost:8080/"
        },
        "id": "RqiBhbPFMM4o",
        "outputId": "2f990561-0fbc-4f91-f8d7-8381304f1379"
      },
      "execution_count": 9,
      "outputs": [
        {
          "output_type": "stream",
          "name": "stdout",
          "text": [
            "[17, 3, 13, 5, 11, 2, 7]\n"
          ]
        }
      ]
    },
    {
      "cell_type": "code",
      "source": [
        "#7\n",
        "from collections import deque\n",
        "\n",
        "class FrontMiddleBackQueue:\n",
        "    def __init__(self):\n",
        "        self.front = deque()\n",
        "        self.back = deque()\n",
        "\n",
        "    def pushFront(self, val):\n",
        "        self.front.appendleft(val)\n",
        "        self._balance()\n",
        "\n",
        "    def pushMiddle(self, val):\n",
        "        if len(self.front) > len(self.back):\n",
        "            self.back.appendleft(self.front.pop())\n",
        "        self.front.append(val)\n",
        "\n",
        "    def pushBack(self, val):\n",
        "        self.back.append(val)\n",
        "        self._balance()\n",
        "\n",
        "    def popFront(self):\n",
        "        if not self.front and not self.back:\n",
        "            return -1\n",
        "        if not self.front:\n",
        "            return self.back.popleft()\n",
        "        return self.front.popleft()\n",
        "\n",
        "    def popMiddle(self):\n",
        "        if not self.front and not self.back:\n",
        "            return -1\n",
        "        if len(self.front) >= len(self.back):\n",
        "            return self.front.pop()\n",
        "        return self.back.popleft()\n",
        "\n",
        "    def popBack(self):\n",
        "        if not self.front and not self.back:\n",
        "            return -1\n",
        "        if not self.back:\n",
        "            return self.front.pop()\n",
        "        return self.back.pop()\n",
        "\n",
        "    def _balance(self):\n",
        "        if len(self.front) > len(self.back) + 1:\n",
        "            self.back.appendleft(self.front.pop())\n",
        "        elif len(self.back) > len(self.front):\n",
        "            self.front.append(self.back.popleft())\n",
        "q = FrontMiddleBackQueue()\n",
        "\n",
        "q.pushFront(1)\n",
        "q.pushBack(2)\n",
        "q.pushMiddle(3)\n",
        "q.pushMiddle(4)\n",
        "\n",
        "print(q.popFront())\n",
        "print(q.popMiddle())\n"
      ],
      "metadata": {
        "colab": {
          "base_uri": "https://localhost:8080/"
        },
        "id": "elqQpYImMWLZ",
        "outputId": "a55eb209-1206-4d71-c636-f2312ff428f6"
      },
      "execution_count": 11,
      "outputs": [
        {
          "output_type": "stream",
          "name": "stdout",
          "text": [
            "1\n",
            "3\n"
          ]
        }
      ]
    },
    {
      "cell_type": "code",
      "source": [
        "#8\n",
        "class DataStream:\n",
        "    def __init__(self, value, k):\n",
        "        self.value = value\n",
        "        self.k = k\n",
        "        self.stream = []\n",
        "\n",
        "    def consec(self, num):\n",
        "        self.stream.append(num)\n",
        "        if len(self.stream) >= self.k:\n",
        "            last_k = self.stream[-self.k:]\n",
        "            return all(num == self.value for num in last_k)\n",
        "        return False\n",
        "data_stream = DataStream(4, 3)\n",
        "\n",
        "print(data_stream.consec(4))\n",
        "print(data_stream.consec(4))\n",
        "print(data_stream.consec(4))\n",
        "print(data_stream.consec(3))"
      ],
      "metadata": {
        "colab": {
          "base_uri": "https://localhost:8080/"
        },
        "id": "bzB4y5jfNwFN",
        "outputId": "e28072ee-927d-4e7d-e82e-b0586f5700c6"
      },
      "execution_count": 12,
      "outputs": [
        {
          "output_type": "stream",
          "name": "stdout",
          "text": [
            "False\n",
            "False\n",
            "True\n",
            "False\n"
          ]
        }
      ]
    },
    {
      "cell_type": "code",
      "source": [],
      "metadata": {
        "id": "4hguS0m0OGgB"
      },
      "execution_count": null,
      "outputs": []
    }
  ]
}