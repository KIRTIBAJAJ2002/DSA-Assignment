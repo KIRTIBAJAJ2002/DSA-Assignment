{
  "nbformat": 4,
  "nbformat_minor": 0,
  "metadata": {
    "colab": {
      "provenance": []
    },
    "kernelspec": {
      "name": "python3",
      "display_name": "Python 3"
    },
    "language_info": {
      "name": "python"
    }
  },
  "cells": [
    {
      "cell_type": "code",
      "source": [
        "#1\n",
        "def twoSum(nums, target):\n",
        "    # Iterate through each element in the array\n",
        "    for i in range(len(nums)):\n",
        "        # Check if the complement exists in the remaining elements\n",
        "        for j in range(i + 1, len(nums)):\n",
        "            if nums[i] + nums[j] == target:\n",
        "                return [i, j]\n",
        "    return []\n",
        "nums = [2, 7, 11, 15]\n",
        "target = 9\n",
        "result = twoSum(nums, target)\n",
        "print(result)  \n"
      ],
      "metadata": {
        "colab": {
          "base_uri": "https://localhost:8080/"
        },
        "id": "jTs14HYt-7e-",
        "outputId": "9493b10b-1799-410f-dde2-a73bd2e2f578"
      },
      "execution_count": 2,
      "outputs": [
        {
          "output_type": "stream",
          "name": "stdout",
          "text": [
            "[0, 1]\n"
          ]
        }
      ]
    },
    {
      "cell_type": "code",
      "source": [
        "#2\n",
        "def removeElement(nums, val):\n",
        "    i = 0  # Pointer for iterating through the array\n",
        "    k = 0  # Pointer for storing the index of non-val elements\n",
        "    \n",
        "    while i < len(nums):\n",
        "        if nums[i] != val:\n",
        "            # If the current element is not equal to val, move it to the non-val section\n",
        "            nums[k] = nums[i]\n",
        "            k += 1\n",
        "        i += 1\n",
        "    \n",
        "    # Return the number of elements that are not equal to val (k)\n",
        "    return k\n",
        "\n",
        "# Example usage\n",
        "nums = [3, 2, 2, 3]\n",
        "val = 3\n",
        "result = removeElement(nums, val)\n",
        "print(\"Output:\", result)\n",
        "print(\"Modified nums:\", nums[:result])\n"
      ],
      "metadata": {
        "id": "fBIfcAazAMLu",
        "colab": {
          "base_uri": "https://localhost:8080/"
        },
        "outputId": "589fca54-9080-4777-96ab-61318a4a6bcd"
      },
      "execution_count": 1,
      "outputs": [
        {
          "output_type": "stream",
          "name": "stdout",
          "text": [
            "Output: 2\n",
            "Modified nums: [2, 2]\n"
          ]
        }
      ]
    },
    {
      "cell_type": "code",
      "source": [
        "#3\n",
        "def searchInsert(nums, target):\n",
        "    for i in range(len(nums)):\n",
        "        if nums[i] >= target:\n",
        "            return i\n",
        "    return len(nums)\n",
        "nums = [1, 3, 4, 6]\n",
        "target = 5\n",
        "result = searchInsert(nums, target)\n",
        "print(\"Output:\", result)\n"
      ],
      "metadata": {
        "colab": {
          "base_uri": "https://localhost:8080/"
        },
        "id": "ewvIhSc_QOND",
        "outputId": "7423fe12-f1bf-4866-bccc-66f53262dc4d"
      },
      "execution_count": 5,
      "outputs": [
        {
          "output_type": "stream",
          "name": "stdout",
          "text": [
            "Output: 3\n"
          ]
        }
      ]
    },
    {
      "cell_type": "code",
      "source": [
        "#4\n",
        "def plusOne(digits):\n",
        "    # Convert the digits array to an integer\n",
        "    num = int(''.join(map(str, digits)))\n",
        "    \n",
        "    # Increment the integer by one\n",
        "    num += 1\n",
        "    \n",
        "    # Convert the incremented integer back to a list of digits\n",
        "    digits = list(map(int, str(num)))\n",
        "    \n",
        "    return digits\n",
        "\n",
        "# Example usage\n",
        "digits = [1, 2, 3]\n",
        "result = plusOne(digits)\n",
        "print(\"Output:\", result)\n"
      ],
      "metadata": {
        "colab": {
          "base_uri": "https://localhost:8080/"
        },
        "id": "3LmvJbuAd7h2",
        "outputId": "fd2b250c-2d6e-4e53-8a38-3d9920a55240"
      },
      "execution_count": 6,
      "outputs": [
        {
          "output_type": "stream",
          "name": "stdout",
          "text": [
            "Output: [1, 2, 4]\n"
          ]
        }
      ]
    },
    {
      "cell_type": "code",
      "source": [
        "#5\n",
        "import heapq\n",
        "\n",
        "def merge(nums1, m, nums2, n):\n",
        "    # Remove the trailing zeros from nums1\n",
        "    nums1 = nums1[:m]\n",
        "    \n",
        "    # Merge nums1 and nums2 into a single sorted array\n",
        "    merged = heapq.merge(nums1, nums2)\n",
        "    \n",
        "    # Convert the merged iterator into a list\n",
        "    nums1[:] = list(merged)\n",
        "    \n",
        "    return nums1\n",
        "\n",
        "# Example usage\n",
        "nums1 = [1, 2, 3, 0, 0, 0]\n",
        "m = 3\n",
        "nums2 = [2, 5, 6]\n",
        "n = 3\n",
        "result = merge(nums1, m, nums2, n)\n",
        "print(\"Output:\", result)\n"
      ],
      "metadata": {
        "colab": {
          "base_uri": "https://localhost:8080/"
        },
        "id": "AYyDnVaSgUuB",
        "outputId": "6900033a-52be-44eb-e90a-ac2e600744e2"
      },
      "execution_count": 1,
      "outputs": [
        {
          "output_type": "stream",
          "name": "stdout",
          "text": [
            "Output: [1, 2, 2, 3, 5, 6]\n"
          ]
        }
      ]
    },
    {
      "cell_type": "code",
      "source": [
        "#6\n",
        "def containsDuplicate(nums):\n",
        "    num_set = set()\n",
        "    \n",
        "    for num in nums:\n",
        "        if num in num_set:\n",
        "            return True\n",
        "        num_set.add(num)\n",
        "    \n",
        "    return False\n",
        "\n",
        "nums = [1, 2, 3, 1]\n",
        "result = containsDuplicate(nums)\n",
        "print(\"Output:\", result)\n"
      ],
      "metadata": {
        "colab": {
          "base_uri": "https://localhost:8080/"
        },
        "id": "VjOLtQ9Nkiqz",
        "outputId": "bd5ddb68-4b90-480a-800a-fc482f02fe57"
      },
      "execution_count": 3,
      "outputs": [
        {
          "output_type": "stream",
          "name": "stdout",
          "text": [
            "Output: True\n"
          ]
        }
      ]
    },
    {
      "cell_type": "code",
      "source": [
        "#7\n",
        "def moveZeroes(nums):\n",
        "    # Initialize two pointers\n",
        "    left = 0\n",
        "    right = 0\n",
        "    \n",
        "    # Move non-zero elements to the left side of the array\n",
        "    while right < len(nums):\n",
        "        if nums[right] != 0:\n",
        "            nums[left] = nums[right]\n",
        "            left += 1\n",
        "        right += 1  \n",
        "    while left < len(nums):\n",
        "        nums[left] = 0\n",
        "        left += 1\n",
        "nums = [0, 1, 0, 3, 12]\n",
        "moveZeroes(nums)\n",
        "print(\"Output:\", nums)\n"
      ],
      "metadata": {
        "colab": {
          "base_uri": "https://localhost:8080/"
        },
        "id": "9xpywkh7lEa5",
        "outputId": "045d0a2e-645d-457b-e17e-3f4dbb0ef81f"
      },
      "execution_count": 4,
      "outputs": [
        {
          "output_type": "stream",
          "name": "stdout",
          "text": [
            "Output: [1, 3, 12, 0, 0]\n"
          ]
        }
      ]
    },
    {
      "cell_type": "code",
      "source": [
        "#8\n",
        "def findErrorNums(nums):\n",
        "    n = len(nums)\n",
        "    nums_set = set(nums)\n",
        "    duplicate_num = sum(nums) - sum(nums_set)\n",
        "    missing_num = (n * (n + 1)) // 2 - sum(nums_set)\n",
        "    return [duplicate_num, missing_num]\n",
        "\n",
        "# Example usage\n",
        "nums = [1, 2, 2, 4]\n",
        "result = findErrorNums(nums)\n",
        "print(\"Output:\", result)\n"
      ],
      "metadata": {
        "colab": {
          "base_uri": "https://localhost:8080/"
        },
        "id": "eqJwJxiMl0JR",
        "outputId": "f2a81b42-be4d-4294-85ef-f7bdf53107d8"
      },
      "execution_count": 5,
      "outputs": [
        {
          "output_type": "stream",
          "name": "stdout",
          "text": [
            "Output: [2, 3]\n"
          ]
        }
      ]
    },
    {
      "cell_type": "code",
      "source": [],
      "metadata": {
        "id": "u3ajtHH3mu5s"
      },
      "execution_count": null,
      "outputs": []
    }
  ]
}