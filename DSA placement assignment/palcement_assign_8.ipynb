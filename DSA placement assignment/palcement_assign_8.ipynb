{
  "nbformat": 4,
  "nbformat_minor": 0,
  "metadata": {
    "colab": {
      "provenance": []
    },
    "kernelspec": {
      "name": "python3",
      "display_name": "Python 3"
    },
    "language_info": {
      "name": "python"
    }
  },
  "cells": [
    {
      "cell_type": "code",
      "execution_count": 2,
      "metadata": {
        "colab": {
          "base_uri": "https://localhost:8080/"
        },
        "id": "N8FNyrYCsGb7",
        "outputId": "4910c051-0418-495c-a998-4856e6460c4e"
      },
      "outputs": [
        {
          "output_type": "stream",
          "name": "stdout",
          "text": [
            "231\n"
          ]
        }
      ],
      "source": [
        "def minimumDeleteSum(s1, s2):\n",
        "    m, n = len(s1), len(s2)\n",
        "    \n",
        "    dp = [[0] * (n + 1) for _ in range(m + 1)]\n",
        "    \n",
        "    for i in range(m - 1, -1, -1):\n",
        "        dp[i][n] = dp[i+1][n] + ord(s1[i])\n",
        "    for j in range(n - 1, -1, -1):\n",
        "        dp[m][j] = dp[m][j+1] + ord(s2[j])\n",
        "    \n",
        "    for i in range(m - 1, -1, -1):\n",
        "        for j in range(n - 1, -1, -1):\n",
        "            if s1[i] == s2[j]:\n",
        "                dp[i][j] = dp[i+1][j+1]\n",
        "            else:\n",
        "                dp[i][j] = min(dp[i+1][j] + ord(s1[i]), dp[i][j+1] + ord(s2[j]))\n",
        "    \n",
        "    return dp[0][0]\n",
        "s1 = \"sea\"\n",
        "s2 = \"eat\"\n",
        "result = minimumDeleteSum(s1, s2)\n",
        "print(result) "
      ]
    },
    {
      "cell_type": "code",
      "source": [
        "#2\n",
        "def isValid(s):\n",
        "    while '()' in s or '*':\n",
        "        s = s.replace('()', '')\n",
        "        s = s.replace('(*', '')\n",
        "        s = s.replace('*)', '')\n",
        "\n",
        "    return len(s) == 0\n",
        "s = \"()\"\n",
        "result = isValid(s)\n",
        "print(result)  \n"
      ],
      "metadata": {
        "id": "H1SAZMXZvIeP"
      },
      "execution_count": null,
      "outputs": []
    },
    {
      "cell_type": "code",
      "source": [
        "def minSteps(word1, word2):\n",
        "    m, n = len(word1), len(word2)\n",
        "\n",
        "    dp = [[0] * (n + 1) for _ in range(m + 1)]\n",
        "\n",
        "    for i in range(m + 1):\n",
        "        dp[i][0] = i\n",
        "    for j in range(n + 1):\n",
        "        dp[0][j] = j\n",
        "\n",
        "    for i in range(1, m + 1):\n",
        "        for j in range(1, n + 1):\n",
        "            if word1[i - 1] == word2[j - 1]:\n",
        "                dp[i][j] = dp[i - 1][j - 1]\n",
        "            else:\n",
        "                dp[i][j] = 1 + min(dp[i - 1][j], dp[i][j - 1])\n",
        "\n",
        "    return dp[m][n]\n",
        "word1 = \"sea\"\n",
        "word2 = \"eat\"\n",
        "result = minSteps(word1, word2)\n",
        "print(result)  \n",
        "\n"
      ],
      "metadata": {
        "colab": {
          "base_uri": "https://localhost:8080/"
        },
        "id": "lJ7I3gKg9gjh",
        "outputId": "a33f426e-0fa0-4590-ab24-1c4cdc066235"
      },
      "execution_count": 4,
      "outputs": [
        {
          "output_type": "stream",
          "name": "stdout",
          "text": [
            "2\n"
          ]
        }
      ]
    },
    {
      "cell_type": "code",
      "source": [
        "def compress(chars):\n",
        "    read = write = 0\n",
        "    count = 1\n",
        "\n",
        "    for read in range(1, len(chars)):\n",
        "        if chars[read] == chars[read - 1]:\n",
        "            count += 1\n",
        "        else:\n",
        "            chars[write] = chars[read - 1]\n",
        "            write += 1\n",
        "            if count > 1:\n",
        "                count_str = str(count)\n",
        "                for digit in count_str:\n",
        "                    chars[write] = digit\n",
        "                    write += 1\n",
        "            count = 1\n",
        "\n",
        "    chars[write] = chars[read]\n",
        "    write += 1\n",
        "    if count > 1:\n",
        "        count_str = str(count)\n",
        "        for digit in count_str:\n",
        "            chars[write] = digit\n",
        "            write += 1\n",
        "\n",
        "    return write\n",
        "chars = [\"a\", \"a\", \"b\", \"b\", \"c\", \"c\", \"c\"]\n",
        "new_length = compress(chars)\n",
        "print(new_length)  \n",
        "print(chars[:new_length]) \n"
      ],
      "metadata": {
        "colab": {
          "base_uri": "https://localhost:8080/"
        },
        "id": "yaW4tdc3_C3O",
        "outputId": "257a20d9-89c5-4d2d-9122-a510b391ca40"
      },
      "execution_count": 8,
      "outputs": [
        {
          "output_type": "stream",
          "name": "stdout",
          "text": [
            "6\n",
            "['a', '2', 'b', '2', 'c', '3']\n"
          ]
        }
      ]
    },
    {
      "cell_type": "code",
      "source": [
        "def decodeString(s):\n",
        "    stack = []\n",
        "    current_str = \"\"\n",
        "    current_num = 0\n",
        "\n",
        "    for char in s:\n",
        "        if char.isdigit():\n",
        "            current_num = current_num * 10 + int(char)\n",
        "        elif char == \"[\":\n",
        "            stack.append(current_str)\n",
        "            stack.append(current_num)\n",
        "            current_str = \"\"\n",
        "            current_num = 0\n",
        "        elif char == \"]\":\n",
        "            num = stack.pop()\n",
        "            prev_str = stack.pop()\n",
        "            current_str = prev_str + num * current_str\n",
        "        else:\n",
        "            current_str += char\n",
        "\n",
        "    return current_str\n",
        "s = \"3[a]2[bc]\"\n",
        "decoded = decodeString(s)\n",
        "print(decoded) \n"
      ],
      "metadata": {
        "colab": {
          "base_uri": "https://localhost:8080/"
        },
        "id": "Ak8nJq9TBNfk",
        "outputId": "4dfb5bc1-a275-4c76-959d-3fdcaa7d68bf"
      },
      "execution_count": 9,
      "outputs": [
        {
          "output_type": "stream",
          "name": "stdout",
          "text": [
            "aaabcbc\n"
          ]
        }
      ]
    },
    {
      "cell_type": "code",
      "source": [
        "def buddyStrings(s, goal):\n",
        "    if len(s) != len(goal):\n",
        "        return False\n",
        "\n",
        "    if s == goal:\n",
        "        return len(set(s)) < len(s)\n",
        "\n",
        "    mismatches = []\n",
        "    for i in range(len(s)):\n",
        "        if s[i] != goal[i]:\n",
        "            mismatches.append((s[i], goal[i]))\n",
        "\n",
        "        if len(mismatches) > 2:\n",
        "            return False\n",
        "\n",
        "    return len(mismatches) == 2 and mismatches[0] == mismatches[1][::-1]\n",
        "s = \"ab\"\n",
        "goal = \"ba\"\n",
        "result = buddyStrings(s, goal)\n",
        "print(result) \n"
      ],
      "metadata": {
        "colab": {
          "base_uri": "https://localhost:8080/"
        },
        "id": "XCAs6JlhBfJ6",
        "outputId": "fca5d941-af17-48d3-96ac-ae0720cf2f65"
      },
      "execution_count": 10,
      "outputs": [
        {
          "output_type": "stream",
          "name": "stdout",
          "text": [
            "True\n"
          ]
        }
      ]
    },
    {
      "cell_type": "code",
      "source": [],
      "metadata": {
        "id": "_qkyrKxnBrdG"
      },
      "execution_count": null,
      "outputs": []
    }
  ]
}