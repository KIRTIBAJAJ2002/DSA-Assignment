{
  "nbformat": 4,
  "nbformat_minor": 0,
  "metadata": {
    "colab": {
      "provenance": []
    },
    "kernelspec": {
      "name": "python3",
      "display_name": "Python 3"
    },
    "language_info": {
      "name": "python"
    }
  },
  "cells": [
    {
      "cell_type": "code",
      "execution_count": 2,
      "metadata": {
        "colab": {
          "base_uri": "https://localhost:8080/"
        },
        "id": "tCWhfgQnomCG",
        "outputId": "3ad92d88-e67b-430b-bd91-99531a88ebc5"
      },
      "outputs": [
        {
          "output_type": "stream",
          "name": "stdout",
          "text": [
            "4\n"
          ]
        }
      ],
      "source": [
        "#1\n",
        "def arrayPairSum(nums):\n",
        "    nums.sort()  # Sort the array in non-decreasing order\n",
        "    max_sum = 0\n",
        "\n",
        "    for i in range(0, len(nums), 2):\n",
        "        max_sum += nums[i]\n",
        "\n",
        "    return max_sum\n",
        "nums = [1, 4, 3, 2]\n",
        "print(arrayPairSum(nums))  \n"
      ]
    },
    {
      "cell_type": "code",
      "source": [
        "#2\n",
        "def maxDifferentTypesOfCandies(candyType):\n",
        "    max_eat = len(candyType) // 2\n",
        "    unique_candies = set()\n",
        "\n",
        "    for candy in candyType:\n",
        "        unique_candies.add(candy)\n",
        "\n",
        "    return min(max_eat, len(unique_candies))\n",
        "candyType = [1, 1, 2, 2, 3, 3]\n",
        "print(maxDifferentTypesOfCandies(candyType))  \n"
      ],
      "metadata": {
        "colab": {
          "base_uri": "https://localhost:8080/"
        },
        "id": "8KDNOsyioog3",
        "outputId": "ccb03dc9-5d27-497c-c9d6-e59d870931e6"
      },
      "execution_count": 4,
      "outputs": [
        {
          "output_type": "stream",
          "name": "stdout",
          "text": [
            "3\n"
          ]
        }
      ]
    },
    {
      "cell_type": "code",
      "source": [
        "#3\n",
        "def findLHS(nums):\n",
        "    num_counts = {}\n",
        "    max_length = 0\n",
        "\n",
        "    for num in nums:\n",
        "        num_counts[num] = num_counts.get(num, 0) + 1\n",
        "\n",
        "    for num in num_counts:\n",
        "        if num + 1 in num_counts:\n",
        "            length = num_counts[num] + num_counts[num + 1]\n",
        "            max_length = max(max_length, length)\n",
        "\n",
        "    return max_length\n",
        "nums = [1, 3, 2, 2, 5, 2, 3, 7]\n",
        "print(findLHS(nums))  \n"
      ],
      "metadata": {
        "colab": {
          "base_uri": "https://localhost:8080/"
        },
        "id": "5OckwSjDqFMc",
        "outputId": "1907f08a-8b14-4429-e226-0a3cbd8d3900"
      },
      "execution_count": 5,
      "outputs": [
        {
          "output_type": "stream",
          "name": "stdout",
          "text": [
            "5\n"
          ]
        }
      ]
    },
    {
      "cell_type": "code",
      "source": [
        "#4\n",
        "def canPlaceFlowers(flowerbed, n):\n",
        "    count = 0\n",
        "    length = len(flowerbed)\n",
        "    i = 0\n",
        "\n",
        "    while i < length:\n",
        "        if flowerbed[i] == 0:\n",
        "            if i == 0 or flowerbed[i - 1] == 0:\n",
        "                if i == length - 1 or flowerbed[i + 1] == 0:\n",
        "                    count += 1\n",
        "                    flowerbed[i] = 1\n",
        "                    i += 1 \n",
        "        i += 1\n",
        "\n",
        "    return count >= n\n",
        "flowerbed = [1, 0, 0, 0, 1]\n",
        "n = 1\n",
        "print(canPlaceFlowers(flowerbed, n))  \n"
      ],
      "metadata": {
        "colab": {
          "base_uri": "https://localhost:8080/"
        },
        "id": "amLZc-bhryy7",
        "outputId": "d5993bb6-d3dd-4a46-f0ad-ced9c18dae3b"
      },
      "execution_count": 7,
      "outputs": [
        {
          "output_type": "stream",
          "name": "stdout",
          "text": [
            "True\n"
          ]
        }
      ]
    },
    {
      "cell_type": "code",
      "source": [
        "#5\n",
        "def maximumProduct(nums):\n",
        "    nums.sort()\n",
        "    product1 = nums[-1] * nums[-2] * nums[-3]\n",
        "    product2 = nums[0] * nums[1] * nums[-1]\n",
        "    return max(product1, product2)\n",
        "nums = [1, 2, 3,4,5]\n",
        "print(maximumProduct(nums))  "
      ],
      "metadata": {
        "colab": {
          "base_uri": "https://localhost:8080/"
        },
        "id": "ewclYqsosY57",
        "outputId": "744fb670-ff2b-4961-cfda-367c99aff53d"
      },
      "execution_count": 8,
      "outputs": [
        {
          "output_type": "stream",
          "name": "stdout",
          "text": [
            "60\n"
          ]
        }
      ]
    },
    {
      "cell_type": "code",
      "source": [
        "def search(nums, target):\n",
        "    left, right = 0, len(nums) - 1\n",
        "\n",
        "    while left <= right:\n",
        "        mid = (left + right) // 2\n",
        "\n",
        "        if nums[mid] == target:\n",
        "            return mid\n",
        "        elif nums[mid] > target:\n",
        "            right = mid - 1\n",
        "        else:\n",
        "            left = mid + 1\n",
        "\n",
        "    return -1\n",
        "nums = [-1, 0, 3, 5, 9, 12]\n",
        "target = 9\n",
        "print(search(nums, target))  \n"
      ],
      "metadata": {
        "colab": {
          "base_uri": "https://localhost:8080/"
        },
        "id": "JbIdOWwqs7DV",
        "outputId": "7f4c243a-8d26-4c1c-84ad-78585d1975aa"
      },
      "execution_count": 9,
      "outputs": [
        {
          "output_type": "stream",
          "name": "stdout",
          "text": [
            "4\n"
          ]
        }
      ]
    },
    {
      "cell_type": "code",
      "source": [
        "def isMonotonic(nums):\n",
        "    is_increasing = True\n",
        "    is_decreasing = True\n",
        "\n",
        "    for i in range(1, len(nums)):\n",
        "        if nums[i] > nums[i - 1]:\n",
        "            is_decreasing = False\n",
        "        if nums[i] < nums[i - 1]:\n",
        "            is_increasing = False\n",
        "\n",
        "    return is_increasing or is_decreasing\n",
        "nums = [1, 2, 2, 3]\n",
        "print(isMonotonic(nums))  \n"
      ],
      "metadata": {
        "colab": {
          "base_uri": "https://localhost:8080/"
        },
        "id": "Y4oORRM8tZq3",
        "outputId": "57c3c152-df27-4838-952e-875cde888dc3"
      },
      "execution_count": 10,
      "outputs": [
        {
          "output_type": "stream",
          "name": "stdout",
          "text": [
            "True\n"
          ]
        }
      ]
    },
    {
      "cell_type": "code",
      "source": [],
      "metadata": {
        "id": "4lUKL-ECtm0e"
      },
      "execution_count": null,
      "outputs": []
    }
  ]
}