{
  "nbformat": 4,
  "nbformat_minor": 0,
  "metadata": {
    "colab": {
      "provenance": []
    },
    "kernelspec": {
      "name": "python3",
      "display_name": "Python 3"
    },
    "language_info": {
      "name": "python"
    }
  },
  "cells": [
    {
      "cell_type": "code",
      "execution_count": 1,
      "metadata": {
        "id": "NjMYRl0byvg0",
        "colab": {
          "base_uri": "https://localhost:8080/"
        },
        "outputId": "9ae6140d-8a8f-416c-9955-19b8f6c83fd6"
      },
      "outputs": [
        {
          "output_type": "stream",
          "name": "stdout",
          "text": [
            "[[1, 2], [3, 4]]\n"
          ]
        }
      ],
      "source": [
        "#1\n",
        "def convert_to_2d_array(original, m, n):\n",
        "    if len(original) != m * n:\n",
        "        return []\n",
        "\n",
        "    result = [[0] * n for _ in range(m)]\n",
        "    row = 0\n",
        "    col = 0\n",
        "\n",
        "    for i in range(len(original)):\n",
        "        result[row][col] = original[i]\n",
        "        col += 1\n",
        "        if col == n:\n",
        "            col = 0\n",
        "            row += 1\n",
        "\n",
        "    return result\n",
        "original = [1, 2, 3, 4]\n",
        "m = 2\n",
        "n = 2\n",
        "result = convert_to_2d_array(original, m, n)\n",
        "print(result)\n"
      ]
    },
    {
      "cell_type": "code",
      "source": [
        "#2\n",
        "def arrangeCoins(n):\n",
        "    left = 1\n",
        "    right = n\n",
        "\n",
        "    while left <= right:\n",
        "        mid = (left + right) // 2\n",
        "        total_coins = (mid * (mid + 1)) // 2\n",
        "\n",
        "        if total_coins <= n:\n",
        "            left = mid + 1\n",
        "        else:\n",
        "            right = mid - 1\n",
        "\n",
        "    return right\n",
        "n = 5\n",
        "result = arrangeCoins(n)\n",
        "print(result)\n"
      ],
      "metadata": {
        "colab": {
          "base_uri": "https://localhost:8080/"
        },
        "id": "8uFKRMfoB7Tp",
        "outputId": "5972cde0-b0e0-4085-f617-2432eca7566a"
      },
      "execution_count": 4,
      "outputs": [
        {
          "output_type": "stream",
          "name": "stdout",
          "text": [
            "2\n"
          ]
        }
      ]
    },
    {
      "cell_type": "code",
      "source": [
        "#3\n",
        "def sortedSquares(nums):\n",
        "    n = len(nums)\n",
        "    result = [0] * n\n",
        "    left = 0\n",
        "    right = n - 1\n",
        "\n",
        "    for i in range(n - 1, -1, -1):\n",
        "        if abs(nums[left]) >= abs(nums[right]):\n",
        "            result[i] = nums[left] ** 2\n",
        "            left += 1\n",
        "        else:\n",
        "            result[i] = nums[right] ** 2\n",
        "            right -= 1\n",
        "\n",
        "    return result\n",
        "nums = [-4, -1, 0, 3, 10]\n",
        "result = sortedSquares(nums)\n",
        "print(result)\n"
      ],
      "metadata": {
        "colab": {
          "base_uri": "https://localhost:8080/"
        },
        "id": "ocpBp7_fCKV8",
        "outputId": "c1248ad5-4b03-4869-9ade-686ed4890ebf"
      },
      "execution_count": 5,
      "outputs": [
        {
          "output_type": "stream",
          "name": "stdout",
          "text": [
            "[0, 1, 9, 16, 100]\n"
          ]
        }
      ]
    },
    {
      "cell_type": "code",
      "source": [
        "#4\n",
        "def findDisappearedNumbers(nums1, nums2):\n",
        "    nums1_set = set(nums1)\n",
        "    nums2_set = set(nums2)\n",
        "\n",
        "    nums1_not_in_nums2 = list(nums1_set - nums2_set)\n",
        "    nums2_not_in_nums1 = list(nums2_set - nums1_set)\n",
        "\n",
        "    return [nums1_not_in_nums2, nums2_not_in_nums1]\n",
        "nums1 = [1, 2, 3]\n",
        "nums2 = [2, 4, 6]\n",
        "result = findDisappearedNumbers(nums1, nums2)\n",
        "print(result)\n"
      ],
      "metadata": {
        "colab": {
          "base_uri": "https://localhost:8080/"
        },
        "id": "laWknwFgCjbE",
        "outputId": "1596d68d-7b7f-4be5-d7a4-e978b2e3184a"
      },
      "execution_count": 6,
      "outputs": [
        {
          "output_type": "stream",
          "name": "stdout",
          "text": [
            "[[1, 3], [4, 6]]\n"
          ]
        }
      ]
    },
    {
      "cell_type": "code",
      "source": [
        "#5\n",
        "def findTheDistanceValue(arr1, arr2, d):\n",
        "    count = 0\n",
        "\n",
        "    for num1 in arr1:\n",
        "        found = False\n",
        "        for num2 in arr2:\n",
        "            if abs(num1 - num2) <= d:\n",
        "                found = True\n",
        "                break\n",
        "\n",
        "        if not found:\n",
        "            count += 1\n",
        "\n",
        "    return count\n",
        "arr1 = [4, 5, 8]\n",
        "arr2 = [10, 9, 1, 8]\n",
        "d = 2\n",
        "result = findTheDistanceValue(arr1, arr2, d)\n",
        "print(result)\n",
        "\n"
      ],
      "metadata": {
        "colab": {
          "base_uri": "https://localhost:8080/"
        },
        "id": "5e2FfqG3GKm_",
        "outputId": "a7f688a2-394f-4c98-af48-0d49bad54581"
      },
      "execution_count": 7,
      "outputs": [
        {
          "output_type": "stream",
          "name": "stdout",
          "text": [
            "2\n"
          ]
        }
      ]
    },
    {
      "cell_type": "code",
      "source": [
        "#6\n",
        "def findDuplicates(nums):\n",
        "    result = []\n",
        "\n",
        "    for num in nums:\n",
        "        index = abs(num) - 1\n",
        "        if nums[index] > 0:\n",
        "            result.append(abs(num))\n",
        "            nums[index] = -nums[index]\n",
        "\n",
        "    return result\n",
        "nums = [4, 3, 2, 7, 8, 2, 3, 1]\n",
        "result = findDuplicates(nums)\n",
        "print(result)\n",
        "\n"
      ],
      "metadata": {
        "colab": {
          "base_uri": "https://localhost:8080/"
        },
        "id": "vR-JxbyTGcRo",
        "outputId": "5eae2aaf-622b-4802-b550-59b3baf8c81c"
      },
      "execution_count": 8,
      "outputs": [
        {
          "output_type": "stream",
          "name": "stdout",
          "text": [
            "[4, 3, 2, 7, 8, 1]\n"
          ]
        }
      ]
    },
    {
      "cell_type": "code",
      "source": [
        "#7\n",
        "def findMin(nums):\n",
        "    n = len(nums)\n",
        "    left = 0\n",
        "    right = n - 1\n",
        "\n",
        "    # Check if the array is not rotated\n",
        "    if nums[left] < nums[right]:\n",
        "        return nums[left]\n",
        "\n",
        "    # Perform binary search\n",
        "    while left < right:\n",
        "        mid = (left + right) // 2\n",
        "\n",
        "        if nums[mid] > nums[right]:\n",
        "            left = mid + 1\n",
        "        else:\n",
        "            right = mid\n",
        "\n",
        "    return nums[left]\n",
        "nums = [3, 4, 5, 1, 2]\n",
        "result = findMin(nums)\n",
        "print(result)\n"
      ],
      "metadata": {
        "colab": {
          "base_uri": "https://localhost:8080/"
        },
        "id": "2F0VhoteG44u",
        "outputId": "79977376-a39e-4990-b3e1-1d0bf9cf5aad"
      },
      "execution_count": 9,
      "outputs": [
        {
          "output_type": "stream",
          "name": "stdout",
          "text": [
            "1\n"
          ]
        }
      ]
    },
    {
      "cell_type": "code",
      "source": [
        "#8\n",
        "def findOriginalArray(changed):\n",
        "    n = len(changed)\n",
        "\n",
        "    # Check if the length of changed is odd\n",
        "    if n % 2 != 0:\n",
        "        return []\n",
        "\n",
        "    numsSet = set(changed)\n",
        "\n",
        "    original = []\n",
        "    for num in changed:\n",
        "        double = num * 2\n",
        "        if double in numsSet:\n",
        "            numsSet.remove(double)\n",
        "            original.append(num)\n",
        "\n",
        "    # Check if all elements in changed were used in original\n",
        "    if len(original) != n // 2:\n",
        "        return []\n",
        "\n",
        "    return original\n"
      ],
      "metadata": {
        "id": "YQJlvhYVHB7k"
      },
      "execution_count": 10,
      "outputs": []
    },
    {
      "cell_type": "code",
      "source": [],
      "metadata": {
        "id": "k1uWfz4FHeE2"
      },
      "execution_count": null,
      "outputs": []
    }
  ]
}